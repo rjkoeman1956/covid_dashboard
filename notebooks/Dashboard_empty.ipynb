{
 "cells": [
  {
   "cell_type": "code",
   "execution_count": 1,
   "id": "abe7dc64",
   "metadata": {},
   "outputs": [
    {
     "data": {
      "application/vnd.jupyter.widget-view+json": {
       "model_id": "edc1fff6d27246ee99066d0c36255e1c",
       "version_major": 2,
       "version_minor": 0
      },
      "text/plain": [
       "Tab(children=(Output(), Output(), Output(), Output(), Output()), selected_index=0, titles=('Dashboard info', '…"
      ]
     },
     "metadata": {},
     "output_type": "display_data"
    }
   ],
   "source": [
    "import ipywidgets as widgets\n",
    "from IPython.display import display\n",
    "\n",
    "# Maak 5 lege tabs\n",
    "tab_contents = ['Dashboard info', 'Covid Data', 'Covid Heatmap', 'Sewer Data', 'Dataset installation']\n",
    "children = [widgets.Output() for _ in tab_contents]\n",
    "tab = widgets.Tab(children=children)\n",
    "for i, title in enumerate(tab_contents):\n",
    "    tab.set_title(i, title)\n",
    "display(tab)"
   ]
  },
  {
   "cell_type": "code",
   "execution_count": null,
   "id": "902036ee-13c1-4270-8b0c-b1a224b2d01f",
   "metadata": {},
   "outputs": [],
   "source": []
  }
 ],
 "metadata": {
  "kernelspec": {
   "display_name": "Python 3 (ipykernel)",
   "language": "python",
   "name": "python3"
  },
  "language_info": {
   "codemirror_mode": {
    "name": "ipython",
    "version": 3
   },
   "file_extension": ".py",
   "mimetype": "text/x-python",
   "name": "python",
   "nbconvert_exporter": "python",
   "pygments_lexer": "ipython3",
   "version": "3.12.2"
  },
  "widgets": {
   "application/vnd.jupyter.widget-state+json": {
    "state": {
     "3ec8c480d0de45c69318ec786963fb62": {
      "model_module": "@jupyter-widgets/output",
      "model_module_version": "1.0.0",
      "model_name": "OutputModel",
      "state": {
       "layout": "IPY_MODEL_8d6c039f3caf4e06a15e3844863fdd46"
      }
     },
     "4f9862addd4843e69e1eca49c618691a": {
      "model_module": "@jupyter-widgets/base",
      "model_module_version": "2.0.0",
      "model_name": "LayoutModel",
      "state": {}
     },
     "635a3ffe132644c791db02eccf688b0c": {
      "model_module": "@jupyter-widgets/base",
      "model_module_version": "2.0.0",
      "model_name": "LayoutModel",
      "state": {}
     },
     "66eaad200546496fb7b5086fa6800fd7": {
      "model_module": "@jupyter-widgets/base",
      "model_module_version": "2.0.0",
      "model_name": "LayoutModel",
      "state": {}
     },
     "84ae0387bf754b808185020282b0b1ac": {
      "model_module": "@jupyter-widgets/output",
      "model_module_version": "1.0.0",
      "model_name": "OutputModel",
      "state": {
       "layout": "IPY_MODEL_635a3ffe132644c791db02eccf688b0c"
      }
     },
     "8d6c039f3caf4e06a15e3844863fdd46": {
      "model_module": "@jupyter-widgets/base",
      "model_module_version": "2.0.0",
      "model_name": "LayoutModel",
      "state": {}
     },
     "98d46a1feb94438ca651c0400743633e": {
      "model_module": "@jupyter-widgets/output",
      "model_module_version": "1.0.0",
      "model_name": "OutputModel",
      "state": {
       "layout": "IPY_MODEL_66eaad200546496fb7b5086fa6800fd7"
      }
     },
     "ccfea5ba3ad74b59a0462f9a68bb46af": {
      "model_module": "@jupyter-widgets/base",
      "model_module_version": "2.0.0",
      "model_name": "LayoutModel",
      "state": {}
     },
     "d1d9665e56d04397b18b74a06974b821": {
      "model_module": "@jupyter-widgets/output",
      "model_module_version": "1.0.0",
      "model_name": "OutputModel",
      "state": {
       "layout": "IPY_MODEL_4f9862addd4843e69e1eca49c618691a"
      }
     },
     "edc1fff6d27246ee99066d0c36255e1c": {
      "model_module": "@jupyter-widgets/controls",
      "model_module_version": "2.0.0",
      "model_name": "TabModel",
      "state": {
       "children": [
        "IPY_MODEL_84ae0387bf754b808185020282b0b1ac",
        "IPY_MODEL_f19b88b9e62f4578bdfe738dbc858d99",
        "IPY_MODEL_3ec8c480d0de45c69318ec786963fb62",
        "IPY_MODEL_98d46a1feb94438ca651c0400743633e",
        "IPY_MODEL_d1d9665e56d04397b18b74a06974b821"
       ],
       "layout": "IPY_MODEL_ccfea5ba3ad74b59a0462f9a68bb46af",
       "selected_index": 0,
       "titles": [
        "Dashboard info",
        "Covid Data",
        "Covid Heatmap",
        "Sewer Data",
        "Dataset installation"
       ]
      }
     },
     "ef2d22fe4767401dbb6f2884a5a736b2": {
      "model_module": "@jupyter-widgets/base",
      "model_module_version": "2.0.0",
      "model_name": "LayoutModel",
      "state": {}
     },
     "f19b88b9e62f4578bdfe738dbc858d99": {
      "model_module": "@jupyter-widgets/output",
      "model_module_version": "1.0.0",
      "model_name": "OutputModel",
      "state": {
       "layout": "IPY_MODEL_ef2d22fe4767401dbb6f2884a5a736b2"
      }
     }
    },
    "version_major": 2,
    "version_minor": 0
   }
  }
 },
 "nbformat": 4,
 "nbformat_minor": 5
}
