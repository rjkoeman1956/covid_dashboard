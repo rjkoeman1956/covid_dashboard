{
 "cells": [
  {
   "cell_type": "code",
   "execution_count": null,
   "id": "b8dc475f",
   "metadata": {},
   "outputs": [],
   "source": [
    "import sys\n",
    "from pathlib import Path\n",
    "\n",
    "# Zoek config.py relatief, ook als we in notebooks/ zitten\n",
    "possible_config_path = Path(\"../config.py\").resolve()\n",
    "\n",
    "if possible_config_path.exists():\n",
    "    config_dir = possible_config_path.parent\n",
    "    if str(config_dir) not in sys.path:\n",
    "        sys.path.insert(0, str(config_dir))\n",
    "    try:\n",
    "        from config import SRC_DIR\n",
    "        if str(SRC_DIR) not in sys.path:\n",
    "            sys.path.insert(0, str(SRC_DIR))\n",
    "        print(\"✅ config.py en SRC_DIR toegevoegd aan sys.path:\", SRC_DIR)\n",
    "    except Exception as e:\n",
    "        print(\"⚠️ Fout bij importeren van config.py:\", e)\n",
    "else:\n",
    "    print(\"❌ config.py niet gevonden op verwachte locatie:\", possible_config_path)\n"
   ]
  },
  {
   "cell_type": "markdown",
   "id": "012bccec",
   "metadata": {},
   "source": [
    "# 🐞 CSV Debugoverzicht\n",
    "Automatische controle van alle CSV-bestanden in `data/csv/`."
   ]
  },
  {
   "cell_type": "code",
   "execution_count": null,
   "id": "b59fae00",
   "metadata": {},
   "outputs": [],
   "source": [
    "import pandas as pd\n",
    "import os\n",
    "\n",
    "def inspect_csv(path):\n",
    "    if not os.path.exists(path):\n",
    "        print(f\"❌ Ontbreekt: {path}\")\n",
    "        return\n",
    "    try:\n",
    "        df = pd.read_csv(path)\n",
    "        print(f\"✅ {path} — {df.shape[0]} rijen × {df.shape[1]} kolommen\")\n",
    "        print(f\"Kolommen: {list(df.columns)}\\n\")\n",
    "    except Exception as e:\n",
    "        print(f\"⚠️ Fout bij lezen van {path}: {e}\")"
   ]
  },
  {
   "cell_type": "code",
   "execution_count": null,
   "id": "a4074f65-c36a-4299-aa41-933d69d9f33b",
   "metadata": {},
   "outputs": [],
   "source": [
    "# Automatisch alle CSV-bestanden vinden en inspecteren\n",
    "base_dir = 'data/csv'\n",
    "for root, dirs, files in os.walk(base_dir):\n",
    "    for file in files:\n",
    "        if file.endswith('.csv'):\n",
    "            inspect_csv(os.path.join(root, file))"
   ]
  }
 ],
 "metadata": {
  "kernelspec": {
   "display_name": "Python 3 (ipykernel)",
   "language": "python",
   "name": "python3"
  },
  "language_info": {
   "codemirror_mode": {
    "name": "ipython",
    "version": 3
   },
   "file_extension": ".py",
   "mimetype": "text/x-python",
   "name": "python",
   "nbconvert_exporter": "python",
   "pygments_lexer": "ipython3",
   "version": "3.12.2"
  },
  "widgets": {
   "application/vnd.jupyter.widget-state+json": {
    "state": {},
    "version_major": 2,
    "version_minor": 0
   }
  }
 },
 "nbformat": 4,
 "nbformat_minor": 5
}
