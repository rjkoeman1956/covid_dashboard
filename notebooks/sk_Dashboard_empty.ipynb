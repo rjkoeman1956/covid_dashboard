{
 "cells": [
  {
   "cell_type": "code",
   "execution_count": null,
   "id": "abe7dc64",
   "metadata": {},
   "outputs": [],
   "source": [
    "import ipywidgets as widgets\n",
    "from IPython.display import display\n",
    "\n",
    "# Maak 5 lege tabs\n",
    "tab_contents = ['Dashboard info', 'Covid Data', 'Covid Heatmap', 'Sewer Data', 'Dataset installation']\n",
    "children = [widgets.Output() for _ in tab_contents]\n",
    "tab = widgets.Tab(children=children)\n",
    "for i, title in enumerate(tab_contents):\n",
    "    tab.set_title(i, title)\n",
    "display(tab)"
   ]
  }
 ],
 "metadata": {
  "kernelspec": {
   "display_name": "Python 3 (ipykernel)",
   "language": "python",
   "name": "python3"
  },
  "language_info": {
   "codemirror_mode": {
    "name": "ipython",
    "version": 3
   },
   "file_extension": ".py",
   "mimetype": "text/x-python",
   "name": "python",
   "nbconvert_exporter": "python",
   "pygments_lexer": "ipython3",
   "version": "3.12.2"
  },
  "widgets": {
   "application/vnd.jupyter.widget-state+json": {
    "state": {},
    "version_major": 2,
    "version_minor": 0
   }
  }
 },
 "nbformat": 4,
 "nbformat_minor": 5
}
