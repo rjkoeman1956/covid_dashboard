{
 "cells": [
  {
   "cell_type": "code",
   "execution_count": 1,
   "id": "abe7dc64",
   "metadata": {},
   "outputs": [
    {
     "data": {
      "application/vnd.jupyter.widget-view+json": {
       "model_id": "accb9c902f7a45c08be4937dadc4eadc",
       "version_major": 2,
       "version_minor": 0
      },
      "text/plain": [
       "Tab(children=(Output(), Output(), Output(), Output(), Output()), selected_index=0, titles=('Dashboard info', '…"
      ]
     },
     "metadata": {},
     "output_type": "display_data"
    }
   ],
   "source": [
    "import ipywidgets as widgets\n",
    "from IPython.display import display\n",
    "\n",
    "# Maak 5 lege tabs\n",
    "tab_contents = ['Dashboard info', 'Covid Data', 'Covid Heatmap', 'Sewer Data', 'Dataset installation']\n",
    "children = [widgets.Output() for _ in tab_contents]\n",
    "tab = widgets.Tab(children=children)\n",
    "for i, title in enumerate(tab_contents):\n",
    "    tab.set_title(i, title)\n",
    "display(tab)"
   ]
  }
 ],
 "metadata": {
  "kernelspec": {
   "display_name": "Python 3 (ipykernel)",
   "language": "python",
   "name": "python3"
  },
  "language_info": {
   "codemirror_mode": {
    "name": "ipython",
    "version": 3
   },
   "file_extension": ".py",
   "mimetype": "text/x-python",
   "name": "python",
   "nbconvert_exporter": "python",
   "pygments_lexer": "ipython3",
   "version": "3.12.3"
  },
  "widgets": {
   "application/vnd.jupyter.widget-state+json": {
    "state": {
     "2a0945ec65184d60bb116d58216123fc": {
      "model_module": "@jupyter-widgets/base",
      "model_module_version": "2.0.0",
      "model_name": "LayoutModel",
      "state": {}
     },
     "35788db8129b41cbb49fad0dd66c9bd3": {
      "model_module": "@jupyter-widgets/output",
      "model_module_version": "1.0.0",
      "model_name": "OutputModel",
      "state": {
       "layout": "IPY_MODEL_e1bbabfe122347bbae721287155ea1d3"
      }
     },
     "388d56e51e9941a1890507c9ae358f66": {
      "model_module": "@jupyter-widgets/base",
      "model_module_version": "2.0.0",
      "model_name": "LayoutModel",
      "state": {}
     },
     "3a6a93f1306748afb58bcfc58b75cb21": {
      "model_module": "@jupyter-widgets/output",
      "model_module_version": "1.0.0",
      "model_name": "OutputModel",
      "state": {
       "layout": "IPY_MODEL_388d56e51e9941a1890507c9ae358f66"
      }
     },
     "3b284a9cf1bb4c43b411a4ee88644c88": {
      "model_module": "@jupyter-widgets/output",
      "model_module_version": "1.0.0",
      "model_name": "OutputModel",
      "state": {
       "layout": "IPY_MODEL_2a0945ec65184d60bb116d58216123fc"
      }
     },
     "72171cb6c9984c95ad49d3c692eb9a86": {
      "model_module": "@jupyter-widgets/base",
      "model_module_version": "2.0.0",
      "model_name": "LayoutModel",
      "state": {}
     },
     "accb9c902f7a45c08be4937dadc4eadc": {
      "model_module": "@jupyter-widgets/controls",
      "model_module_version": "2.0.0",
      "model_name": "TabModel",
      "state": {
       "children": [
        "IPY_MODEL_3a6a93f1306748afb58bcfc58b75cb21",
        "IPY_MODEL_bd3e54e30f6949c6bf4c6a10f021e3cb",
        "IPY_MODEL_35788db8129b41cbb49fad0dd66c9bd3",
        "IPY_MODEL_fea2bdfe94aa4d9bbeda75cc15ae2301",
        "IPY_MODEL_3b284a9cf1bb4c43b411a4ee88644c88"
       ],
       "layout": "IPY_MODEL_72171cb6c9984c95ad49d3c692eb9a86",
       "selected_index": 1,
       "titles": [
        "Dashboard info",
        "Covid Data",
        "Covid Heatmap",
        "Sewer Data",
        "Dataset installation"
       ]
      }
     },
     "bd3e54e30f6949c6bf4c6a10f021e3cb": {
      "model_module": "@jupyter-widgets/output",
      "model_module_version": "1.0.0",
      "model_name": "OutputModel",
      "state": {
       "layout": "IPY_MODEL_c18f58934fba42dda33481eb3d2a6ca8"
      }
     },
     "c18f58934fba42dda33481eb3d2a6ca8": {
      "model_module": "@jupyter-widgets/base",
      "model_module_version": "2.0.0",
      "model_name": "LayoutModel",
      "state": {}
     },
     "e1bbabfe122347bbae721287155ea1d3": {
      "model_module": "@jupyter-widgets/base",
      "model_module_version": "2.0.0",
      "model_name": "LayoutModel",
      "state": {}
     },
     "fe84e9991d3546118fdbe91f04cf329d": {
      "model_module": "@jupyter-widgets/base",
      "model_module_version": "2.0.0",
      "model_name": "LayoutModel",
      "state": {}
     },
     "fea2bdfe94aa4d9bbeda75cc15ae2301": {
      "model_module": "@jupyter-widgets/output",
      "model_module_version": "1.0.0",
      "model_name": "OutputModel",
      "state": {
       "layout": "IPY_MODEL_fe84e9991d3546118fdbe91f04cf329d"
      }
     }
    },
    "version_major": 2,
    "version_minor": 0
   }
  }
 },
 "nbformat": 4,
 "nbformat_minor": 5
}
