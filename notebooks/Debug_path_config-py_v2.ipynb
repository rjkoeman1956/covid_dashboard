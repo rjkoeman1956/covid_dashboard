{
 "cells": [
  {
   "cell_type": "markdown",
   "id": "8f110981",
   "metadata": {},
   "source": [
    "# 🧪 Debugnotebook – config.py - v002"
   ]
  },
  {
   "cell_type": "code",
   "execution_count": null,
   "id": "32ba5821-83a6-4b45-b963-17d4c5c9181b",
   "metadata": {},
   "outputs": [],
   "source": [
    "# 📦 Setup paths\n",
    "import sys\n",
    "from pathlib import Path\n",
    "\n",
    "project_root = Path().resolve().parent\n",
    "config_path = project_root / 'config.py'\n",
    "\n",
    "if config_path.exists() and str(project_root) not in sys.path:\n",
    "    sys.path.insert(0, str(project_root))\n",
    "    print('✅ PROJECT_ROOT toegevoegd aan sys.path')"
   ]
  },
  {
   "cell_type": "code",
   "execution_count": null,
   "id": "c9060251-8181-48da-a9e0-93f1a9bb4170",
   "metadata": {},
   "outputs": [],
   "source": [
    "from config import PROJECT_ROOT, SRC_DIR, NOTEBOOKS_DIR, CSV_DIR, SHAPEFILES_DIR, EXPORTS_DIR\n",
    "\n",
    "if PROJECT_ROOT.exists() and str(PROJECT_ROOT) not in sys.path:\n",
    "    sys.path.insert(0, str(PROJECT_ROOT))\n",
    "    print('✅ PROJECT_ROOT alsnog toegevoegd aan sys.path')\n",
    "\n",
    "if SRC_DIR.exists() and str(SRC_DIR) not in sys.path:\n",
    "    sys.path.insert(0, str(SRC_DIR))\n",
    "    print('✅ SRC_DIR is nu toegevoegd aan sys.path')\n",
    "\n",
    "if NOTEBOOKS_DIR.exists() and str(NOTEBOOKS_DIR) not in sys.path:\n",
    "    sys.path.insert(0, str(NOTEBOOKS_DIR))\n",
    "    print('✅ NOTEBOOKS_DIR is nu toegevoegd aan sys.path')\n",
    "\n",
    "if CSV_DIR.exists() and str(CSV_DIR) not in sys.path:\n",
    "    sys.path.insert(0, str(CSV_DIR))\n",
    "    print('✅ CSV_DIR is nu toegevoegd aan sys.path')\n",
    "\n",
    "if SHAPEFILES_DIR.exists() and str(SHAPEFILES_DIR) not in sys.path:\n",
    "    sys.path.insert(0, str(SHAPEFILES_DIR))\n",
    "    print('✅ SHAPEFILES_DIR is nu toegevoegd aan sys.path')\n",
    "\n",
    "if EXPORTS_DIR.exists() and str(EXPORTS_DIR) not in sys.path:\n",
    "    sys.path.insert(0, str(EXPORTS_DIR))\n",
    "    print('✅ EXPORTS_DIR is nu toegevoegd aan sys.path')"
   ]
  },
  {
   "cell_type": "code",
   "execution_count": null,
   "id": "de086bbf",
   "metadata": {
    "scrolled": true
   },
   "outputs": [],
   "source": [
    "# Test config.py import\n",
    "from config import PROJECT_ROOT, SRC_DIR, NOTEBOOKS_DIR, CSV_DIR, SHAPEFILES_DIR, EXPORTS_DIR\n",
    "\n",
    "print('📁 Root:', PROJECT_ROOT)\n",
    "print('📁 Modules:', SRC_DIR)\n",
    "print('📁 Notebooks:', NOTEBOOKS_DIR)\n",
    "print('📁 Dataset:', CSV_DIR)\n",
    "print('📁 Shapefiles:', SHAPEFILES_DIR)\n",
    "print('📁 Exports:', EXPORTS_DIR)"
   ]
  },
  {
   "cell_type": "code",
   "execution_count": null,
   "id": "9444204a-b7d1-4e59-bdb7-b230e481e83e",
   "metadata": {},
   "outputs": [],
   "source": []
  }
 ],
 "metadata": {
  "kernelspec": {
   "display_name": "Python 3 (ipykernel)",
   "language": "python",
   "name": "python3"
  },
  "language_info": {
   "codemirror_mode": {
    "name": "ipython",
    "version": 3
   },
   "file_extension": ".py",
   "mimetype": "text/x-python",
   "name": "python",
   "nbconvert_exporter": "python",
   "pygments_lexer": "ipython3",
   "version": "3.12.2"
  },
  "widgets": {
   "application/vnd.jupyter.widget-state+json": {
    "state": {},
    "version_major": 2,
    "version_minor": 0
   }
  }
 },
 "nbformat": 4,
 "nbformat_minor": 5
}
