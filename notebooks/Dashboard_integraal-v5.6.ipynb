{
 "cells": [
  {
   "cell_type": "markdown",
   "id": "5e6eb136",
   "metadata": {},
   "source": [
    "# 🧭 Covid Dashboard v5.6\n",
    "\n"
   ]
  },
  {
   "cell_type": "code",
   "execution_count": 1,
   "id": "2c75da73-1926-4edd-a006-dcfa85be94cd",
   "metadata": {},
   "outputs": [],
   "source": [
    "# 📦 Widget imports (gegarandeerd bovenaan)\n",
    "import ipywidgets as widgets"
   ]
  },
  {
   "cell_type": "code",
   "execution_count": 2,
   "id": "445f0b91",
   "metadata": {},
   "outputs": [
    {
     "name": "stdout",
     "output_type": "stream",
     "text": [
      "✅ geopandas geïnstalleerd\n",
      "✅ numpy geïnstalleerd\n",
      "✅ fiona geïnstalleerd\n",
      "✅ shapely geïnstalleerd\n",
      "✅ matplotlib geïnstalleerd\n",
      "✅ ipywidgets geïnstalleerd\n",
      "✅ seaborn geïnstalleerd\n"
     ]
    }
   ],
   "source": [
    "# 📦 Vereiste packages checken\n",
    "import importlib\n",
    "packages = ['geopandas', 'numpy', 'fiona', 'shapely', 'matplotlib', 'ipywidgets', 'seaborn']\n",
    "for pkg in packages:\n",
    "    try:\n",
    "        importlib.import_module(pkg)\n",
    "        print(f'✅ {pkg} geïnstalleerd')\n",
    "    except ImportError:\n",
    "        print(f'⚠️ {pkg} NIET geïnstalleerd')"
   ]
  },
  {
   "cell_type": "code",
   "execution_count": 3,
   "id": "24a8fbaf",
   "metadata": {
    "jupyter": {
     "source_hidden": true
    }
   },
   "outputs": [
    {
     "name": "stdout",
     "output_type": "stream",
     "text": [
      "Werkdirectory ingesteld op: /Users/hvingen/Repositories/OU_Project/covId_dashboard_v5/covid_dashboard/notebooks\n"
     ]
    }
   ],
   "source": [
    "# 📂 Paden instellen + modules laden\n",
    "import os, sys\n",
    "from pathlib import Path\n",
    "\n",
    "project_root = Path.cwd()\n",
    "while not (project_root / 'config.py').exists() and project_root != project_root.parent:\n",
    "    project_root = project_root.parent\n",
    "sys.path.insert(0, project_root.as_posix())\n",
    "\n",
    "from config import SRC_DIR, CSV_DIR\n",
    "if SRC_DIR.as_posix() not in sys.path:\n",
    "    sys.path.insert(0, SRC_DIR.as_posix())\n",
    "\n",
    "print('Werkdirectory ingesteld op:', os.getcwd())"
   ]
  },
  {
   "cell_type": "code",
   "execution_count": 4,
   "id": "be568633",
   "metadata": {},
   "outputs": [
    {
     "name": "stdout",
     "output_type": "stream",
     "text": [
      "Beschikbare kolommen in df: ['Total_reported', 'Deceased', 'Hospital_admission', 'Municipality_name_merged', 'Province_merged', 'Year', 'Month', 'Month_name']\n"
     ]
    }
   ],
   "source": [
    "# 📂 Lijst beschikbare kolommen in de schone COVID dataset\n",
    "import data_service\n",
    "\n",
    "df = data_service.get_prepared_covid_dataset()\n",
    "print(\"Beschikbare kolommen in df:\", df.columns.tolist())"
   ]
  },
  {
   "cell_type": "code",
   "execution_count": 5,
   "id": "0e4a1526",
   "metadata": {},
   "outputs": [
    {
     "name": "stdout",
     "output_type": "stream",
     "text": [
      "Werkdirectory ingesteld op: /Users/hvingen/Repositories/OU_Project/covId_dashboard_v5/covid_dashboard/notebooks\n"
     ]
    },
    {
     "data": {
      "application/vnd.jupyter.widget-view+json": {
       "model_id": "5b96b1515f9f440d92105f3f9f12d953",
       "version_major": 2,
       "version_minor": 0
      },
      "text/plain": [
       "Tab(children=(Output(), Output(), Output(), Output()), selected_index=0, titles=('Corona', 'Heatmap', 'Rioolwa…"
      ]
     },
     "metadata": {},
     "output_type": "display_data"
    }
   ],
   "source": [
    "# 🎨 Layoutfixes en preview verbeteringen (v003h)\n",
    "# 📂 Paden instellen + modules laden\n",
    "import os, sys\n",
    "from pathlib import Path\n",
    "\n",
    "\n",
    "project_root = Path.cwd()\n",
    "while not (project_root / 'config.py').exists() and project_root != project_root.parent:\n",
    "    project_root = project_root.parent\n",
    "sys.path.insert(0, project_root.as_posix())\n",
    "\n",
    "from config import SRC_DIR, CSV_DIR\n",
    "if SRC_DIR.as_posix() not in sys.path:\n",
    "    sys.path.insert(0, SRC_DIR.as_posix())\n",
    "\n",
    "print('Werkdirectory ingesteld op:', os.getcwd())\n",
    "\n",
    "import data_service \n",
    "from data_service import get_metric_mapping, get_available_years\n",
    "import covid_dashboard_presenter\n",
    "from IPython.display import display\n",
    "from ipywidgets import Button, Layout, Textarea, HBox, VBox\n",
    "\n",
    "from data_service import get_province_heatmap_data\n",
    "from data_service import get_municipality_heatmap_data\n",
    "from data_service import get_province_heatmap_riool_data\n",
    "from data_service import get_municipality_heatmap_riool_data\n",
    "\n",
    "from covid_dashboard_presenter import plot_province_heatmap\n",
    "from covid_dashboard_presenter import plot_municipality_heatmap\n",
    "from covid_dashboard_presenter import plot_province_heatmap_riool\n",
    "from covid_dashboard_presenter import plot_municipality_heatmap_riool\n",
    "\n",
    "# Let Municipalities checkbox flip exclusive\n",
    "def on_municipalities_change(change):\n",
    "    if change['new'] == True:\n",
    "        months_checkbox.value = False\n",
    "\n",
    "# Let Months checkbox flip exclusive\n",
    "def on_months_change(change):\n",
    "    if change['new'] == True:\n",
    "        municipalities_checkbox.value = False\n",
    "\n",
    "# Plot Covid GUI\n",
    "def plot_covid(year, total_reported, hospital_admission, deceased, province, municipalities, months):\n",
    "    covid_dashboard_presenter.plot_covid(df,\n",
    "                                        year, \n",
    "                                        total_reported, \n",
    "                                        hospital_admission, \n",
    "                                        deceased, \n",
    "                                        province, \n",
    "                                        municipalities, \n",
    "                                        months)  \n",
    "\n",
    "def update_province_heatmap(year, column):\n",
    "    gdf = get_province_heatmap_data(year)\n",
    "    plot_province_heatmap(gdf, column=column)\n",
    "\n",
    "# Functie om de heatmap bij te werken\n",
    "def update_municipality_heatmap(year, metric):\n",
    "    gdf = get_municipality_heatmap_data(year)\n",
    "    plot_municipality_heatmap(gdf, metric=metric)\n",
    "\n",
    "# Plot Rioolwater GUI\n",
    "def plot_covid_riool(year):\n",
    "    covid_dashboard_presenter.plot_covid_riool(year)  \n",
    "\n",
    "\n",
    "\n",
    "\n",
    "# Create a list of outs for tabs\n",
    "out1 = widgets.Output()\n",
    "out2 = widgets.Output()\n",
    "out3 = widgets.Output()\n",
    "out4 = widgets.Output()\n",
    "\n",
    "# Create a list of tabs for GUI\n",
    "tabs = widgets.Tab(children = [out1, out2, out3, out4])\n",
    "tabs.set_title(0, 'Corona')\n",
    "tabs.set_title(1, 'Heatmap')\n",
    "tabs.set_title(2, 'Rioolwater')\n",
    "tabs.set_title(3, 'RIVM Download')\n",
    "\n",
    "\n",
    "# display(tab)\n",
    "with out1:\n",
    "    # Create dashboard widgets for UI controls\n",
    "    title_widget1 = widgets.HTML(\"<h3 style='text-align:center;'>COVID-Dataset</h3>\")\n",
    "\n",
    "    year_dropdown = widgets.Dropdown(description='Year:', options=get_available_years(df))\n",
    "    total_reported_checkbox = widgets.Checkbox(value=True, description='Total reported')\n",
    "    hospital_admission_checkbox = widgets.Checkbox(value=True, description='Hospital admission')\n",
    "    deceased_checkbox = widgets.Checkbox(value=True, description='Deceased')\n",
    "    province_dropdown = widgets.Dropdown(description='Level:', options=['Netherlands', 'All provinces'] + df['Province_merged'].dropna().unique().tolist(), value='Netherlands')\n",
    "    municipalities_checkbox = widgets.Checkbox(value=True, description='Municipalities')\n",
    "    months_checkbox = widgets.Checkbox(value=False, description='Months')\n",
    "    months_checkbox.observe(on_months_change, names='value')\n",
    "    municipalities_checkbox.observe(on_municipalities_change, names='value')\n",
    "\n",
    "    row1 = VBox( [year_dropdown, total_reported_checkbox, hospital_admission_checkbox, deceased_checkbox, province_dropdown, municipalities_checkbox, months_checkbox] )\n",
    "    # row2 = HBox( [year_dropdown, total_reported_checkbox] )\n",
    "    # ui = VBox( [row1, row2] )\n",
    "    ui = VBox( [title_widget1, row1] )\n",
    "    out = widgets.interactive_output(plot_covid, {'year':year_dropdown, 'total_reported':total_reported_checkbox, 'hospital_admission':hospital_admission_checkbox, 'deceased':deceased_checkbox, 'province': province_dropdown, 'municipalities': municipalities_checkbox, 'months': months_checkbox} )\n",
    "    display(ui, out)  \n",
    "    \n",
    "with out2:              \n",
    "    title_widget2 = widgets.HTML(\"<h3 style='text-align:center;'>Heatmap Provinces</h3>\")\n",
    "\n",
    "    year_dropdown = widgets.Dropdown(\n",
    "        description='Year:',\n",
    "        options=get_available_years(df)\n",
    "    )\n",
    "\n",
    "    # Mapping: zichtbare naam -> kolomnaam in de dataset\n",
    "    metric_options = get_metric_mapping()\n",
    "    metric_dropdown = widgets.Dropdown(\n",
    "        description='Metric:',\n",
    "        options=list(metric_options.keys()),\n",
    "        value='Total reported'\n",
    "    )\n",
    "\n",
    "    region_dropdown = widgets.Dropdown(\n",
    "        description='Level:',\n",
    "        options=['Provinces', 'Municipalities'],\n",
    "        value='Provinces'\n",
    "    )\n",
    "\n",
    "    def update_heatmap(year, metric_label, region_type):\n",
    "        title_text = 'Heatmap ' + region_type\n",
    "        title_widget2.value = f\"<h3 style='text-align:center;'>{title_text}</h3>\"\n",
    "        metric = metric_options[metric_label]\n",
    "        if region_type == 'Provinces':\n",
    "            gdf = get_province_heatmap_data(year)\n",
    "            plot_province_heatmap(gdf, column=metric)\n",
    "        else:\n",
    "            gdf = get_municipality_heatmap_data(year)\n",
    "            plot_municipality_heatmap(gdf, column=metric)\n",
    "\n",
    "    ui = VBox([title_widget2, year_dropdown, metric_dropdown, region_dropdown])\n",
    "    out = widgets.interactive_output(update_heatmap, {\n",
    "        'year': year_dropdown,\n",
    "        'metric_label': metric_dropdown,\n",
    "        'region_type': region_dropdown\n",
    "    })\n",
    "    display(ui, out)\n",
    "\n",
    "\n",
    "with out3:          \n",
    "    # Create dashboard widgets for UI controls\n",
    "    # year_dropdown = widgets.Dropdown(description='Year:', options=df_riool['Year'].dropna().sort_values().unique().tolist())\n",
    "    title_widget3 = widgets.HTML(\"<h3 style='text-align:center;'>Heatmap Riool</h3>\")\n",
    "\n",
    "    year_dropdown = widgets.Dropdown(\n",
    "        description='Year:',\n",
    "        options=get_available_years(df)\n",
    "    )\n",
    "\n",
    "    region_dropdown = widgets.Dropdown(\n",
    "        description='Level:',\n",
    "        options=['Provinces', 'Municipalities'],\n",
    "        value='Provinces'\n",
    "    )\n",
    "\n",
    "    def update_heatmap_riool(year, region_type):\n",
    "        title_text = 'Heatmap ' + region_type\n",
    "        title_widget2.value = f\"<h3 style='text-align:center;'>{title_text}</h3>\"\n",
    "        if region_type == 'Provinces':\n",
    "            gdf = get_province_heatmap_riool_data(year)\n",
    "            plot_province_heatmap_riool(gdf, column='RNA_flow_per_100000')\n",
    "        else:\n",
    "            gdf = get_municipality_heatmap_riool_data(year)\n",
    "            plot_municipality_heatmap_riool(gdf, column='RNA_flow_per_100000')\n",
    "\n",
    "    ui = VBox([title_widget3, year_dropdown, region_dropdown])\n",
    "    out = widgets.interactive_output(update_heatmap_riool, {\n",
    "        'year': year_dropdown,\n",
    "        'region_type': region_dropdown\n",
    "    })\n",
    "    display(ui, out)\n",
    "\n",
    "with out4:\n",
    "    # 📦 Tab 4 - Download RIVM-data\n",
    "    from IPython.display import display, Markdown\n",
    "    from data_writer import Saveframes\n",
    "    \n",
    "    def run_download(*args):\n",
    "        result = Saveframes()\n",
    "        output.clear_output()\n",
    "        with output:\n",
    "            for fname, status in result.items():\n",
    "                print(f\"{fname}: {status}\")\n",
    "    \n",
    "    download_button = widgets.Button(description='Download datasets', button_style='success')\n",
    "    download_button.on_click(run_download)\n",
    "    output = widgets.Output()\n",
    "    \n",
    "    display(widgets.VBox([\n",
    "        widgets.HTML('<h3>Download RIVM-data</h3><p>Klik op de knop om actuele data op te halen.</p>'),\n",
    "        download_button,\n",
    "        output\n",
    "    ]))\n",
    "\n",
    "display(tabs)"
   ]
  }
 ],
 "metadata": {
  "kernelspec": {
   "display_name": "Python 3 (ipykernel)",
   "language": "python",
   "name": "python3"
  },
  "language_info": {
   "codemirror_mode": {
    "name": "ipython",
    "version": 3
   },
   "file_extension": ".py",
   "mimetype": "text/x-python",
   "name": "python",
   "nbconvert_exporter": "python",
   "pygments_lexer": "ipython3",
   "version": "3.12.2"
  },
  "widgets": {
   "application/vnd.jupyter.widget-state+json": {
    "state": {
     "029f1645f19446e7aaddc04a597b055e": {
      "model_module": "@jupyter-widgets/controls",
      "model_module_version": "2.0.0",
      "model_name": "HTMLStyleModel",
      "state": {
       "description_width": "",
       "font_size": null,
       "text_color": null
      }
     },
     "04e6c5e3703e4e52beb33b9b04a4b42f": {
      "model_module": "@jupyter-widgets/controls",
      "model_module_version": "2.0.0",
      "model_name": "HTMLStyleModel",
      "state": {
       "description_width": "",
       "font_size": null,
       "text_color": null
      }
     },
     "0eeea6f915234754833cb4028f38292c": {
      "model_module": "@jupyter-widgets/controls",
      "model_module_version": "2.0.0",
      "model_name": "ButtonModel",
      "state": {
       "button_style": "success",
       "description": "Download datasets",
       "layout": "IPY_MODEL_caa4ad0d67ec46d2800ff13caab838cd",
       "style": "IPY_MODEL_827913013a8d4e328ab58f66ba18467b",
       "tooltip": null
      }
     },
     "12ae6721338245378a0f0a3b9ebed9b1": {
      "model_module": "@jupyter-widgets/base",
      "model_module_version": "2.0.0",
      "model_name": "LayoutModel",
      "state": {}
     },
     "12aeee5311204208a8763248fa813c19": {
      "model_module": "@jupyter-widgets/base",
      "model_module_version": "2.0.0",
      "model_name": "LayoutModel",
      "state": {}
     },
     "191f4d23edf94818af1e2499674fac8c": {
      "model_module": "@jupyter-widgets/controls",
      "model_module_version": "2.0.0",
      "model_name": "DropdownModel",
      "state": {
       "_options_labels": [
        "Provinces",
        "Municipalities"
       ],
       "description": "Level:",
       "index": 0,
       "layout": "IPY_MODEL_ae02e9f5f33c4d978cd6fea8e5c99417",
       "style": "IPY_MODEL_27a65ec9c1ef46a1afb2271685bc3f9c"
      }
     },
     "1b7c02aadc5d47e88cd49925093fe6db": {
      "model_module": "@jupyter-widgets/controls",
      "model_module_version": "2.0.0",
      "model_name": "HTMLModel",
      "state": {
       "layout": "IPY_MODEL_2210fbec208f48de8577f2c5e83ecd7f",
       "style": "IPY_MODEL_fea915af14434d939c699afb2c3dc2c6",
       "value": "<h3 style='text-align:center;'>Heatmap Riool</h3>"
      }
     },
     "1d6916d7e99942798b24d396d944b4b7": {
      "model_module": "@jupyter-widgets/controls",
      "model_module_version": "2.0.0",
      "model_name": "DropdownModel",
      "state": {
       "_options_labels": [
        "2020",
        "2021",
        "2022",
        "2023",
        "2024"
       ],
       "description": "Year:",
       "index": 0,
       "layout": "IPY_MODEL_fe3b2e10d7574fac969ae9e41af59f57",
       "style": "IPY_MODEL_673d0bc1857d46c8a6e679297e1c76ce"
      }
     },
     "1e1a7f33edfe4371a31e0a296040548d": {
      "model_module": "@jupyter-widgets/output",
      "model_module_version": "1.0.0",
      "model_name": "OutputModel",
      "state": {
       "layout": "IPY_MODEL_6383074f8ae3422a81944b50aa771305",
       "outputs": [
        {
         "data": {
          "image/png": "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",
          "text/plain": "<Figure size 1500x600 with 1 Axes>"
         },
         "metadata": {},
         "output_type": "display_data"
        }
       ]
      }
     },
     "2210fbec208f48de8577f2c5e83ecd7f": {
      "model_module": "@jupyter-widgets/base",
      "model_module_version": "2.0.0",
      "model_name": "LayoutModel",
      "state": {}
     },
     "27a65ec9c1ef46a1afb2271685bc3f9c": {
      "model_module": "@jupyter-widgets/controls",
      "model_module_version": "2.0.0",
      "model_name": "DescriptionStyleModel",
      "state": {
       "description_width": ""
      }
     },
     "2c12b87eb1a6466fa40667b85f62a597": {
      "model_module": "@jupyter-widgets/controls",
      "model_module_version": "2.0.0",
      "model_name": "HTMLModel",
      "state": {
       "layout": "IPY_MODEL_cd9c7cf3b1d74084b7d1b8a37d213132",
       "style": "IPY_MODEL_029f1645f19446e7aaddc04a597b055e",
       "value": "<h3 style='text-align:center;'>COVID-Dataset</h3>"
      }
     },
     "2e4bc0dc32c24b90aab5c4296a480d71": {
      "model_module": "@jupyter-widgets/base",
      "model_module_version": "2.0.0",
      "model_name": "LayoutModel",
      "state": {}
     },
     "2f8b48533df74de585095bb885d4c027": {
      "model_module": "@jupyter-widgets/base",
      "model_module_version": "2.0.0",
      "model_name": "LayoutModel",
      "state": {}
     },
     "318fdc9c9d1c4ccfb37e6be09af5635c": {
      "model_module": "@jupyter-widgets/controls",
      "model_module_version": "2.0.0",
      "model_name": "DropdownModel",
      "state": {
       "_options_labels": [
        "Netherlands",
        "All provinces",
        "Flevoland",
        "Groningen",
        "Fryslân",
        "Drenthe",
        "Overijssel",
        "Gelderland",
        "Utrecht",
        "Noord-Holland",
        "Zuid-Holland",
        "Zeeland",
        "Noord-Brabant",
        "Limburg"
       ],
       "description": "Level:",
       "index": 0,
       "layout": "IPY_MODEL_4960b72b9abf4c9cb1048face6c511e6",
       "style": "IPY_MODEL_d93956ff2c6f477b95e117772c9d6742"
      }
     },
     "327405766a6249ee8c74fb28cf3a2c87": {
      "model_module": "@jupyter-widgets/base",
      "model_module_version": "2.0.0",
      "model_name": "LayoutModel",
      "state": {}
     },
     "32df98972aec4073a3bde1dcbf0519f5": {
      "model_module": "@jupyter-widgets/base",
      "model_module_version": "2.0.0",
      "model_name": "LayoutModel",
      "state": {}
     },
     "3475e661cff541b58f8587bb5128db4e": {
      "model_module": "@jupyter-widgets/controls",
      "model_module_version": "2.0.0",
      "model_name": "VBoxModel",
      "state": {
       "children": [
        "IPY_MODEL_7ce8a43e87384aa79a7f8160c5a08145",
        "IPY_MODEL_0eeea6f915234754833cb4028f38292c",
        "IPY_MODEL_9c4dfe47e94c4ef7b7a3e3454b4f64ba"
       ],
       "layout": "IPY_MODEL_65c8f036ea3345a19787925c4aaec491"
      }
     },
     "3bbcdb1c3c2e413a8056d3357efef420": {
      "model_module": "@jupyter-widgets/base",
      "model_module_version": "2.0.0",
      "model_name": "LayoutModel",
      "state": {}
     },
     "3c8f2c5ca40f47778a414afb76253bc3": {
      "model_module": "@jupyter-widgets/output",
      "model_module_version": "1.0.0",
      "model_name": "OutputModel",
      "state": {
       "layout": "IPY_MODEL_77e343c18e5346e3a64c2d332d8b5670",
       "outputs": [
        {
         "data": {
          "application/vnd.jupyter.widget-view+json": {
           "model_id": "3475e661cff541b58f8587bb5128db4e",
           "version_major": 2,
           "version_minor": 0
          },
          "text/plain": "VBox(children=(HTML(value='<h3>Download RIVM-data</h3><p>Klik op de knop om actuele data op te halen.</p>'), B…"
         },
         "metadata": {},
         "output_type": "display_data"
        }
       ]
      }
     },
     "3d21401c33c647528febddf26f454aa3": {
      "model_module": "@jupyter-widgets/controls",
      "model_module_version": "2.0.0",
      "model_name": "TabModel",
      "state": {
       "children": [
        "IPY_MODEL_af90687c582a4d56a72ab91b52791563",
        "IPY_MODEL_f598a080a27c49fdb7bc109c9e86057b",
        "IPY_MODEL_9d2da7e4da414d0cb4acea520d56832b",
        "IPY_MODEL_3c8f2c5ca40f47778a414afb76253bc3"
       ],
       "layout": "IPY_MODEL_3fcf10938f6c439a8c3a81cc4b9fb440",
       "selected_index": 3,
       "titles": [
        "Corona",
        "Heatmap",
        "Rioolwater",
        "RIVM Download"
       ]
      }
     },
     "3ea778064faa4fe6b5414d8461230dbd": {
      "model_module": "@jupyter-widgets/base",
      "model_module_version": "2.0.0",
      "model_name": "LayoutModel",
      "state": {}
     },
     "3fcf10938f6c439a8c3a81cc4b9fb440": {
      "model_module": "@jupyter-widgets/base",
      "model_module_version": "2.0.0",
      "model_name": "LayoutModel",
      "state": {}
     },
     "4960b72b9abf4c9cb1048face6c511e6": {
      "model_module": "@jupyter-widgets/base",
      "model_module_version": "2.0.0",
      "model_name": "LayoutModel",
      "state": {}
     },
     "496ec56c2d0c4e32b32728bb50171a04": {
      "model_module": "@jupyter-widgets/controls",
      "model_module_version": "2.0.0",
      "model_name": "CheckboxModel",
      "state": {
       "description": "Deceased",
       "disabled": false,
       "layout": "IPY_MODEL_2e4bc0dc32c24b90aab5c4296a480d71",
       "style": "IPY_MODEL_9efb0d7c7ec844c495602241da5b6a50",
       "value": true
      }
     },
     "4f0eaed91f5f4adc9dd679a728c12a27": {
      "model_module": "@jupyter-widgets/controls",
      "model_module_version": "2.0.0",
      "model_name": "DescriptionStyleModel",
      "state": {
       "description_width": ""
      }
     },
     "516e7fe4bd25441cbe41013ca86731b7": {
      "model_module": "@jupyter-widgets/controls",
      "model_module_version": "2.0.0",
      "model_name": "VBoxModel",
      "state": {
       "children": [
        "IPY_MODEL_2c12b87eb1a6466fa40667b85f62a597",
        "IPY_MODEL_965c7f50ac7b4f3b80ad3fe00fcf3043"
       ],
       "layout": "IPY_MODEL_12ae6721338245378a0f0a3b9ebed9b1"
      }
     },
     "523ed4f09346428eb061bd31cf846345": {
      "model_module": "@jupyter-widgets/controls",
      "model_module_version": "2.0.0",
      "model_name": "DropdownModel",
      "state": {
       "_options_labels": [
        "Provinces",
        "Municipalities"
       ],
       "description": "Level:",
       "index": 0,
       "layout": "IPY_MODEL_3ea778064faa4fe6b5414d8461230dbd",
       "style": "IPY_MODEL_4f0eaed91f5f4adc9dd679a728c12a27"
      }
     },
     "547f09f882a74ee695e585afac9354cc": {
      "model_module": "@jupyter-widgets/output",
      "model_module_version": "1.0.0",
      "model_name": "OutputModel",
      "state": {
       "layout": "IPY_MODEL_59f14381f3d24c36ae72dc039e5cdfab",
       "outputs": [
        {
         "data": {
          "image/png": "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",
          "text/plain": "<Figure size 800x600 with 2 Axes>"
         },
         "metadata": {},
         "output_type": "display_data"
        }
       ]
      }
     },
     "551f0880e72b4aec94ead5e1cddadcd3": {
      "model_module": "@jupyter-widgets/base",
      "model_module_version": "2.0.0",
      "model_name": "LayoutModel",
      "state": {}
     },
     "5888048a4eb64efc9c74ac71817b0ca2": {
      "model_module": "@jupyter-widgets/controls",
      "model_module_version": "2.0.0",
      "model_name": "CheckboxModel",
      "state": {
       "description": "Total reported",
       "disabled": false,
       "layout": "IPY_MODEL_a06d9cb3e2b34918ae4e7b386599e4a1",
       "style": "IPY_MODEL_69576a5aef98417a9d28c18867259788",
       "value": true
      }
     },
     "59f14381f3d24c36ae72dc039e5cdfab": {
      "model_module": "@jupyter-widgets/base",
      "model_module_version": "2.0.0",
      "model_name": "LayoutModel",
      "state": {}
     },
     "6383074f8ae3422a81944b50aa771305": {
      "model_module": "@jupyter-widgets/base",
      "model_module_version": "2.0.0",
      "model_name": "LayoutModel",
      "state": {}
     },
     "65c8f036ea3345a19787925c4aaec491": {
      "model_module": "@jupyter-widgets/base",
      "model_module_version": "2.0.0",
      "model_name": "LayoutModel",
      "state": {}
     },
     "673d0bc1857d46c8a6e679297e1c76ce": {
      "model_module": "@jupyter-widgets/controls",
      "model_module_version": "2.0.0",
      "model_name": "DescriptionStyleModel",
      "state": {
       "description_width": ""
      }
     },
     "69576a5aef98417a9d28c18867259788": {
      "model_module": "@jupyter-widgets/controls",
      "model_module_version": "2.0.0",
      "model_name": "CheckboxStyleModel",
      "state": {
       "description_width": ""
      }
     },
     "719492cb1e434b88acdecbca9ff413c5": {
      "model_module": "@jupyter-widgets/base",
      "model_module_version": "2.0.0",
      "model_name": "LayoutModel",
      "state": {}
     },
     "77577c511cc64d7ca710421af9e61112": {
      "model_module": "@jupyter-widgets/base",
      "model_module_version": "2.0.0",
      "model_name": "LayoutModel",
      "state": {}
     },
     "77e343c18e5346e3a64c2d332d8b5670": {
      "model_module": "@jupyter-widgets/base",
      "model_module_version": "2.0.0",
      "model_name": "LayoutModel",
      "state": {}
     },
     "78f4411b567c4d3188cd4ddf8f57a9f2": {
      "model_module": "@jupyter-widgets/controls",
      "model_module_version": "2.0.0",
      "model_name": "DescriptionStyleModel",
      "state": {
       "description_width": ""
      }
     },
     "7ce8a43e87384aa79a7f8160c5a08145": {
      "model_module": "@jupyter-widgets/controls",
      "model_module_version": "2.0.0",
      "model_name": "HTMLModel",
      "state": {
       "layout": "IPY_MODEL_551f0880e72b4aec94ead5e1cddadcd3",
       "style": "IPY_MODEL_918464671f0f440f99ded553127096fe",
       "value": "<h3>Download RIVM-data</h3><p>Klik op de knop om actuele data op te halen.</p>"
      }
     },
     "7fd34f22cde042dbb9c64c7dce981e90": {
      "model_module": "@jupyter-widgets/output",
      "model_module_version": "1.0.0",
      "model_name": "OutputModel",
      "state": {
       "layout": "IPY_MODEL_a3aec02285c54238a2b35f93983078cb",
       "outputs": [
        {
         "data": {
          "image/png": "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",
          "text/plain": "<Figure size 800x600 with 2 Axes>"
         },
         "metadata": {},
         "output_type": "display_data"
        }
       ]
      }
     },
     "827913013a8d4e328ab58f66ba18467b": {
      "model_module": "@jupyter-widgets/controls",
      "model_module_version": "2.0.0",
      "model_name": "ButtonStyleModel",
      "state": {
       "font_family": null,
       "font_size": null,
       "font_style": null,
       "font_variant": null,
       "font_weight": null,
       "text_color": null,
       "text_decoration": null
      }
     },
     "8385e53a2d3e423097f3f962ca3bb7ee": {
      "model_module": "@jupyter-widgets/controls",
      "model_module_version": "2.0.0",
      "model_name": "CheckboxModel",
      "state": {
       "description": "Months",
       "disabled": false,
       "layout": "IPY_MODEL_ea19915b6c5f4fc3bfb85283d4fd5122",
       "style": "IPY_MODEL_fb2e1f34059c4cd59a43a55ad211e236",
       "value": false
      }
     },
     "861b6e5afaf54d6ca484d74ffef570b9": {
      "model_module": "@jupyter-widgets/base",
      "model_module_version": "2.0.0",
      "model_name": "LayoutModel",
      "state": {}
     },
     "918464671f0f440f99ded553127096fe": {
      "model_module": "@jupyter-widgets/controls",
      "model_module_version": "2.0.0",
      "model_name": "HTMLStyleModel",
      "state": {
       "description_width": "",
       "font_size": null,
       "text_color": null
      }
     },
     "9317d0f78af9415c89e779c07fdc08a3": {
      "model_module": "@jupyter-widgets/controls",
      "model_module_version": "2.0.0",
      "model_name": "CheckboxModel",
      "state": {
       "description": "Hospital admission",
       "disabled": false,
       "layout": "IPY_MODEL_b84a7843ec7c48479f80665ce00a270d",
       "style": "IPY_MODEL_f7c289c9940b47589e0263baf24a6cb5",
       "value": true
      }
     },
     "965c7f50ac7b4f3b80ad3fe00fcf3043": {
      "model_module": "@jupyter-widgets/controls",
      "model_module_version": "2.0.0",
      "model_name": "VBoxModel",
      "state": {
       "children": [
        "IPY_MODEL_1d6916d7e99942798b24d396d944b4b7",
        "IPY_MODEL_5888048a4eb64efc9c74ac71817b0ca2",
        "IPY_MODEL_9317d0f78af9415c89e779c07fdc08a3",
        "IPY_MODEL_496ec56c2d0c4e32b32728bb50171a04",
        "IPY_MODEL_318fdc9c9d1c4ccfb37e6be09af5635c",
        "IPY_MODEL_9bc3d4c1fd85406da310797ea79e1a42",
        "IPY_MODEL_8385e53a2d3e423097f3f962ca3bb7ee"
       ],
       "layout": "IPY_MODEL_719492cb1e434b88acdecbca9ff413c5"
      }
     },
     "9b83dcf3246e4234960be72b5b4ff05a": {
      "model_module": "@jupyter-widgets/controls",
      "model_module_version": "2.0.0",
      "model_name": "HTMLModel",
      "state": {
       "layout": "IPY_MODEL_32df98972aec4073a3bde1dcbf0519f5",
       "style": "IPY_MODEL_04e6c5e3703e4e52beb33b9b04a4b42f",
       "value": "<h3 style='text-align:center;'>Heatmap Provinces</h3>"
      }
     },
     "9bc3d4c1fd85406da310797ea79e1a42": {
      "model_module": "@jupyter-widgets/controls",
      "model_module_version": "2.0.0",
      "model_name": "CheckboxModel",
      "state": {
       "description": "Municipalities",
       "disabled": false,
       "layout": "IPY_MODEL_77577c511cc64d7ca710421af9e61112",
       "style": "IPY_MODEL_bfa38422cc684ecd8c657fc21a290de7",
       "value": true
      }
     },
     "9c4dfe47e94c4ef7b7a3e3454b4f64ba": {
      "model_module": "@jupyter-widgets/output",
      "model_module_version": "1.0.0",
      "model_name": "OutputModel",
      "state": {
       "layout": "IPY_MODEL_327405766a6249ee8c74fb28cf3a2c87",
       "outputs": [
        {
         "name": "stdout",
         "output_type": "stream",
         "text": "COVID-19_aantallen_gemeente_per_dag.csv: ✅ Geslaagd\nCOVID-19_aantallen_gemeente_per_dag_tm_03102021.csv: ✅ Geslaagd\nCOVID-19_ziekenhuisopnames.csv: ✅ Geslaagd\nCOVID-19_ziekenhuisopnames_tm_03102021.csv: ✅ Geslaagd\nCOVID-19_rioolwaterdata.csv: ✅ Geslaagd\n"
        }
       ]
      }
     },
     "9d2da7e4da414d0cb4acea520d56832b": {
      "model_module": "@jupyter-widgets/output",
      "model_module_version": "1.0.0",
      "model_name": "OutputModel",
      "state": {
       "layout": "IPY_MODEL_3bbcdb1c3c2e413a8056d3357efef420",
       "outputs": [
        {
         "data": {
          "application/vnd.jupyter.widget-view+json": {
           "model_id": "da8fdfd8393442558ab25d3a3919c9db",
           "version_major": 2,
           "version_minor": 0
          },
          "text/plain": "VBox(children=(HTML(value=\"<h3 style='text-align:center;'>Heatmap Riool</h3>\"), Dropdown(description='Year:', …"
         },
         "metadata": {},
         "output_type": "display_data"
        },
        {
         "data": {
          "application/vnd.jupyter.widget-view+json": {
           "model_id": "547f09f882a74ee695e585afac9354cc",
           "version_major": 2,
           "version_minor": 0
          },
          "text/plain": "Output()"
         },
         "metadata": {},
         "output_type": "display_data"
        }
       ]
      }
     },
     "9efb0d7c7ec844c495602241da5b6a50": {
      "model_module": "@jupyter-widgets/controls",
      "model_module_version": "2.0.0",
      "model_name": "CheckboxStyleModel",
      "state": {
       "description_width": ""
      }
     },
     "a06d9cb3e2b34918ae4e7b386599e4a1": {
      "model_module": "@jupyter-widgets/base",
      "model_module_version": "2.0.0",
      "model_name": "LayoutModel",
      "state": {}
     },
     "a3aec02285c54238a2b35f93983078cb": {
      "model_module": "@jupyter-widgets/base",
      "model_module_version": "2.0.0",
      "model_name": "LayoutModel",
      "state": {}
     },
     "a88da306b79249bd82c0e9ab3f9b2e19": {
      "model_module": "@jupyter-widgets/controls",
      "model_module_version": "2.0.0",
      "model_name": "DropdownModel",
      "state": {
       "_options_labels": [
        "2020",
        "2021",
        "2022",
        "2023",
        "2024"
       ],
       "description": "Year:",
       "index": 0,
       "layout": "IPY_MODEL_12aeee5311204208a8763248fa813c19",
       "style": "IPY_MODEL_fead128d4deb4ad482d79cc1034c2eb5"
      }
     },
     "ae02e9f5f33c4d978cd6fea8e5c99417": {
      "model_module": "@jupyter-widgets/base",
      "model_module_version": "2.0.0",
      "model_name": "LayoutModel",
      "state": {}
     },
     "af90687c582a4d56a72ab91b52791563": {
      "model_module": "@jupyter-widgets/output",
      "model_module_version": "1.0.0",
      "model_name": "OutputModel",
      "state": {
       "layout": "IPY_MODEL_2f8b48533df74de585095bb885d4c027",
       "outputs": [
        {
         "data": {
          "application/vnd.jupyter.widget-view+json": {
           "model_id": "516e7fe4bd25441cbe41013ca86731b7",
           "version_major": 2,
           "version_minor": 0
          },
          "text/plain": "VBox(children=(HTML(value=\"<h3 style='text-align:center;'>COVID-Dataset</h3>\"), VBox(children=(Dropdown(descri…"
         },
         "metadata": {},
         "output_type": "display_data"
        },
        {
         "data": {
          "application/vnd.jupyter.widget-view+json": {
           "model_id": "1e1a7f33edfe4371a31e0a296040548d",
           "version_major": 2,
           "version_minor": 0
          },
          "text/plain": "Output()"
         },
         "metadata": {},
         "output_type": "display_data"
        }
       ]
      }
     },
     "b84a7843ec7c48479f80665ce00a270d": {
      "model_module": "@jupyter-widgets/base",
      "model_module_version": "2.0.0",
      "model_name": "LayoutModel",
      "state": {}
     },
     "b9df0ea9758540eea82b19ec1ccf0a2b": {
      "model_module": "@jupyter-widgets/controls",
      "model_module_version": "2.0.0",
      "model_name": "DropdownModel",
      "state": {
       "_options_labels": [
        "Total reported",
        "Hospital admission",
        "Deceased"
       ],
       "description": "Metric:",
       "index": 0,
       "layout": "IPY_MODEL_ea391daa9aab4103a75acab2da9dc2d5",
       "style": "IPY_MODEL_d3eb91604b5649d186d25caeb2a6b702"
      }
     },
     "bfa38422cc684ecd8c657fc21a290de7": {
      "model_module": "@jupyter-widgets/controls",
      "model_module_version": "2.0.0",
      "model_name": "CheckboxStyleModel",
      "state": {
       "description_width": ""
      }
     },
     "c51f8f96e65e4bb98dfb304f5d4dc131": {
      "model_module": "@jupyter-widgets/controls",
      "model_module_version": "2.0.0",
      "model_name": "VBoxModel",
      "state": {
       "children": [
        "IPY_MODEL_9b83dcf3246e4234960be72b5b4ff05a",
        "IPY_MODEL_ed9950b16d2743acb498301ab8fa0f57",
        "IPY_MODEL_b9df0ea9758540eea82b19ec1ccf0a2b",
        "IPY_MODEL_191f4d23edf94818af1e2499674fac8c"
       ],
       "layout": "IPY_MODEL_d2eb67eccd90411a8e0671efb541128e"
      }
     },
     "caa4ad0d67ec46d2800ff13caab838cd": {
      "model_module": "@jupyter-widgets/base",
      "model_module_version": "2.0.0",
      "model_name": "LayoutModel",
      "state": {}
     },
     "cd9c7cf3b1d74084b7d1b8a37d213132": {
      "model_module": "@jupyter-widgets/base",
      "model_module_version": "2.0.0",
      "model_name": "LayoutModel",
      "state": {}
     },
     "d2eb67eccd90411a8e0671efb541128e": {
      "model_module": "@jupyter-widgets/base",
      "model_module_version": "2.0.0",
      "model_name": "LayoutModel",
      "state": {}
     },
     "d3eb91604b5649d186d25caeb2a6b702": {
      "model_module": "@jupyter-widgets/controls",
      "model_module_version": "2.0.0",
      "model_name": "DescriptionStyleModel",
      "state": {
       "description_width": ""
      }
     },
     "d93956ff2c6f477b95e117772c9d6742": {
      "model_module": "@jupyter-widgets/controls",
      "model_module_version": "2.0.0",
      "model_name": "DescriptionStyleModel",
      "state": {
       "description_width": ""
      }
     },
     "da8fdfd8393442558ab25d3a3919c9db": {
      "model_module": "@jupyter-widgets/controls",
      "model_module_version": "2.0.0",
      "model_name": "VBoxModel",
      "state": {
       "children": [
        "IPY_MODEL_1b7c02aadc5d47e88cd49925093fe6db",
        "IPY_MODEL_a88da306b79249bd82c0e9ab3f9b2e19",
        "IPY_MODEL_523ed4f09346428eb061bd31cf846345"
       ],
       "layout": "IPY_MODEL_e223beba1b5c4ab9b5f2b1517d5fb6e6"
      }
     },
     "e223beba1b5c4ab9b5f2b1517d5fb6e6": {
      "model_module": "@jupyter-widgets/base",
      "model_module_version": "2.0.0",
      "model_name": "LayoutModel",
      "state": {}
     },
     "ea19915b6c5f4fc3bfb85283d4fd5122": {
      "model_module": "@jupyter-widgets/base",
      "model_module_version": "2.0.0",
      "model_name": "LayoutModel",
      "state": {}
     },
     "ea391daa9aab4103a75acab2da9dc2d5": {
      "model_module": "@jupyter-widgets/base",
      "model_module_version": "2.0.0",
      "model_name": "LayoutModel",
      "state": {}
     },
     "ed9950b16d2743acb498301ab8fa0f57": {
      "model_module": "@jupyter-widgets/controls",
      "model_module_version": "2.0.0",
      "model_name": "DropdownModel",
      "state": {
       "_options_labels": [
        "2020",
        "2021",
        "2022",
        "2023",
        "2024"
       ],
       "description": "Year:",
       "index": 0,
       "layout": "IPY_MODEL_f09162cbcef246f88964a26c50b3fbae",
       "style": "IPY_MODEL_78f4411b567c4d3188cd4ddf8f57a9f2"
      }
     },
     "f09162cbcef246f88964a26c50b3fbae": {
      "model_module": "@jupyter-widgets/base",
      "model_module_version": "2.0.0",
      "model_name": "LayoutModel",
      "state": {}
     },
     "f598a080a27c49fdb7bc109c9e86057b": {
      "model_module": "@jupyter-widgets/output",
      "model_module_version": "1.0.0",
      "model_name": "OutputModel",
      "state": {
       "layout": "IPY_MODEL_861b6e5afaf54d6ca484d74ffef570b9",
       "outputs": [
        {
         "data": {
          "application/vnd.jupyter.widget-view+json": {
           "model_id": "c51f8f96e65e4bb98dfb304f5d4dc131",
           "version_major": 2,
           "version_minor": 0
          },
          "text/plain": "VBox(children=(HTML(value=\"<h3 style='text-align:center;'>Heatmap Provinces</h3>\"), Dropdown(description='Year…"
         },
         "metadata": {},
         "output_type": "display_data"
        },
        {
         "data": {
          "application/vnd.jupyter.widget-view+json": {
           "model_id": "7fd34f22cde042dbb9c64c7dce981e90",
           "version_major": 2,
           "version_minor": 0
          },
          "text/plain": "Output()"
         },
         "metadata": {},
         "output_type": "display_data"
        }
       ]
      }
     },
     "f7c289c9940b47589e0263baf24a6cb5": {
      "model_module": "@jupyter-widgets/controls",
      "model_module_version": "2.0.0",
      "model_name": "CheckboxStyleModel",
      "state": {
       "description_width": ""
      }
     },
     "fb2e1f34059c4cd59a43a55ad211e236": {
      "model_module": "@jupyter-widgets/controls",
      "model_module_version": "2.0.0",
      "model_name": "CheckboxStyleModel",
      "state": {
       "description_width": ""
      }
     },
     "fe3b2e10d7574fac969ae9e41af59f57": {
      "model_module": "@jupyter-widgets/base",
      "model_module_version": "2.0.0",
      "model_name": "LayoutModel",
      "state": {}
     },
     "fea915af14434d939c699afb2c3dc2c6": {
      "model_module": "@jupyter-widgets/controls",
      "model_module_version": "2.0.0",
      "model_name": "HTMLStyleModel",
      "state": {
       "description_width": "",
       "font_size": null,
       "text_color": null
      }
     },
     "fead128d4deb4ad482d79cc1034c2eb5": {
      "model_module": "@jupyter-widgets/controls",
      "model_module_version": "2.0.0",
      "model_name": "DescriptionStyleModel",
      "state": {
       "description_width": ""
      }
     }
    },
    "version_major": 2,
    "version_minor": 0
   }
  }
 },
 "nbformat": 4,
 "nbformat_minor": 5
}
