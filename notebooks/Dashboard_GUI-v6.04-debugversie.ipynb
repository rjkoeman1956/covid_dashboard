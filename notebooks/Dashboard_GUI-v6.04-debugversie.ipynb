{
 "cells": [
  {
   "cell_type": "markdown",
   "id": "18d39bae-593e-4c2a-8c03-2bf79459d93b",
   "metadata": {},
   "source": [
    "# Debugversie, icm data_service_debug.py"
   ]
  },
  {
   "cell_type": "code",
   "execution_count": 1,
   "id": "0fc8fcb9",
   "metadata": {},
   "outputs": [
    {
     "name": "stdout",
     "output_type": "stream",
     "text": [
      "ℹ️ SRC al aanwezig of niet gevonden: C:\\Users\\ronal\\Opdracht2_github_Harold\\covid_dashboard-main\\src\n"
     ]
    }
   ],
   "source": [
    "# 📦 Intital imports\n",
    "import sys\n",
    "from pathlib import Path\n",
    "\n",
    "# Zoek project root waar config.py staat\n",
    "project_root = Path.cwd()\n",
    "while not (project_root / 'config.py').exists() and project_root != project_root.parent:\n",
    "    project_root = project_root.parent\n",
    "sys.path.insert(0, project_root.as_posix())\n",
    "\n",
    "# Voeg ook src/ toe aan sys.path\n",
    "SRC_DIR = project_root / \"src\"\n",
    "if SRC_DIR.exists() and str(SRC_DIR) not in sys.path:\n",
    "    sys.path.insert(0, str(SRC_DIR))\n",
    "\n",
    "# Importeer paden en hulpfuncties\n",
    "from config import SRC_DIR, CSV_DIR, SHAPEFILES_DIR, EXPORTS_DIR, UTILS_DIR\n",
    "from notebook_setup import init_notebook_environment\n",
    "from ui_helpers import setup_tab_controls\n",
    "\n",
    "# Init-actie (optioneel print info)\n",
    "init_notebook_environment()\n"
   ]
  },
  {
   "cell_type": "code",
   "execution_count": 3,
   "id": "e0d4594f-d916-4b55-a677-b8ddaa90aa60",
   "metadata": {},
   "outputs": [],
   "source": [
    "# 📦 Widget imports\n",
    "import ipywidgets as widgets"
   ]
  },
  {
   "cell_type": "code",
   "execution_count": 5,
   "id": "be568633",
   "metadata": {},
   "outputs": [
    {
     "name": "stdout",
     "output_type": "stream",
     "text": [
      "Beschikbare kolommen in df: ['Total_reported', 'Deceased', 'Hospital_admission', 'Municipality_name_merged', 'Province_merged', 'Year', 'Month', 'Month_name']\n"
     ]
    }
   ],
   "source": [
    "# 📂 Import clean COVID dataset\n",
    "import data_service\n",
    "df = data_service.get_prepared_covid_dataset()\n",
    "print(\"Beschikbare kolommen in df:\", df.columns.tolist())"
   ]
  },
  {
   "cell_type": "code",
   "execution_count": 6,
   "id": "614f0fa8-334f-4508-9fab-bd8ec712555f",
   "metadata": {},
   "outputs": [
    {
     "name": "stdout",
     "output_type": "stream",
     "text": [
      "Werkdirectory ingesteld op: C:\\Users\\ronal\\Opdracht2_github_Harold\\covid_dashboard-main\\notebooks\n"
     ]
    }
   ],
   "source": [
    "# 📂 Paden instellen + modules laden\n",
    "import os, sys\n",
    "from pathlib import Path\n",
    "\n",
    "project_root = Path.cwd()\n",
    "while not (project_root / 'config.py').exists() and project_root != project_root.parent:\n",
    "    project_root = project_root.parent\n",
    "sys.path.insert(0, project_root.as_posix())\n",
    "\n",
    "from config import SRC_DIR, CSV_DIR\n",
    "if SRC_DIR.as_posix() not in sys.path:\n",
    "    sys.path.insert(0, SRC_DIR.as_posix())\n",
    "\n",
    "import data_service \n",
    "from data_service_debug import get_metric_mapping_covid, get_metric_mapping_sewer, get_available_years\n",
    "import covid_dashboard_presenter\n",
    "from IPython.display import display\n",
    "from ipywidgets import Button, Layout, Textarea, HBox, VBox\n",
    "\n",
    "from data_service_debug import get_province_heatmap_data\n",
    "from data_service_debug import get_municipality_heatmap_data\n",
    "from data_service_debug import get_province_heatmap_riool_data\n",
    "from data_service_debug import get_municipality_heatmap_riool_data\n",
    "\n",
    "from covid_dashboard_presenter import plot_province_heatmap\n",
    "from covid_dashboard_presenter import plot_municipality_heatmap\n",
    "from covid_dashboard_presenter import plot_province_heatmap_riool\n",
    "from covid_dashboard_presenter import plot_municipality_heatmap_riool\n",
    "\n",
    "# Let Municipalities checkbox flip exclusive\n",
    "def on_municipalities_change(change):\n",
    "    if change['new'] == True:\n",
    "        months_checkbox.value = False\n",
    "\n",
    "# Let Months checkbox flip exclusive\n",
    "def on_months_change(change):\n",
    "    if change['new'] == True:\n",
    "        municipalities_checkbox.value = False\n",
    "\n",
    "# Plot Covid GUI\n",
    "def plot_covid(year, total_reported, hospital_admission, deceased, province, municipalities, months):\n",
    "    covid_dashboard_presenter.plot_covid(df,\n",
    "                                        year, \n",
    "                                        total_reported, \n",
    "                                        hospital_admission, \n",
    "                                        deceased, \n",
    "                                        province, \n",
    "                                        municipalities, \n",
    "                                        months)  \n",
    "\n",
    "def update_province_heatmap(year, column):\n",
    "    gdf = get_province_heatmap_data(year)\n",
    "    plot_province_heatmap(gdf, column=column)\n",
    "\n",
    "# Functie om de heatmap bij te werken\n",
    "def update_municipality_heatmap(year, metric):\n",
    "    gdf = get_municipality_heatmap_data(year)\n",
    "    plot_municipality_heatmap(gdf, metric=metric)\n",
    "\n",
    "# Plot Rioolwater GUI\n",
    "def plot_covid_riool(year):\n",
    "    covid_dashboard_presenter.plot_covid_riool(year)  \n",
    "\n",
    "# Create a list of outs for tabs\n",
    "out1 = widgets.Output()\n",
    "out2 = widgets.Output()\n",
    "out3 = widgets.Output()\n",
    "out4 = widgets.Output()\n",
    "\n",
    "# Create a list of tabs for GUI\n",
    "tabs = widgets.Tab(children = [out1, out2, out3, out4])\n",
    "tabs.set_title(0, 'Covid Barcharts')\n",
    "tabs.set_title(1, 'Covid Heatmap')\n",
    "tabs.set_title(2, 'Sewer Heatmap')\n",
    "tabs.set_title(3, 'Download dataset')\n",
    "\n",
    "print('Werkdirectory ingesteld op:', os.getcwd())"
   ]
  },
  {
   "cell_type": "code",
   "execution_count": 7,
   "id": "9dba7a4c",
   "metadata": {},
   "outputs": [],
   "source": [
    "# 📊 Tab 1, Plot Covid barcharts\n",
    "with out1:\n",
    "    title_widget1 = widgets.HTML(\"<h3 style='text-align:left; margin-left:90px;'>COVID-Dataset</h3>\")\n",
    "    year_dropdown = widgets.Dropdown(description='Year:', options=get_available_years(df))\n",
    "    total_reported_checkbox = widgets.Checkbox(value=True, description='Total reported')\n",
    "    hospital_admission_checkbox = widgets.Checkbox(value=True, description='Hospital admission')\n",
    "    deceased_checkbox = widgets.Checkbox(value=True, description='Deceased')\n",
    "    province_dropdown = widgets.Dropdown(description='Level:', options=['Netherlands', 'All provinces'] + df['Province_merged'].dropna().unique().tolist(), value='Netherlands')\n",
    "    municipalities_checkbox = widgets.Checkbox(value=True, description='Municipalities')\n",
    "    months_checkbox = widgets.Checkbox(value=False, description='Months')\n",
    "    months_checkbox.observe(on_months_change, names='value')\n",
    "    municipalities_checkbox.observe(on_municipalities_change, names='value')\n",
    "\n",
    "    row1 = VBox( [year_dropdown, total_reported_checkbox, hospital_admission_checkbox, deceased_checkbox, province_dropdown, municipalities_checkbox, months_checkbox])\n",
    "    ui = VBox( [title_widget1, row1])\n",
    "    out = widgets.interactive_output(plot_covid, {\n",
    "        'year':year_dropdown, \n",
    "        'total_reported':total_reported_checkbox, \n",
    "        'hospital_admission':hospital_admission_checkbox, \n",
    "        'deceased':deceased_checkbox, \n",
    "        'province': province_dropdown, \n",
    "        'municipalities': municipalities_checkbox, \n",
    "        'months': months_checkbox\n",
    "    } )\n",
    "    display(ui, out)"
   ]
  },
  {
   "cell_type": "code",
   "execution_count": 8,
   "id": "b07ffbc8",
   "metadata": {},
   "outputs": [],
   "source": [
    "# 📊 Tab 2, Plot Covid heatmap\n",
    "with out2:              \n",
    "    title_widget2 = widgets.HTML(\"<h3 style='text-align:left; margin-left:90px;'>Heatmap Provinces</h3>\")       \n",
    "    year_dropdown = widgets.Dropdown(description='Year:', options=get_available_years(df))    \n",
    "    region_dropdown = widgets.Dropdown(description='Level:', options=['Provinces', 'Municipalities'], value='Provinces')       \n",
    "    metric_options = get_metric_mapping_covid()\n",
    "    metric_dropdown = widgets.Dropdown(description='Metric:', options=list(metric_options.keys()), value='Total reported')\n",
    "    \n",
    "    def update_heatmap(year, metric_label, region_type):\n",
    "        title_text = 'Covid Heatmap ' + region_type\n",
    "        title_widget2.value = f\"<h3 style='text-align:left; margin-left:90px;'>{title_text}</h3>\"\n",
    "        metric_options = get_metric_mapping_covid()\n",
    "        metric = metric_options[metric_label]\n",
    "        if region_type == 'Provinces':\n",
    "            gdf = get_province_heatmap_data(year, metric)\n",
    "            plot_province_heatmap(gdf, column=metric)\n",
    "        else:\n",
    "            gdf = get_municipality_heatmap_data(year, metric)\n",
    "            plot_municipality_heatmap(gdf, column=metric)\n",
    "            \n",
    "    ui = VBox([title_widget2, year_dropdown, region_dropdown, metric_dropdown])\n",
    "    out = widgets.interactive_output(update_heatmap, {\n",
    "        'year': year_dropdown,\n",
    "        'metric_label': metric_dropdown,\n",
    "        'region_type': region_dropdown\n",
    "    })\n",
    "    display(ui, out)"
   ]
  },
  {
   "cell_type": "code",
   "execution_count": 9,
   "id": "65098204",
   "metadata": {},
   "outputs": [],
   "source": [
    "# 📊 Tab 3, Plot Sewer heatmap\n",
    "with out3:\n",
    "    title_widget3 = widgets.HTML(\"<h3 style='text-align:left; margin-left:80px;'>Heatmap Riool</h3>\")\n",
    "    year_dropdown = widgets.Dropdown(description='Year:', options=get_available_years(df))\n",
    "    region_dropdown = widgets.Dropdown(description='Level:', options=['Provinces', 'Municipalities'], value='Provinces')\n",
    "    metric_options = get_metric_mapping_sewer()\n",
    "    metric_dropdown = widgets.Dropdown(description='Metric:', options=list(metric_options.keys()), value='RNA flow per 100000')\n",
    "    \n",
    "    def update_heatmap_riool(year, metric_label, region_type):\n",
    "        title_text = 'Sewer Heatmap ' + region_type\n",
    "        title_widget3.value = f\"<h3 style='text-align:left; margin-left:90px;'>{title_text}</h3>\"\n",
    "        metric_options = get_metric_mapping_sewer()\n",
    "        metric = metric_options[metric_label]\n",
    "        if region_type == 'Provinces':\n",
    "            gdf = get_province_heatmap_riool_data(year, metric)\n",
    "            plot_province_heatmap_riool(gdf, column='RNA_flow_per_100000')\n",
    "        else:\n",
    "            gdf = get_municipality_heatmap_riool_data(year, metric)\n",
    "            plot_municipality_heatmap_riool(gdf, column='RNA_flow_per_100000')\n",
    "\n",
    "    ui = VBox([title_widget3, year_dropdown, region_dropdown, metric_dropdown])\n",
    "    out = widgets.interactive_output(update_heatmap_riool, {\n",
    "        'year': year_dropdown,\n",
    "        'region_type': region_dropdown,\n",
    "        'metric_label': metric_dropdown\n",
    "    })\n",
    "    display(ui, out)"
   ]
  },
  {
   "cell_type": "code",
   "execution_count": 10,
   "id": "3f6e8af2-b48c-4b3f-8401-46da76af7066",
   "metadata": {},
   "outputs": [],
   "source": [
    "# 📦 Tab 4, Download datasets\n",
    "with out4:\n",
    "    title_widget4 = widgets.HTML(\"<h3 style='text-align:left; margin-left:90px;'>Download data</h3>\")\n",
    "    from IPython.display import display, Markdown\n",
    "    from data_writer import Saveframes\n",
    "    from data_writer import Savepoly\n",
    "    \n",
    "    def run_download_poly(*args):\n",
    "        output.clear_output()\n",
    "        \n",
    "        try:\n",
    "            result = Savepoly()\n",
    "            for fname, status in result.items():\n",
    "                print(f\"{fname}: {status}\")\n",
    "        except Exception as e:\n",
    "            print(f\"❌ Fout bij opslaan of ophalen van resultaten: {e}\")\n",
    "        \n",
    "    def run_download(*args):\n",
    "        output.clear_output()\n",
    "        \n",
    "        try:\n",
    "            result = Saveframes()\n",
    "            for fname, status in result.items():\n",
    "                print(f\"{fname}: {status}\")\n",
    "        except Exception as e:\n",
    "            print(f\"❌ Fout bij opslaan of ophalen van resultaten: {e}\")\n",
    "\n",
    "    download_button = widgets.Button(description='Download RIVM', button_style='success')\n",
    "    download_button.on_click(run_download)\n",
    "    download_poly_button = widgets.Button(description='Download CBS', button_style='success')\n",
    "    download_poly_button.on_click(run_download_poly)\n",
    "\n",
    "    output = widgets.Output()\n",
    "    display(widgets.VBox([\n",
    "        title_widget4,\n",
    "        download_button, download_poly_button,\n",
    "        output\n",
    "    ]))"
   ]
  },
  {
   "cell_type": "code",
   "execution_count": 11,
   "id": "39cb9484",
   "metadata": {},
   "outputs": [
    {
     "data": {
      "application/vnd.jupyter.widget-view+json": {
       "model_id": "1135ee1e4bb2414d93e062fe85bcd970",
       "version_major": 2,
       "version_minor": 0
      },
      "text/plain": [
       "Tab(children=(Output(), Output(), Output(), Output()), selected_index=0, titles=('Covid Barcharts', 'Covid Hea…"
      ]
     },
     "metadata": {},
     "output_type": "display_data"
    }
   ],
   "source": [
    "# ✅ Display Tabs Covid Dashboard\n",
    "display(tabs)"
   ]
  },
  {
   "cell_type": "code",
   "execution_count": null,
   "id": "342f3f32-a724-4e7a-a207-6c6430214106",
   "metadata": {},
   "outputs": [],
   "source": []
  },
  {
   "cell_type": "code",
   "execution_count": null,
   "id": "475534c6-8fbc-49ce-a3ef-e20eb633cbc1",
   "metadata": {},
   "outputs": [],
   "source": []
  },
  {
   "cell_type": "code",
   "execution_count": null,
   "id": "abb3917c-a88e-4377-a37d-0b66875ecf77",
   "metadata": {},
   "outputs": [],
   "source": []
  },
  {
   "cell_type": "code",
   "execution_count": null,
   "id": "e743cfc5-0dcf-437c-a077-76a987499662",
   "metadata": {},
   "outputs": [],
   "source": []
  }
 ],
 "metadata": {
  "kernelspec": {
   "display_name": "Python [conda env:base] *",
   "language": "python",
   "name": "conda-base-py"
  },
  "language_info": {
   "codemirror_mode": {
    "name": "ipython",
    "version": 3
   },
   "file_extension": ".py",
   "mimetype": "text/x-python",
   "name": "python",
   "nbconvert_exporter": "python",
   "pygments_lexer": "ipython3",
   "version": "3.12.3"
  },
  "widgets": {
   "application/vnd.jupyter.widget-state+json": {
    "state": {
     "007a337b90c54f3fad3109a63474c23f": {
      "model_module": "@jupyter-widgets/controls",
      "model_module_version": "2.0.0",
      "model_name": "CheckboxModel",
      "state": {
       "description": "Total reported",
       "disabled": false,
       "layout": "IPY_MODEL_0609c448d191485e8ba7bc7ca8905e8c",
       "style": "IPY_MODEL_ae03ef9377394f0889fc2e85e2ec7678",
       "value": true
      }
     },
     "056be40cd951486686520a3a046016aa": {
      "model_module": "@jupyter-widgets/controls",
      "model_module_version": "2.0.0",
      "model_name": "CheckboxStyleModel",
      "state": {
       "description_width": ""
      }
     },
     "05ec8e1f83144090ae367fffb5a60289": {
      "model_module": "@jupyter-widgets/controls",
      "model_module_version": "2.0.0",
      "model_name": "HTMLStyleModel",
      "state": {
       "description_width": "",
       "font_size": null,
       "text_color": null
      }
     },
     "0609c448d191485e8ba7bc7ca8905e8c": {
      "model_module": "@jupyter-widgets/base",
      "model_module_version": "2.0.0",
      "model_name": "LayoutModel",
      "state": {}
     },
     "06720fe754bc4d43a971213e772bfac4": {
      "model_module": "@jupyter-widgets/controls",
      "model_module_version": "2.0.0",
      "model_name": "DropdownModel",
      "state": {
       "_options_labels": [
        "RNA flow per 100000"
       ],
       "description": "Metric:",
       "index": 0,
       "layout": "IPY_MODEL_a63cb1a099284e7b9e5cbfb80d73ba20",
       "style": "IPY_MODEL_677c2fe1124a4036a99c10626c1db6cc"
      }
     },
     "09d3e595ca32464b93d26d3b2154f979": {
      "model_module": "@jupyter-widgets/output",
      "model_module_version": "1.0.0",
      "model_name": "OutputModel",
      "state": {
       "layout": "IPY_MODEL_d095d96f03c04061b56be85e450de591",
       "outputs": [
        {
         "data": {
          "application/vnd.jupyter.widget-view+json": {
           "model_id": "e65fabb53201436999bc2a3161f5d9a4",
           "version_major": 2,
           "version_minor": 0
          },
          "text/plain": "VBox(children=(HTML(value=\"<h3 style='text-align:left; margin-left:90px;'>Download RIVM-data</h3>\"), Button(bu…"
         },
         "metadata": {},
         "output_type": "display_data"
        }
       ]
      }
     },
     "0b947027bafe45869d50d05b6ad67ef1": {
      "model_module": "@jupyter-widgets/controls",
      "model_module_version": "2.0.0",
      "model_name": "TabModel",
      "state": {
       "children": [
        "IPY_MODEL_1d653875033a4b449a7b323dce9c17d6",
        "IPY_MODEL_9f129f2b7cd942d283c7b3568d5a2acf",
        "IPY_MODEL_4694d35aa85c45269c2ec29dc0a1daa1",
        "IPY_MODEL_09d3e595ca32464b93d26d3b2154f979"
       ],
       "layout": "IPY_MODEL_f65f660794b0400e9ee724afa9c16d9f",
       "selected_index": 2,
       "titles": [
        "Covid Barcharts",
        "Covid Heatmap",
        "Sewer Heatmap",
        "Download dataset"
       ]
      }
     },
     "0f5cd04a2f024b2a81610ead6c5cefbc": {
      "model_module": "@jupyter-widgets/controls",
      "model_module_version": "2.0.0",
      "model_name": "VBoxModel",
      "state": {
       "children": [
        "IPY_MODEL_452e90708306456e93de6fb1e8e5cd60",
        "IPY_MODEL_7dc861887d4e442ba945df4e89324155",
        "IPY_MODEL_b328ffe6642f4f3db419b309a240a9cd",
        "IPY_MODEL_06720fe754bc4d43a971213e772bfac4"
       ],
       "layout": "IPY_MODEL_f333351426bb4f6d8022a9de08604694"
      }
     },
     "10336e4646cd4f61b2ba0dce700b3da9": {
      "model_module": "@jupyter-widgets/output",
      "model_module_version": "1.0.0",
      "model_name": "OutputModel",
      "state": {
       "layout": "IPY_MODEL_54479d5229b84576a5a08385a6ca5745",
       "outputs": [
        {
         "name": "stdout",
         "output_type": "stream",
         "text": "Sample values in Deceased: 0       NaN\n1    1633.0\n2    1294.0\n3     138.0\n4     869.0\n5    1026.0\n6     156.0\n7     129.0\n8    2387.0\n9    2823.0\nName: Deceased, dtype: float64\nMax value in column: 2823.0\nColumn type: float64\nNot-NaN vlues: 11\nMerge-status: _merge\nboth          11\nleft_only      1\nright_only     0\nName: count, dtype: int64\nColumn names: Index(['CBS_CODE', 'Province_merged', 'OBJECTID', 'geometry', 'Deceased'], dtype='object')\n\nRIVM Covid, data per province in 2020 :\n\nDrenthe: 138.0\nFlevoland: 156.0\nFryslân: 172.0\nGelderland: 1294.0\nGroningen: 90.0\nLimburg: 1026.0\nNoord-Brabant: 2387.0\nNoord-Holland: 1633.0\nOverijssel: 686.0\nUtrecht: 869.0\nZeeland: 129.0\nZuid-Holland: 2823.0\n"
        },
        {
         "data": {
          "image/png": "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",
          "text/plain": "<Figure size 800x600 with 2 Axes>"
         },
         "metadata": {},
         "output_type": "display_data"
        }
       ]
      }
     },
     "10545518c98248b08d59147ae3173b03": {
      "model_module": "@jupyter-widgets/base",
      "model_module_version": "2.0.0",
      "model_name": "LayoutModel",
      "state": {}
     },
     "1d653875033a4b449a7b323dce9c17d6": {
      "model_module": "@jupyter-widgets/output",
      "model_module_version": "1.0.0",
      "model_name": "OutputModel",
      "state": {
       "layout": "IPY_MODEL_c50418c310694e18b9bd93ac5851535c",
       "outputs": [
        {
         "data": {
          "application/vnd.jupyter.widget-view+json": {
           "model_id": "71168ae04c5e4c20aecbd15a0f6f47d9",
           "version_major": 2,
           "version_minor": 0
          },
          "text/plain": "VBox(children=(HTML(value=\"<h3 style='text-align:left; margin-left:90px;'>COVID-Dataset</h3>\"), VBox(children=…"
         },
         "metadata": {},
         "output_type": "display_data"
        },
        {
         "data": {
          "application/vnd.jupyter.widget-view+json": {
           "model_id": "e1aaf6de39b0448b8754e4e77f7123a8",
           "version_major": 2,
           "version_minor": 0
          },
          "text/plain": "Output()"
         },
         "metadata": {},
         "output_type": "display_data"
        }
       ]
      }
     },
     "25530962371c4775a23b8336c5724fbf": {
      "model_module": "@jupyter-widgets/base",
      "model_module_version": "2.0.0",
      "model_name": "LayoutModel",
      "state": {}
     },
     "2a219edb56b7424aa929ffcd8655527e": {
      "model_module": "@jupyter-widgets/output",
      "model_module_version": "1.0.0",
      "model_name": "OutputModel",
      "state": {
       "layout": "IPY_MODEL_74271253eeae46a78c02a92a1d9f01d9",
       "outputs": [
        {
         "name": "stdout",
         "output_type": "stream",
         "text": "Sample values in RNA_flow_per_100000: 0     5710224810352273\n1     8766989383202206\n2    14955201586812795\n3     2016480747019555\n4    18160469659790383\n5     4457336331715862\n6     3446626932761548\n7     1611842055652234\n8     4781106169049957\n9    15728037079832154\nName: RNA_flow_per_100000, dtype: int64\nMax value in column: 18160469659790383\nColumn type: int64\nNot-NaN vlues: 12\nMerge-status: _merge\nboth          12\nleft_only      0\nright_only     0\nName: count, dtype: int64\nColumn names: Index(['CBS_CODE', 'Provincie', 'OBJECTID', 'geometry', 'RNA_flow_per_100000'], dtype='object')\n\nRNA-flow, data per province in 2020 :\n\nDrenthe: 2016480747019555\nFlevoland: 3446626932761548\nFriesland: 5710224810352273\nGelderland: 14955201586812795\nGroningen: 3334431826342481\nLimburg: 4457336331715862\nNoord-Brabant: 4781106169049957\nNoord-Holland: 8766989383202206\nOverijssel: 10072727652220505\nUtrecht: 18160469659790383\nZeeland: 1611842055652234\nZuid-Holland: 15728037079832154\n"
        },
        {
         "data": {
          "image/png": "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",
          "text/plain": "<Figure size 800x600 with 2 Axes>"
         },
         "metadata": {},
         "output_type": "display_data"
        }
       ]
      }
     },
     "34605b146da9494ea65cda37286352f9": {
      "model_module": "@jupyter-widgets/controls",
      "model_module_version": "2.0.0",
      "model_name": "HTMLStyleModel",
      "state": {
       "description_width": "",
       "font_size": null,
       "text_color": null
      }
     },
     "38d4bd0d36364cf6b5dec0673dd6685e": {
      "model_module": "@jupyter-widgets/base",
      "model_module_version": "2.0.0",
      "model_name": "LayoutModel",
      "state": {}
     },
     "3b6bbaa42bbc44e084d723e366845734": {
      "model_module": "@jupyter-widgets/base",
      "model_module_version": "2.0.0",
      "model_name": "LayoutModel",
      "state": {}
     },
     "420bc319e8c44b7bb0279733d77fcd5e": {
      "model_module": "@jupyter-widgets/controls",
      "model_module_version": "2.0.0",
      "model_name": "CheckboxStyleModel",
      "state": {
       "description_width": ""
      }
     },
     "43ec05266564409a9ddfa47b45caa7fa": {
      "model_module": "@jupyter-widgets/controls",
      "model_module_version": "2.0.0",
      "model_name": "CheckboxModel",
      "state": {
       "description": "Hospital admission",
       "disabled": false,
       "layout": "IPY_MODEL_535521378ff440559aae75e672d5114c",
       "style": "IPY_MODEL_420bc319e8c44b7bb0279733d77fcd5e",
       "value": true
      }
     },
     "452e90708306456e93de6fb1e8e5cd60": {
      "model_module": "@jupyter-widgets/controls",
      "model_module_version": "2.0.0",
      "model_name": "HTMLModel",
      "state": {
       "layout": "IPY_MODEL_dcbe2bba11b14a0cbe29ff6148bd0935",
       "style": "IPY_MODEL_05ec8e1f83144090ae367fffb5a60289",
       "value": "<h3 style='text-align:left; margin-left:90px;'>Sewer Heatmap Provinces</h3>"
      }
     },
     "4694d35aa85c45269c2ec29dc0a1daa1": {
      "model_module": "@jupyter-widgets/output",
      "model_module_version": "1.0.0",
      "model_name": "OutputModel",
      "state": {
       "layout": "IPY_MODEL_d736d669a7534c81ac66638e8636f2ef",
       "outputs": [
        {
         "data": {
          "application/vnd.jupyter.widget-view+json": {
           "model_id": "0f5cd04a2f024b2a81610ead6c5cefbc",
           "version_major": 2,
           "version_minor": 0
          },
          "text/plain": "VBox(children=(HTML(value=\"<h3 style='text-align:left; margin-left:90px;'>Sewer Heatmap Provinces</h3>\"), Drop…"
         },
         "metadata": {},
         "output_type": "display_data"
        },
        {
         "data": {
          "application/vnd.jupyter.widget-view+json": {
           "model_id": "2a219edb56b7424aa929ffcd8655527e",
           "version_major": 2,
           "version_minor": 0
          },
          "text/plain": "Output()"
         },
         "metadata": {},
         "output_type": "display_data"
        }
       ]
      }
     },
     "4af280cfc30444009d0a1e08291091dc": {
      "model_module": "@jupyter-widgets/controls",
      "model_module_version": "2.0.0",
      "model_name": "DescriptionStyleModel",
      "state": {
       "description_width": ""
      }
     },
     "4c212f5352ce4e2fa0042c952d7e8f78": {
      "model_module": "@jupyter-widgets/base",
      "model_module_version": "2.0.0",
      "model_name": "LayoutModel",
      "state": {}
     },
     "4f2a98351b874e2d88b32af549658298": {
      "model_module": "@jupyter-widgets/controls",
      "model_module_version": "2.0.0",
      "model_name": "CheckboxStyleModel",
      "state": {
       "description_width": ""
      }
     },
     "502bebd8050e4802b2c3b1171be86a2d": {
      "model_module": "@jupyter-widgets/controls",
      "model_module_version": "2.0.0",
      "model_name": "VBoxModel",
      "state": {
       "children": [
        "IPY_MODEL_be7db7f1a2a04b0a949ae1bd5a14e7dc",
        "IPY_MODEL_9756a24719d0413e8ec49c5d1a82bb4d",
        "IPY_MODEL_7674d753dbcf48c5bc79e440d69642ac",
        "IPY_MODEL_82baaab92ac541348b974dff33f3c619"
       ],
       "layout": "IPY_MODEL_10545518c98248b08d59147ae3173b03"
      }
     },
     "5309166ee80345e9b16acf93c83b8e06": {
      "model_module": "@jupyter-widgets/controls",
      "model_module_version": "2.0.0",
      "model_name": "ButtonStyleModel",
      "state": {
       "font_family": null,
       "font_size": null,
       "font_style": null,
       "font_variant": null,
       "font_weight": null,
       "text_color": null,
       "text_decoration": null
      }
     },
     "535521378ff440559aae75e672d5114c": {
      "model_module": "@jupyter-widgets/base",
      "model_module_version": "2.0.0",
      "model_name": "LayoutModel",
      "state": {}
     },
     "54479d5229b84576a5a08385a6ca5745": {
      "model_module": "@jupyter-widgets/base",
      "model_module_version": "2.0.0",
      "model_name": "LayoutModel",
      "state": {}
     },
     "56cd2cb08ad044a78796808aecff7d44": {
      "model_module": "@jupyter-widgets/base",
      "model_module_version": "2.0.0",
      "model_name": "LayoutModel",
      "state": {}
     },
     "5aef34d7de5f453da2bc5003c619b1cf": {
      "model_module": "@jupyter-widgets/controls",
      "model_module_version": "2.0.0",
      "model_name": "DescriptionStyleModel",
      "state": {
       "description_width": ""
      }
     },
     "5bcd88aaddbe4c45accb84679d9e5e76": {
      "model_module": "@jupyter-widgets/controls",
      "model_module_version": "2.0.0",
      "model_name": "DescriptionStyleModel",
      "state": {
       "description_width": ""
      }
     },
     "5cce4d76480e462c94679faf14495af8": {
      "model_module": "@jupyter-widgets/controls",
      "model_module_version": "2.0.0",
      "model_name": "HTMLStyleModel",
      "state": {
       "description_width": "",
       "font_size": null,
       "text_color": null
      }
     },
     "677c2fe1124a4036a99c10626c1db6cc": {
      "model_module": "@jupyter-widgets/controls",
      "model_module_version": "2.0.0",
      "model_name": "DescriptionStyleModel",
      "state": {
       "description_width": ""
      }
     },
     "6f5ecb6681b44212a0ef48bd416c6829": {
      "model_module": "@jupyter-widgets/controls",
      "model_module_version": "2.0.0",
      "model_name": "DescriptionStyleModel",
      "state": {
       "description_width": ""
      }
     },
     "71168ae04c5e4c20aecbd15a0f6f47d9": {
      "model_module": "@jupyter-widgets/controls",
      "model_module_version": "2.0.0",
      "model_name": "VBoxModel",
      "state": {
       "children": [
        "IPY_MODEL_96a161ad11664874b1cb8259bd595511",
        "IPY_MODEL_b66125d38c794d60ac23fc3492bc9800"
       ],
       "layout": "IPY_MODEL_56cd2cb08ad044a78796808aecff7d44"
      }
     },
     "717e68975a6b479c9af031a66a4010d5": {
      "model_module": "@jupyter-widgets/controls",
      "model_module_version": "2.0.0",
      "model_name": "CheckboxModel",
      "state": {
       "description": "Deceased",
       "disabled": false,
       "layout": "IPY_MODEL_9dee4f2bcd87410aa81f7772d9d0c02f",
       "style": "IPY_MODEL_056be40cd951486686520a3a046016aa",
       "value": true
      }
     },
     "74271253eeae46a78c02a92a1d9f01d9": {
      "model_module": "@jupyter-widgets/base",
      "model_module_version": "2.0.0",
      "model_name": "LayoutModel",
      "state": {}
     },
     "7674d753dbcf48c5bc79e440d69642ac": {
      "model_module": "@jupyter-widgets/controls",
      "model_module_version": "2.0.0",
      "model_name": "DropdownModel",
      "state": {
       "_options_labels": [
        "Provinces",
        "Municipalities"
       ],
       "description": "Level:",
       "index": 0,
       "layout": "IPY_MODEL_848c582b8a5d4bb48e6e5ba549b9155b",
       "style": "IPY_MODEL_a5f7c010ab044a90aa65436970de93b4"
      }
     },
     "7ab5c30b2204420595ac46baa3a7c3e7": {
      "model_module": "@jupyter-widgets/base",
      "model_module_version": "2.0.0",
      "model_name": "LayoutModel",
      "state": {}
     },
     "7dc861887d4e442ba945df4e89324155": {
      "model_module": "@jupyter-widgets/controls",
      "model_module_version": "2.0.0",
      "model_name": "DropdownModel",
      "state": {
       "_options_labels": [
        "2020",
        "2021",
        "2022",
        "2023",
        "2024"
       ],
       "description": "Year:",
       "index": 0,
       "layout": "IPY_MODEL_c8c4dec6ec2f487bb826b1e9ab8cbd56",
       "style": "IPY_MODEL_5bcd88aaddbe4c45accb84679d9e5e76"
      }
     },
     "80b8f3faee5145768bb70f86e956900a": {
      "model_module": "@jupyter-widgets/base",
      "model_module_version": "2.0.0",
      "model_name": "LayoutModel",
      "state": {}
     },
     "82baaab92ac541348b974dff33f3c619": {
      "model_module": "@jupyter-widgets/controls",
      "model_module_version": "2.0.0",
      "model_name": "DropdownModel",
      "state": {
       "_options_labels": [
        "Total reported",
        "Hospital admission",
        "Deceased"
       ],
       "description": "Metric:",
       "index": 2,
       "layout": "IPY_MODEL_a6a84b17173b4140b9d8a52d2e631ee3",
       "style": "IPY_MODEL_4af280cfc30444009d0a1e08291091dc"
      }
     },
     "830061d35ba04efc8af32ed9a55ded30": {
      "model_module": "@jupyter-widgets/controls",
      "model_module_version": "2.0.0",
      "model_name": "ButtonModel",
      "state": {
       "button_style": "success",
       "description": "Download datasets",
       "layout": "IPY_MODEL_7ab5c30b2204420595ac46baa3a7c3e7",
       "style": "IPY_MODEL_5309166ee80345e9b16acf93c83b8e06",
       "tooltip": null
      }
     },
     "848c582b8a5d4bb48e6e5ba549b9155b": {
      "model_module": "@jupyter-widgets/base",
      "model_module_version": "2.0.0",
      "model_name": "LayoutModel",
      "state": {}
     },
     "89067fbf1e354834a248f475f1b679a2": {
      "model_module": "@jupyter-widgets/base",
      "model_module_version": "2.0.0",
      "model_name": "LayoutModel",
      "state": {}
     },
     "96a161ad11664874b1cb8259bd595511": {
      "model_module": "@jupyter-widgets/controls",
      "model_module_version": "2.0.0",
      "model_name": "HTMLModel",
      "state": {
       "layout": "IPY_MODEL_4c212f5352ce4e2fa0042c952d7e8f78",
       "style": "IPY_MODEL_faf0c3a2c7584b8a993cbbfafc66ecf8",
       "value": "<h3 style='text-align:left; margin-left:90px;'>COVID-Dataset</h3>"
      }
     },
     "9756a24719d0413e8ec49c5d1a82bb4d": {
      "model_module": "@jupyter-widgets/controls",
      "model_module_version": "2.0.0",
      "model_name": "DropdownModel",
      "state": {
       "_options_labels": [
        "2020",
        "2021",
        "2022",
        "2023",
        "2024"
       ],
       "description": "Year:",
       "index": 0,
       "layout": "IPY_MODEL_80b8f3faee5145768bb70f86e956900a",
       "style": "IPY_MODEL_5aef34d7de5f453da2bc5003c619b1cf"
      }
     },
     "97a794bddc85425ea8050f73be3be7b2": {
      "model_module": "@jupyter-widgets/controls",
      "model_module_version": "2.0.0",
      "model_name": "DropdownModel",
      "state": {
       "_options_labels": [
        "Netherlands",
        "All provinces",
        "Drenthe",
        "Flevoland",
        "Fryslân",
        "Groningen",
        "Overijssel",
        "Gelderland",
        "Utrecht",
        "Noord-Holland",
        "Zuid-Holland",
        "Zeeland",
        "Noord-Brabant",
        "Limburg"
       ],
       "description": "Level:",
       "index": 0,
       "layout": "IPY_MODEL_dcd8089c4f394c7aa0eebcb24bf38056",
       "style": "IPY_MODEL_6f5ecb6681b44212a0ef48bd416c6829"
      }
     },
     "9dee4f2bcd87410aa81f7772d9d0c02f": {
      "model_module": "@jupyter-widgets/base",
      "model_module_version": "2.0.0",
      "model_name": "LayoutModel",
      "state": {}
     },
     "9f129f2b7cd942d283c7b3568d5a2acf": {
      "model_module": "@jupyter-widgets/output",
      "model_module_version": "1.0.0",
      "model_name": "OutputModel",
      "state": {
       "layout": "IPY_MODEL_c2a93fb80d104c68a8de49ee2aaebc86",
       "outputs": [
        {
         "data": {
          "application/vnd.jupyter.widget-view+json": {
           "model_id": "502bebd8050e4802b2c3b1171be86a2d",
           "version_major": 2,
           "version_minor": 0
          },
          "text/plain": "VBox(children=(HTML(value=\"<h3 style='text-align:left; margin-left:90px;'>Covid Heatmap Provinces</h3>\"), Drop…"
         },
         "metadata": {},
         "output_type": "display_data"
        },
        {
         "data": {
          "application/vnd.jupyter.widget-view+json": {
           "model_id": "10336e4646cd4f61b2ba0dce700b3da9",
           "version_major": 2,
           "version_minor": 0
          },
          "text/plain": "Output()"
         },
         "metadata": {},
         "output_type": "display_data"
        }
       ]
      }
     },
     "a237c7a916324925826854a7756f566c": {
      "model_module": "@jupyter-widgets/base",
      "model_module_version": "2.0.0",
      "model_name": "LayoutModel",
      "state": {}
     },
     "a3b979b1eba8412abd06c9dc96fe31e9": {
      "model_module": "@jupyter-widgets/controls",
      "model_module_version": "2.0.0",
      "model_name": "CheckboxModel",
      "state": {
       "description": "Months",
       "disabled": false,
       "layout": "IPY_MODEL_38d4bd0d36364cf6b5dec0673dd6685e",
       "style": "IPY_MODEL_4f2a98351b874e2d88b32af549658298",
       "value": false
      }
     },
     "a5f7c010ab044a90aa65436970de93b4": {
      "model_module": "@jupyter-widgets/controls",
      "model_module_version": "2.0.0",
      "model_name": "DescriptionStyleModel",
      "state": {
       "description_width": ""
      }
     },
     "a63cb1a099284e7b9e5cbfb80d73ba20": {
      "model_module": "@jupyter-widgets/base",
      "model_module_version": "2.0.0",
      "model_name": "LayoutModel",
      "state": {}
     },
     "a6a84b17173b4140b9d8a52d2e631ee3": {
      "model_module": "@jupyter-widgets/base",
      "model_module_version": "2.0.0",
      "model_name": "LayoutModel",
      "state": {}
     },
     "ae03ef9377394f0889fc2e85e2ec7678": {
      "model_module": "@jupyter-widgets/controls",
      "model_module_version": "2.0.0",
      "model_name": "CheckboxStyleModel",
      "state": {
       "description_width": ""
      }
     },
     "b2fab3d734494502a2805ea06178b7a6": {
      "model_module": "@jupyter-widgets/output",
      "model_module_version": "1.0.0",
      "model_name": "OutputModel",
      "state": {
       "layout": "IPY_MODEL_cd9e31ebe48d4a9fa03023437a6a9dcb"
      }
     },
     "b328ffe6642f4f3db419b309a240a9cd": {
      "model_module": "@jupyter-widgets/controls",
      "model_module_version": "2.0.0",
      "model_name": "DropdownModel",
      "state": {
       "_options_labels": [
        "Provinces",
        "Municipalities"
       ],
       "description": "Level:",
       "index": 0,
       "layout": "IPY_MODEL_89067fbf1e354834a248f475f1b679a2",
       "style": "IPY_MODEL_f483ecf681b04a14b12474475026ba64"
      }
     },
     "b66125d38c794d60ac23fc3492bc9800": {
      "model_module": "@jupyter-widgets/controls",
      "model_module_version": "2.0.0",
      "model_name": "VBoxModel",
      "state": {
       "children": [
        "IPY_MODEL_d441caa9948349459e74a8e739674a6c",
        "IPY_MODEL_007a337b90c54f3fad3109a63474c23f",
        "IPY_MODEL_43ec05266564409a9ddfa47b45caa7fa",
        "IPY_MODEL_717e68975a6b479c9af031a66a4010d5",
        "IPY_MODEL_97a794bddc85425ea8050f73be3be7b2",
        "IPY_MODEL_d54717c12b64455784bb144bb1f02551",
        "IPY_MODEL_a3b979b1eba8412abd06c9dc96fe31e9"
       ],
       "layout": "IPY_MODEL_b72dd68532794100abb6fa762e2f1dd0"
      }
     },
     "b72dd68532794100abb6fa762e2f1dd0": {
      "model_module": "@jupyter-widgets/base",
      "model_module_version": "2.0.0",
      "model_name": "LayoutModel",
      "state": {}
     },
     "be7db7f1a2a04b0a949ae1bd5a14e7dc": {
      "model_module": "@jupyter-widgets/controls",
      "model_module_version": "2.0.0",
      "model_name": "HTMLModel",
      "state": {
       "layout": "IPY_MODEL_25530962371c4775a23b8336c5724fbf",
       "style": "IPY_MODEL_5cce4d76480e462c94679faf14495af8",
       "value": "<h3 style='text-align:left; margin-left:90px;'>Covid Heatmap Provinces</h3>"
      }
     },
     "c2a93fb80d104c68a8de49ee2aaebc86": {
      "model_module": "@jupyter-widgets/base",
      "model_module_version": "2.0.0",
      "model_name": "LayoutModel",
      "state": {}
     },
     "c50418c310694e18b9bd93ac5851535c": {
      "model_module": "@jupyter-widgets/base",
      "model_module_version": "2.0.0",
      "model_name": "LayoutModel",
      "state": {}
     },
     "c8c4dec6ec2f487bb826b1e9ab8cbd56": {
      "model_module": "@jupyter-widgets/base",
      "model_module_version": "2.0.0",
      "model_name": "LayoutModel",
      "state": {}
     },
     "cd0b355af8524a21bc1a53bd4d4cbf2e": {
      "model_module": "@jupyter-widgets/base",
      "model_module_version": "2.0.0",
      "model_name": "LayoutModel",
      "state": {}
     },
     "cd9e31ebe48d4a9fa03023437a6a9dcb": {
      "model_module": "@jupyter-widgets/base",
      "model_module_version": "2.0.0",
      "model_name": "LayoutModel",
      "state": {}
     },
     "d095d96f03c04061b56be85e450de591": {
      "model_module": "@jupyter-widgets/base",
      "model_module_version": "2.0.0",
      "model_name": "LayoutModel",
      "state": {}
     },
     "d441caa9948349459e74a8e739674a6c": {
      "model_module": "@jupyter-widgets/controls",
      "model_module_version": "2.0.0",
      "model_name": "DropdownModel",
      "state": {
       "_options_labels": [
        "2020",
        "2021",
        "2022",
        "2023",
        "2024"
       ],
       "description": "Year:",
       "index": 0,
       "layout": "IPY_MODEL_f97409bc53834e9b96fbe02f630b685c",
       "style": "IPY_MODEL_df63fd160ad94278b4008731abe185c6"
      }
     },
     "d54717c12b64455784bb144bb1f02551": {
      "model_module": "@jupyter-widgets/controls",
      "model_module_version": "2.0.0",
      "model_name": "CheckboxModel",
      "state": {
       "description": "Municipalities",
       "disabled": false,
       "layout": "IPY_MODEL_3b6bbaa42bbc44e084d723e366845734",
       "style": "IPY_MODEL_e98f3ae0798e4ce58272cc79c80f3f40",
       "value": true
      }
     },
     "d736d669a7534c81ac66638e8636f2ef": {
      "model_module": "@jupyter-widgets/base",
      "model_module_version": "2.0.0",
      "model_name": "LayoutModel",
      "state": {}
     },
     "dcbe2bba11b14a0cbe29ff6148bd0935": {
      "model_module": "@jupyter-widgets/base",
      "model_module_version": "2.0.0",
      "model_name": "LayoutModel",
      "state": {}
     },
     "dcd8089c4f394c7aa0eebcb24bf38056": {
      "model_module": "@jupyter-widgets/base",
      "model_module_version": "2.0.0",
      "model_name": "LayoutModel",
      "state": {}
     },
     "df63fd160ad94278b4008731abe185c6": {
      "model_module": "@jupyter-widgets/controls",
      "model_module_version": "2.0.0",
      "model_name": "DescriptionStyleModel",
      "state": {
       "description_width": ""
      }
     },
     "e1aaf6de39b0448b8754e4e77f7123a8": {
      "model_module": "@jupyter-widgets/output",
      "model_module_version": "1.0.0",
      "model_name": "OutputModel",
      "state": {
       "layout": "IPY_MODEL_e686ee2f89a64106878df5514daf6282",
       "outputs": [
        {
         "data": {
          "image/png": "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",
          "text/plain": "<Figure size 1500x600 with 1 Axes>"
         },
         "metadata": {},
         "output_type": "display_data"
        }
       ]
      }
     },
     "e65fabb53201436999bc2a3161f5d9a4": {
      "model_module": "@jupyter-widgets/controls",
      "model_module_version": "2.0.0",
      "model_name": "VBoxModel",
      "state": {
       "children": [
        "IPY_MODEL_f74f723f157a4d1d8219809aac1bbc95",
        "IPY_MODEL_830061d35ba04efc8af32ed9a55ded30",
        "IPY_MODEL_b2fab3d734494502a2805ea06178b7a6"
       ],
       "layout": "IPY_MODEL_a237c7a916324925826854a7756f566c"
      }
     },
     "e686ee2f89a64106878df5514daf6282": {
      "model_module": "@jupyter-widgets/base",
      "model_module_version": "2.0.0",
      "model_name": "LayoutModel",
      "state": {}
     },
     "e98f3ae0798e4ce58272cc79c80f3f40": {
      "model_module": "@jupyter-widgets/controls",
      "model_module_version": "2.0.0",
      "model_name": "CheckboxStyleModel",
      "state": {
       "description_width": ""
      }
     },
     "f333351426bb4f6d8022a9de08604694": {
      "model_module": "@jupyter-widgets/base",
      "model_module_version": "2.0.0",
      "model_name": "LayoutModel",
      "state": {}
     },
     "f483ecf681b04a14b12474475026ba64": {
      "model_module": "@jupyter-widgets/controls",
      "model_module_version": "2.0.0",
      "model_name": "DescriptionStyleModel",
      "state": {
       "description_width": ""
      }
     },
     "f65f660794b0400e9ee724afa9c16d9f": {
      "model_module": "@jupyter-widgets/base",
      "model_module_version": "2.0.0",
      "model_name": "LayoutModel",
      "state": {}
     },
     "f74f723f157a4d1d8219809aac1bbc95": {
      "model_module": "@jupyter-widgets/controls",
      "model_module_version": "2.0.0",
      "model_name": "HTMLModel",
      "state": {
       "layout": "IPY_MODEL_cd0b355af8524a21bc1a53bd4d4cbf2e",
       "style": "IPY_MODEL_34605b146da9494ea65cda37286352f9",
       "value": "<h3 style='text-align:left; margin-left:90px;'>Download RIVM-data</h3>"
      }
     },
     "f97409bc53834e9b96fbe02f630b685c": {
      "model_module": "@jupyter-widgets/base",
      "model_module_version": "2.0.0",
      "model_name": "LayoutModel",
      "state": {}
     },
     "faf0c3a2c7584b8a993cbbfafc66ecf8": {
      "model_module": "@jupyter-widgets/controls",
      "model_module_version": "2.0.0",
      "model_name": "HTMLStyleModel",
      "state": {
       "description_width": "",
       "font_size": null,
       "text_color": null
      }
     }
    },
    "version_major": 2,
    "version_minor": 0
   }
  }
 },
 "nbformat": 4,
 "nbformat_minor": 5
}
