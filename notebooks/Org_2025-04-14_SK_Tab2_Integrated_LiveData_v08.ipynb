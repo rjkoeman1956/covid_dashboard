{
 "cells": [
  {
   "cell_type": "code",
   "execution_count": null,
   "id": "df8f65aa-af23-4a0a-956b-6848d69333fb",
   "metadata": {},
   "outputs": [],
   "source": [
    "import sys\n",
    "from pathlib import Path\n",
    "project_root = Path().resolve().parent\n",
    "src_path = project_root / 'src'\n",
    "config_path = project_root / 'config.py'\n",
    "if config_path.exists():\n",
    "    if str(project_root) not in sys.path:\n",
    "        sys.path.insert(0, str(project_root))\n",
    "    print('✅ config.py aan het pad toegevoegd')\n",
    "if src_path.exists():\n",
    "    if str(src_path) not in sys.path:\n",
    "        sys.path.insert(0, str(src_path))\n",
    "    print('✅ src aan het pad toegevoegd')"
   ]
  },
  {
   "cell_type": "code",
   "execution_count": null,
   "id": "83e5a396-a547-46fa-a311-7dfab4a654bf",
   "metadata": {},
   "outputs": [],
   "source": [
    "# 🔧 Test config.py import\n",
    "from config import EXPORT_FOLDER, CSV_FOLDER, SHAPEFILE_FOLDER\n",
    "\n",
    "print('📁 EXPORT_FOLDER:', EXPORT_FOLDER)\n",
    "print('📁 CSV_FOLDER:', CSV_FOLDER)\n",
    "print('📁 SHAPEFILE_FOLDER:', SHAPEFILE_FOLDER)\n"
   ]
  },
  {
   "cell_type": "code",
   "execution_count": null,
   "id": "cfcaed01-7f3e-4bdd-b948-642ce5006fe5",
   "metadata": {},
   "outputs": [],
   "source": []
  },
  {
   "cell_type": "code",
   "execution_count": null,
   "id": "3e3aebbe-1c3a-431a-8f43-9a42ca75abe6",
   "metadata": {},
   "outputs": [],
   "source": [
    "# 📦 Setup paths\n",
    "import sys\n",
    "from pathlib import Path\n",
    "\n",
    "project_root = Path().resolve().parent\n",
    "config_path = project_root / 'config.py'\n",
    "\n",
    "if config_path.exists() and str(project_root) not in sys.path:\n",
    "    sys.path.insert(0, str(project_root))\n",
    "    print('✅ PROJECT_ROOT toegevoegd aan sys.path')"
   ]
  },
  {
   "cell_type": "code",
   "execution_count": null,
   "id": "8b162b40-9446-48cf-b966-39c5466eb7d3",
   "metadata": {},
   "outputs": [],
   "source": [
    "from config import PROJECT_ROOT, SRC_DIR, NOTEBOOKS_DIR, CSV_DIR, SHAPEFILES_DIR, EXPORT_DIR\n",
    "\n",
    "if PROJECT_ROOT.exists() and str(PROJECT_ROOT) not in sys.path:\n",
    "    sys.path.insert(0, str(PROJECT_ROOT))\n",
    "    print('✅ PROJECT_ROOT alsnog toegevoegd aan sys.path')\n",
    "\n",
    "if SRC_DIR.exists() and str(SRC_DIR) not in sys.path:\n",
    "    sys.path.insert(0, str(SRC_DIR))\n",
    "    print('✅ SRC_DIR is nu toegevoegd aan sys.path')\n",
    "\n",
    "if NOTEBOOKS_DIR.exists() and str(NOTEBOOKS_DIR) not in sys.path:\n",
    "    sys.path.insert(0, str(NOTEBOOKS_DIR))\n",
    "    print('✅ NOTEBOOKS_DIR is nu toegevoegd aan sys.path')\n",
    "\n",
    "if CSV_DIR.exists() and str(CSV_DIR) not in sys.path:\n",
    "    sys.path.insert(0, str(CSV_DIR))\n",
    "    print('✅ CSV_DIR is nu toegevoegd aan sys.path')\n",
    "\n",
    "if SHAPEFILES_DIR.exists() and str(SHAPEFILES_DIR) not in sys.path:\n",
    "    sys.path.insert(0, str(SHAPEFILES_DIR))\n",
    "    print('✅ SHAPEFILES_DIR is nu toegevoegd aan sys.path')\n",
    "\n",
    "if EXPORT_DIR.exists() and str(EXPORT_DIR) not in sys.path:\n",
    "    sys.path.insert(0, str(EXPORT_DIR))\n",
    "    print('✅ EXPORTS_DIR is nu toegevoegd aan sys.path')"
   ]
  },
  {
   "cell_type": "code",
   "execution_count": null,
   "id": "cf8adb9e",
   "metadata": {},
   "outputs": [],
   "source": [
    "import config\n",
    "import geopandas as gpd\n",
    "import pandas as pd\n",
    "import matplotlib.pyplot as plt\n",
    "import numpy as np\n",
    "import ipywidgets as widgets\n",
    "from IPython.display import display\n",
    "from datetime import datetime\n",
    "import csv\n",
    "import os\n",
    "\n",
    "from data_service import get_metric_mapping, get_available_years, get_municipality_heatmap_data, get_province_heatmap_data, get_prepared_covid_dataset\n",
    "\n",
    "# EXPORT_DIR = Path.cwd() / \"exports\"\n",
    "# EXPORT_DIR.mkdir(parents=True, exist_ok=True)\n",
    "\n",
    "LOG_FILE = EXPORTS_DIR / \"export_log.csv\"\n"
   ]
  },
  {
   "cell_type": "code",
   "execution_count": null,
   "id": "f10d9ccf",
   "metadata": {},
   "outputs": [],
   "source": [
    "def plot_heatmap_scaled(gdf, column, title=\"\", vmin=None, vmax=None, unit=\"\", export=False, filename=None):\n",
    "    fig, ax = plt.subplots(figsize=(10, 10))\n",
    "    gdf.plot(column=column, ax=ax, legend=True, edgecolor='white', linewidth=0.2,\n",
    "             vmin=vmin, vmax=vmax)\n",
    "    ax.set_title(title, fontsize=14)\n",
    "    ax.axis(\"off\")\n",
    "    ax.annotate('N', xy=(0.86, 0.12), xytext=(0.86, 0.05),\n",
    "                arrowprops=dict(facecolor='black', width=5, headwidth=15),\n",
    "                ha='center', va='center', fontsize=12, xycoords=ax.transAxes)\n",
    "    cbar = fig.axes[-1]\n",
    "    cbar.set_ylabel(unit, rotation=90, labelpad=15)\n",
    "    if export and filename:\n",
    "        filepath = EXPORT_DIR / filename\n",
    "        plt.savefig(filepath, dpi=300, bbox_inches=\"tight\")\n",
    "        print(f\"✅ PNG exported to: {filepath}\")\n",
    "        log_export(\"Export heatmap as PNG\", filename)\n",
    "    plt.show()\n",
    "\n",
    "def log_export(export_type, filename):\n",
    "    now = datetime.now().strftime(\"%Y-%m-%d %H:%M:%S\")\n",
    "    with LOG_FILE.open(\"a\", newline=\"\") as f:\n",
    "        csv.writer(f).writerow([now, export_type, filename])\n"
   ]
  },
  {
   "cell_type": "code",
   "execution_count": null,
   "id": "2f435b3d",
   "metadata": {},
   "outputs": [],
   "source": [
    "unit_label = \"Cases/100K\"\n",
    "df = get_prepared_covid_dataset()\n",
    "\n",
    "year_options = get_available_years(df)\n",
    "metric_mapping = get_metric_mapping()\n",
    "metric_options = list(metric_mapping.keys())\n",
    "\n",
    "year_dropdown = widgets.Dropdown(options=year_options, value=year_options[-1], description=\"Year:\",\n",
    "                                 layout=widgets.Layout(width=\"320px\"))\n",
    "metric_dropdown = widgets.Dropdown(options=metric_options, value=metric_options[0], description=\"Metric:\",\n",
    "                                   layout=widgets.Layout(width=\"320px\"))\n",
    "region_dropdown = widgets.Dropdown(options=[\"Provinces\", \"Municipalities\"], value=\"Provinces\", description=\"Level:\",\n",
    "                                   layout=widgets.Layout(width=\"320px\"))\n",
    "\n",
    "# Gebruik max van een relevante kolom om schaal te bepalen\n",
    "sample_df = get_municipality_heatmap_data(year_options[-1])\n",
    "sample_max = int(np.ceil(sample_df[metric_mapping[metric_options[0]]].max() / 100.0)) * 100\n",
    "scale_options = [int(sample_max * r) for r in [0.2, 0.4, 0.6, 0.8, 1.0]]\n",
    "\n",
    "scale_dropdown = widgets.Dropdown(\n",
    "    options=[f\"{val} {unit_label}\" for val in scale_options],\n",
    "    value=f\"{scale_options[-1]} {unit_label}\",\n",
    "    description=\"Scale max:\",\n",
    "    layout=widgets.Layout(width=\"320px\")\n",
    ")\n",
    "\n",
    "export_dropdown = widgets.Dropdown(\n",
    "    options=[\"Select export...\", \"Export as CSV\", \"Export as Markdown\", \"Export as PDF\", \"Export heatmap as PNG\"],\n",
    "    description=\"Export:\",\n",
    "    layout=widgets.Layout(width=\"320px\")\n",
    ")\n",
    "export_button = widgets.Button(description=\"Go\", button_style=\"success\", icon=\"download\",\n",
    "                               layout=widgets.Layout(width=\"80px\"))\n",
    "\n",
    "title_widget = widgets.HTML(\"<h3 style='text-align:left;'>Heatmap – Regional COVID Data</h3>\")\n",
    "plot_output = widgets.Output()\n"
   ]
  },
  {
   "cell_type": "code",
   "execution_count": null,
   "id": "10fe5293",
   "metadata": {},
   "outputs": [],
   "source": [
    "left_column = widgets.VBox([\n",
    "    year_dropdown,\n",
    "    metric_dropdown,\n",
    "    region_dropdown,\n",
    "    scale_dropdown,\n",
    "    widgets.HBox([export_dropdown, export_button])\n",
    "], layout=widgets.Layout(width=\"320px\", justify_content='flex-start'))\n",
    "\n",
    "ui_layout = widgets.HBox([\n",
    "    left_column,\n",
    "    plot_output\n",
    "], layout=widgets.Layout(justify_content='flex-start', align_items='flex-start', width='100%', padding='10px'))\n",
    "\n",
    "display(widgets.VBox([title_widget, ui_layout], layout=widgets.Layout(width='100%', overflow='hidden')))\n"
   ]
  },
  {
   "cell_type": "code",
   "execution_count": null,
   "id": "1d0919e1",
   "metadata": {},
   "outputs": [],
   "source": [
    "def update_scale_options():\n",
    "    year = year_dropdown.value\n",
    "    metric_key = metric_dropdown.value\n",
    "    metric_col = metric_mapping[metric_key]\n",
    "    region = region_dropdown.value\n",
    "    gdf = get_province_heatmap_data(year) if region == \"Provinces\" else get_municipality_heatmap_data(year)\n",
    "    data_max = gdf[metric_col].max()\n",
    "    if pd.isnull(data_max):\n",
    "        data_max = 1  # fallback\n",
    "    base = int(np.ceil(data_max / 100.0)) * 100\n",
    "    values = [int(base * r) for r in [0.2, 0.4, 0.6, 0.8, 1.0]]\n",
    "    scale_dropdown.options = [f\"{v} {unit_label}\" for v in values]\n",
    "    scale_dropdown.value = f\"{values[-1]} {unit_label}\"\n"
   ]
  },
  {
   "cell_type": "code",
   "execution_count": null,
   "id": "037f161a",
   "metadata": {},
   "outputs": [],
   "source": [
    "def get_scale_value(scale_dropdown):\n",
    "    return int(scale_dropdown.value.split()[0])\n"
   ]
  },
  {
   "cell_type": "code",
   "execution_count": null,
   "id": "6d549e13",
   "metadata": {},
   "outputs": [],
   "source": [
    "def update_plot(change=None):\n",
    "    update_scale_options()\n",
    "    plot_output.clear_output()\n",
    "    with plot_output:\n",
    "        year = year_dropdown.value\n",
    "        metric_key = metric_dropdown.value\n",
    "        metric = metric_mapping[metric_key]\n",
    "        region = region_dropdown.value\n",
    "        gdf = get_province_heatmap_data(year) if region == \"Provinces\" else get_municipality_heatmap_data(year)\n",
    "        vmax = get_scale_value(scale_dropdown)\n",
    "        plot_heatmap_scaled(gdf, metric, f\"Heatmap – {region}\", vmin=0, vmax=vmax, unit=unit_label)\n",
    "\n",
    "region_dropdown.observe(update_plot, names='value')\n",
    "year_dropdown.observe(update_plot, names='value')\n",
    "metric_dropdown.observe(update_plot, names='value')\n",
    "scale_dropdown.observe(update_plot, names='value')\n",
    "update_plot()\n"
   ]
  }
 ],
 "metadata": {
  "kernelspec": {
   "display_name": "OU Python (Opdracht 2)",
   "language": "python",
   "name": "ou_opdracht2"
  },
  "language_info": {
   "codemirror_mode": {
    "name": "ipython",
    "version": 3
   },
   "file_extension": ".py",
   "mimetype": "text/x-python",
   "name": "python",
   "nbconvert_exporter": "python",
   "pygments_lexer": "ipython3",
   "version": "3.12.2"
  },
  "widgets": {
   "application/vnd.jupyter.widget-state+json": {
    "state": {},
    "version_major": 2,
    "version_minor": 0
   }
  }
 },
 "nbformat": 4,
 "nbformat_minor": 5
}
