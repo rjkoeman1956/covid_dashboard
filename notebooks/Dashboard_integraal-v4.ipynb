{
 "cells": [
  {
   "cell_type": "markdown",
   "id": "5e6eb136",
   "metadata": {},
   "source": [
    "# 🧭 Covid Dashboard v4\n",
    "\n"
   ]
  },
  {
   "cell_type": "code",
   "execution_count": 1,
   "id": "2c75da73-1926-4edd-a006-dcfa85be94cd",
   "metadata": {
    "jupyter": {
     "source_hidden": true
    }
   },
   "outputs": [],
   "source": [
    "# 📦 Widget imports (gegarandeerd bovenaan)\n",
    "import ipywidgets as widgets"
   ]
  },
  {
   "cell_type": "code",
   "execution_count": 2,
   "id": "445f0b91",
   "metadata": {},
   "outputs": [
    {
     "name": "stdout",
     "output_type": "stream",
     "text": [
      "✅ geopandas geïnstalleerd\n",
      "✅ fiona geïnstalleerd\n",
      "✅ shapely geïnstalleerd\n",
      "✅ matplotlib geïnstalleerd\n",
      "✅ ipywidgets geïnstalleerd\n",
      "✅ seaborn geïnstalleerd\n"
     ]
    }
   ],
   "source": [
    "# 📦 Vereiste packages checken\n",
    "import importlib\n",
    "packages = ['geopandas', 'fiona', 'shapely', 'matplotlib', 'ipywidgets', 'seaborn']\n",
    "for pkg in packages:\n",
    "    try:\n",
    "        importlib.import_module(pkg)\n",
    "        print(f'✅ {pkg} geïnstalleerd')\n",
    "    except ImportError:\n",
    "        print(f'⚠️ {pkg} NIET geïnstalleerd')"
   ]
  },
  {
   "cell_type": "code",
   "execution_count": 3,
   "id": "24a8fbaf",
   "metadata": {
    "jupyter": {
     "source_hidden": true
    }
   },
   "outputs": [
    {
     "name": "stdout",
     "output_type": "stream",
     "text": [
      "Werkdirectory ingesteld op: /Users/hvingen/repo/ou/covid_dashboard_v5/covid_dashboard/notebooks\n"
     ]
    }
   ],
   "source": [
    "# 📂 Paden instellen + modules laden\n",
    "import os, sys\n",
    "from pathlib import Path\n",
    "\n",
    "project_root = Path.cwd()\n",
    "while not (project_root / 'config.py').exists() and project_root != project_root.parent:\n",
    "    project_root = project_root.parent\n",
    "sys.path.insert(0, project_root.as_posix())\n",
    "\n",
    "from config import SRC_DIR, CSV_DIR\n",
    "if SRC_DIR.as_posix() not in sys.path:\n",
    "    sys.path.insert(0, SRC_DIR.as_posix())\n",
    "\n",
    "print('Werkdirectory ingesteld op:', os.getcwd())"
   ]
  },
  {
   "cell_type": "code",
   "execution_count": 4,
   "id": "be568633",
   "metadata": {
    "jupyter": {
     "source_hidden": true
    }
   },
   "outputs": [
    {
     "name": "stdout",
     "output_type": "stream",
     "text": [
      "Beschikbare kolommen in df: ['Total_reported', 'Deceased', 'Hospital_admission', 'Municipality_name_merged', 'Province_merged', 'Year', 'Month', 'Month_name']\n"
     ]
    }
   ],
   "source": [
    "# 📂 Lijst beschikbare kolommen in de schone COVID dataset\n",
    "import data_service\n",
    "\n",
    "df = data_service.get_prepared_covid_dataset()\n",
    "print(\"Beschikbare kolommen in df:\", df.columns.tolist())"
   ]
  },
  {
   "cell_type": "code",
   "execution_count": 5,
   "id": "621dc57e",
   "metadata": {
    "jupyter": {
     "source_hidden": true
    }
   },
   "outputs": [],
   "source": [
    "# 🧾 Plot-titel dynamisch genereren\n",
    "# if 'gdf' in locals():\n",
    "#     perc = int(sampling_dropdown.value * 100)\n",
    "#     filename = gpkg_selector.label if hasattr(gpkg_selector, 'label') else gpkg_selector.value.name\n",
    "#     title = f'{filename} | Layer: {layer_selector.value} | Sampling: {perc}%'\n",
    "#     print(title)\n",
    "# else:\n",
    "#     print('⚠️ Geen gegevens geladen voor plot-titel')"
   ]
  },
  {
   "cell_type": "code",
   "execution_count": 6,
   "id": "0e4a1526",
   "metadata": {
    "jupyter": {
     "source_hidden": true
    }
   },
   "outputs": [
    {
     "name": "stdout",
     "output_type": "stream",
     "text": [
      "Werkdirectory ingesteld op: /Users/hvingen/repo/ou/covid_dashboard_v5/covid_dashboard/notebooks\n"
     ]
    },
    {
     "data": {
      "application/vnd.jupyter.widget-view+json": {
       "model_id": "53c161ebe0c94675ae543fcc840b7df5",
       "version_major": 2,
       "version_minor": 0
      },
      "text/plain": [
       "Tab(children=(Output(), Output(), Output()), selected_index=0, titles=('Corona', 'Heatmap', 'Rioolwater'))"
      ]
     },
     "metadata": {},
     "output_type": "display_data"
    },
    {
     "data": {
      "image/png": "[encoded data removed]",
      "text/plain": [
       "<Figure size 600x600 with 1 Axes>"
      ]
     },
     "metadata": {},
     "output_type": "display_data"
    }
   ],
   "source": [
    "# 🎨 Layoutfixes en preview verbeteringen (v003h)\n",
    "# 📂 Paden instellen + modules laden\n",
    "import os, sys\n",
    "from pathlib import Path\n",
    "\n",
    "\n",
    "project_root = Path.cwd()\n",
    "while not (project_root / 'config.py').exists() and project_root != project_root.parent:\n",
    "    project_root = project_root.parent\n",
    "sys.path.insert(0, project_root.as_posix())\n",
    "\n",
    "from config import SRC_DIR, CSV_DIR\n",
    "if SRC_DIR.as_posix() not in sys.path:\n",
    "    sys.path.insert(0, SRC_DIR.as_posix())\n",
    "\n",
    "print('Werkdirectory ingesteld op:', os.getcwd())\n",
    "\n",
    "import data_service \n",
    "from data_service import get_metric_mapping, get_available_years\n",
    "import covid_dashboard_presenter\n",
    "from IPython.display import display\n",
    "from ipywidgets import Button, Layout, Textarea, HBox, VBox\n",
    "\n",
    "from data_service import get_province_heatmap_data\n",
    "from data_service import get_municipality_heatmap_data\n",
    "from data_service import get_province_heatmap_riool_data\n",
    "from data_service import get_municipality_heatmap_riool_data\n",
    "\n",
    "from covid_dashboard_presenter import plot_province_heatmap\n",
    "from covid_dashboard_presenter import plot_municipality_heatmap\n",
    "from covid_dashboard_presenter import plot_province_heatmap_riool\n",
    "from covid_dashboard_presenter import plot_municipality_heatmap_riool\n",
    "\n",
    "# Let Municipalities checkbox flip exclusive\n",
    "def on_municipalities_change(change):\n",
    "    if change['new'] == True:\n",
    "        months_checkbox.value = False\n",
    "\n",
    "# Let Months checkbox flip exclusive\n",
    "def on_months_change(change):\n",
    "    if change['new'] == True:\n",
    "        municipalities_checkbox.value = False\n",
    "\n",
    "# Plot Covid GUI\n",
    "def update_plot(year, total_reported, hospital_admission, deceased, province, municipalities, months):\n",
    "    covid_dashboard_presenter.update_plot(df,\n",
    "                                        year, \n",
    "                                        total_reported, \n",
    "                                        hospital_admission, \n",
    "                                        deceased, \n",
    "                                        province, \n",
    "                                        municipalities, \n",
    "                                        months)  \n",
    "\n",
    "def update_province_heatmap(year, column):\n",
    "    gdf = get_province_heatmap_data(year)\n",
    "    plot_province_heatmap(gdf, column=column)\n",
    "\n",
    "# Functie om de heatmap bij te werken\n",
    "def update_municipality_heatmap(year, metric):\n",
    "    gdf = get_municipality_heatmap_data(year)\n",
    "    plot_municipality_heatmap(gdf, metric=metric)\n",
    "\n",
    "# Plot Rioolwater GUI\n",
    "def update_plot_riool(year):\n",
    "    covid_dashboard_presenter.update_plot_riool(year)  \n",
    "\n",
    "# Create a list of outs for tabs\n",
    "out1 = widgets.Output()\n",
    "out2 = widgets.Output()\n",
    "out3 = widgets.Output()\n",
    "\n",
    "# Create a list of tabs for GUI\n",
    "tab = widgets.Tab(children = [out1, out2, out3])\n",
    "tab.set_title(0, 'Corona')\n",
    "tab.set_title(1, 'Heatmap')\n",
    "tab.set_title(2, 'Rioolwater')\n",
    "# display(tab)\n",
    "\n",
    "with out1:\n",
    "    # Create dashboard widgets for UI controls\n",
    "    title_widget1 = widgets.HTML(\"<h3 style='text-align:center;'>COVID-Dataset</h3>\")\n",
    "\n",
    "    year_dropdown = widgets.Dropdown(description='Year:', options=get_available_years(df))\n",
    "    total_reported_checkbox = widgets.Checkbox(value=True, description='Total reported')\n",
    "    hospital_admission_checkbox = widgets.Checkbox(value=True, description='Hospital admission')\n",
    "    deceased_checkbox = widgets.Checkbox(value=True, description='Deceased')\n",
    "    province_dropdown = widgets.Dropdown(description='Level:', options=['Netherlands', 'All provinces'] + df['Province_merged'].dropna().unique().tolist(), value='Netherlands')\n",
    "    municipalities_checkbox = widgets.Checkbox(value=True, description='Municipalities')\n",
    "    months_checkbox = widgets.Checkbox(value=False, description='Months')\n",
    "    months_checkbox.observe(on_months_change, names='value')\n",
    "    municipalities_checkbox.observe(on_municipalities_change, names='value')\n",
    "\n",
    "    row1 = VBox( [year_dropdown, total_reported_checkbox, hospital_admission_checkbox, deceased_checkbox, province_dropdown, municipalities_checkbox, months_checkbox] )\n",
    "    # row2 = HBox( [year_dropdown, total_reported_checkbox] )\n",
    "    # ui = VBox( [row1, row2] )\n",
    "    ui = VBox( [title_widget1, row1] )\n",
    "    out = widgets.interactive_output(update_plot, {'year':year_dropdown, 'total_reported':total_reported_checkbox, 'hospital_admission':hospital_admission_checkbox, 'deceased':deceased_checkbox, 'province': province_dropdown, 'municipalities': municipalities_checkbox, 'months': months_checkbox} )\n",
    "    display(ui, out)  \n",
    "    \n",
    "with out2:              \n",
    "    title_widget2 = widgets.HTML(\"<h3 style='text-align:center;'>Heatmap Provinces</h3>\")\n",
    "\n",
    "    year_dropdown = widgets.Dropdown(\n",
    "        description='Year:',\n",
    "        options=get_available_years(df)\n",
    "    )\n",
    "\n",
    "    # Mapping: zichtbare naam -> kolomnaam in de dataset\n",
    "    metric_options = get_metric_mapping()\n",
    "    metric_dropdown = widgets.Dropdown(\n",
    "        description='Metric:',\n",
    "        options=list(metric_options.keys()),\n",
    "        value='Total reported'\n",
    "    )\n",
    "\n",
    "    region_dropdown = widgets.Dropdown(\n",
    "        description='Level:',\n",
    "        options=['Provinces', 'Municipalities'],\n",
    "        value='Provinces'\n",
    "    )\n",
    "\n",
    "    def update_heatmap(year, metric_label, region_type):\n",
    "        title_text = 'Heatmap ' + region_type\n",
    "        title_widget2.value = f\"<h3 style='text-align:center;'>{title_text}</h3>\"\n",
    "        metric = metric_options[metric_label]\n",
    "        if region_type == 'Provinces':\n",
    "            gdf = get_province_heatmap_data(year)\n",
    "            plot_province_heatmap(gdf, column=metric)\n",
    "        else:\n",
    "            gdf = get_municipality_heatmap_data(year)\n",
    "            plot_municipality_heatmap(gdf, column=metric)\n",
    "\n",
    "    ui = VBox([title_widget2, year_dropdown, metric_dropdown, region_dropdown])\n",
    "    out = widgets.interactive_output(update_heatmap, {\n",
    "        'year': year_dropdown,\n",
    "        'metric_label': metric_dropdown,\n",
    "        'region_type': region_dropdown\n",
    "    })\n",
    "    display(ui, out)\n",
    "\n",
    "\n",
    "with out3:          \n",
    "    # Create dashboard widgets for UI controls\n",
    "    # year_dropdown = widgets.Dropdown(description='Year:', options=df_riool['Year'].dropna().sort_values().unique().tolist())\n",
    "    title_widget3 = widgets.HTML(\"<h3 style='text-align:center;'>Heatmap Riool</h3>\")\n",
    "\n",
    "    year_dropdown = widgets.Dropdown(\n",
    "        description='Year:',\n",
    "        options=get_available_years(df)\n",
    "    )\n",
    "\n",
    "    region_dropdown = widgets.Dropdown(\n",
    "        description='Level:',\n",
    "        options=['Provinces', 'Municipalities'],\n",
    "        value='Provinces'\n",
    "    )\n",
    "\n",
    "    def update_heatmap_riool(year, region_type):\n",
    "        title_text = 'Heatmap ' + region_type\n",
    "        title_widget2.value = f\"<h3 style='text-align:center;'>{title_text}</h3>\"\n",
    "        if region_type == 'Provinces':\n",
    "            gdf = get_province_heatmap_riool_data(year)\n",
    "            plot_province_heatmap_riool(gdf)\n",
    "        else:\n",
    "            gdf = get_municipality_heatmap_riool_data(year)\n",
    "            plot_municipality_heatmap_riool(gdf)\n",
    "\n",
    "    ui = VBox([title_widget3, year_dropdown, region_dropdown])\n",
    "    out = widgets.interactive_output(update_heatmap_riool, {\n",
    "        'year': year_dropdown,\n",
    "        'region_type': region_dropdown\n",
    "    })\n",
    "    display(ui, out)\n",
    "\n",
    "\n",
    "display(tab)"
   ]
  }
 ],
 "metadata": {
  "kernelspec": {
   "display_name": "Python 3 (ipykernel)",
   "language": "python",
   "name": "python3"
  },
  "language_info": {
   "codemirror_mode": {
    "name": "ipython",
    "version": 3
   },
   "file_extension": ".py",
   "mimetype": "text/x-python",
   "name": "python",
   "nbconvert_exporter": "python",
   "pygments_lexer": "ipython3",
   "version": "3.12.9"
  },
  "widgets": {
   "application/vnd.jupyter.widget-state+json": {
    "state": {},
    "version_major": 2,
    "version_minor": 0
   }
  }
 },
 "nbformat": 4,
 "nbformat_minor": 5
}
