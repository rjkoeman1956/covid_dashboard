{
 "cells": [
  {
   "cell_type": "markdown",
   "id": "5e6eb136",
   "metadata": {},
   "source": [
    "# 🧭 Covid Dasboard Skeleton v0.01\n",
    "\n"
   ]
  },
  {
   "cell_type": "code",
   "execution_count": 1,
   "id": "44d99bcf",
   "metadata": {},
   "outputs": [],
   "source": [
    "# 📦 Widget imports (gegarandeerd bovenaan)\n",
    "import ipywidgets as widgets"
   ]
  },
  {
   "cell_type": "code",
   "execution_count": 3,
   "id": "445f0b91",
   "metadata": {},
   "outputs": [
    {
     "name": "stdout",
     "output_type": "stream",
     "text": [
      "✅ geopandas geïnstalleerd\n",
      "✅ fiona geïnstalleerd\n",
      "✅ shapely geïnstalleerd\n",
      "✅ matplotlib geïnstalleerd\n"
     ]
    }
   ],
   "source": [
    "# 📦 Vereiste packages checken\n",
    "import importlib\n",
    "packages = ['geopandas', 'fiona', 'shapely', 'matplotlib']\n",
    "for pkg in packages:\n",
    "    try:\n",
    "        importlib.import_module(pkg)\n",
    "        print(f'✅ {pkg} geïnstalleerd')\n",
    "    except ImportError:\n",
    "        print(f'⚠️ {pkg} NIET geïnstalleerd')"
   ]
  },
  {
   "cell_type": "code",
   "execution_count": 5,
   "id": "24a8fbaf",
   "metadata": {},
   "outputs": [
    {
     "name": "stdout",
     "output_type": "stream",
     "text": [
      "Werkdirectory ingesteld op: C:\\Users\\ronal\\Opdracht2_github\\covid_dashboard\\notebooks\n"
     ]
    }
   ],
   "source": [
    "# 📂 Paden instellen + modules laden\n",
    "import os, sys\n",
    "from pathlib import Path\n",
    "\n",
    "project_root = Path.cwd()\n",
    "while not (project_root / 'config.py').exists() and project_root != project_root.parent:\n",
    "    project_root = project_root.parent\n",
    "sys.path.insert(0, project_root.as_posix())\n",
    "\n",
    "from config import SRC_DIR, CSV_DIR\n",
    "if SRC_DIR.as_posix() not in sys.path:\n",
    "    sys.path.insert(0, SRC_DIR.as_posix())\n",
    "\n",
    "print('Werkdirectory ingesteld op:', os.getcwd())"
   ]
  },
  {
   "cell_type": "code",
   "execution_count": 7,
   "id": "be568633",
   "metadata": {},
   "outputs": [
    {
     "name": "stdout",
     "output_type": "stream",
     "text": [
      "Werkdirectory ingesteld op: C:\\Users\\ronal\\Opdracht2_github\\covid_dashboard\\notebooks\n",
      "Beschikbare kolommen in df: ['Total_reported', 'Deceased', 'Hospital_admission', 'Municipality_name_merged', 'Province_merged', 'Year', 'Month', 'Month_name']\n"
     ]
    }
   ],
   "source": [
    "# 📂 Lijst beschikbare kolommen in de schone COVID dataset\n",
    "import data_service\n",
    "\n",
    "df = data_service.get_prepared_covid_dataset()\n",
    "print(\"Beschikbare kolommen in df:\", df.columns.tolist())"
   ]
  },
  {
   "cell_type": "code",
   "execution_count": 8,
   "id": "621dc57e",
   "metadata": {},
   "outputs": [],
   "source": [
    "# 🧾 Plot-titel dynamisch genereren\n",
    "#if 'gdf' in locals():\n",
    "#    perc = int(sampling_dropdown.value * 100)\n",
    "#    filename = gpkg_selector.label if hasattr(gpkg_selector, 'label') else gpkg_selector.value.name\n",
    "#    title = f'{filename} | Layer: {layer_selector.value} | Sampling: {perc}%'\n",
    "#    print(title)\n",
    "#else:\n",
    "#    print('⚠️ Geen gegevens geladen voor plot-titel')"
   ]
  },
  {
   "cell_type": "code",
   "execution_count": 9,
   "id": "0e4a1526",
   "metadata": {},
   "outputs": [
    {
     "name": "stdout",
     "output_type": "stream",
     "text": [
      "Werkdirectory ingesteld op: C:\\Users\\ronal\\Opdracht2_github\\covid_dashboard\\notebooks\n"
     ]
    },
    {
     "data": {
      "application/vnd.jupyter.widget-view+json": {
       "model_id": "6516e8f119c94257a5097cef56e79949",
       "version_major": 2,
       "version_minor": 0
      },
      "text/plain": [
       "Tab(children=(Output(), Output(), Output()), selected_index=0, titles=('Corona', 'Heatmap', 'Rioolwater'))"
      ]
     },
     "metadata": {},
     "output_type": "display_data"
    }
   ],
   "source": [
    "# 🎨 Layoutfixes en preview verbeteringen (v003h)\n",
    "# 📂 Paden instellen + modules laden\n",
    "import os, sys\n",
    "from pathlib import Path\n",
    "\n",
    "project_root = Path.cwd()\n",
    "while not (project_root / 'config.py').exists() and project_root != project_root.parent:\n",
    "    project_root = project_root.parent\n",
    "sys.path.insert(0, project_root.as_posix())\n",
    "\n",
    "from config import SRC_DIR, CSV_DIR\n",
    "if SRC_DIR.as_posix() not in sys.path:\n",
    "    sys.path.insert(0, SRC_DIR.as_posix())\n",
    "\n",
    "print('Werkdirectory ingesteld op:', os.getcwd())\n",
    "\n",
    "import data_service \n",
    "from data_service import get_metric_mapping, get_available_years\n",
    "import covid_dashboard_presenter\n",
    "from IPython.display import display\n",
    "from ipywidgets import Button, Layout, Textarea, HBox, VBox\n",
    "\n",
    "from data_service import get_province_heatmap_data\n",
    "from data_service import get_municipality_heatmap_data\n",
    "from data_service import get_province_heatmap_riool_data\n",
    "from data_service import get_municipality_heatmap_riool_data\n",
    "\n",
    "from covid_dashboard_presenter import plot_province_heatmap\n",
    "from covid_dashboard_presenter import plot_municipality_heatmap\n",
    "from covid_dashboard_presenter import plot_province_heatmap_riool\n",
    "from covid_dashboard_presenter import plot_municipality_heatmap_riool\n",
    "\n",
    "# Let Municipalities checkbox flip exclusive\n",
    "def on_municipalities_change(change):\n",
    "    if change['new'] == True:\n",
    "        months_checkbox.value = False\n",
    "\n",
    "# Let Months checkbox flip exclusive\n",
    "def on_months_change(change):\n",
    "    if change['new'] == True:\n",
    "        municipalities_checkbox.value = False\n",
    "\n",
    "# Plot Covid GUI\n",
    "def update_plot(year, total_reported, hospital_admission, deceased, province, municipalities, months):\n",
    "    covid_dashboard_presenter.update_plot(df,\n",
    "                                        year, \n",
    "                                        total_reported, \n",
    "                                        hospital_admission, \n",
    "                                        deceased, \n",
    "                                        province, \n",
    "                                        municipalities, \n",
    "                                        months)  \n",
    "\n",
    "def update_province_heatmap(year, column):\n",
    "    gdf = get_province_heatmap_data(year)\n",
    "    plot_province_heatmap(gdf, column=column)\n",
    "\n",
    "# Functie om de heatmap bij te werken\n",
    "def update_municipality_heatmap(year, metric):\n",
    "    gdf = get_municipality_heatmap_data(year)\n",
    "    plot_municipality_heatmap(gdf, metric=metric)\n",
    "\n",
    "# Plot Rioolwater GUI\n",
    "def update_plot_riool(year):\n",
    "    covid_dashboard_presenter.update_plot_riool(year)  \n",
    "\n",
    "# Create a list of outs for tabs\n",
    "out1 = widgets.Output()\n",
    "out2 = widgets.Output()\n",
    "out3 = widgets.Output()\n",
    "\n",
    "# Create a list of tabs for GUI\n",
    "tab = widgets.Tab(children = [out1, out2, out3])\n",
    "tab.set_title(0, 'Corona')\n",
    "tab.set_title(1, 'Heatmap')\n",
    "tab.set_title(2, 'Rioolwater')\n",
    "# display(tab)\n",
    "\n",
    "with out1:\n",
    "    # Create dashboard widgets for UI controls\n",
    "    title_widget1 = widgets.HTML(\"<h3 style='text-align:center;'>COVID-Dataset</h3>\")\n",
    "\n",
    "    year_dropdown = widgets.Dropdown(description='Year:', options=get_available_years(df))\n",
    "    total_reported_checkbox = widgets.Checkbox(value=True, description='Total reported')\n",
    "    hospital_admission_checkbox = widgets.Checkbox(value=True, description='Hospital admission')\n",
    "    deceased_checkbox = widgets.Checkbox(value=True, description='Deceased')\n",
    "    province_dropdown = widgets.Dropdown(description='Level:', options=['Netherlands', 'All provinces'] + df['Province_merged'].dropna().unique().tolist(), value='Netherlands')\n",
    "    municipalities_checkbox = widgets.Checkbox(value=True, description='Municipalities')\n",
    "    months_checkbox = widgets.Checkbox(value=False, description='Months')\n",
    "    months_checkbox.observe(on_months_change, names='value')\n",
    "    municipalities_checkbox.observe(on_municipalities_change, names='value')\n",
    "\n",
    "    row1 = VBox( [year_dropdown, total_reported_checkbox, hospital_admission_checkbox, deceased_checkbox, province_dropdown, municipalities_checkbox, months_checkbox] )\n",
    "    # row2 = HBox( [year_dropdown, total_reported_checkbox] )\n",
    "    # ui = VBox( [row1, row2] )\n",
    "    ui = VBox( [title_widget1, row1] )\n",
    "    out = widgets.interactive_output(update_plot, {'year':year_dropdown, 'total_reported':total_reported_checkbox, 'hospital_admission':hospital_admission_checkbox, 'deceased':deceased_checkbox, 'province': province_dropdown, 'municipalities': municipalities_checkbox, 'months': months_checkbox} )\n",
    "    display(ui, out)  \n",
    "    \n",
    "with out2:              \n",
    "    title_widget2 = widgets.HTML(\"<h3 style='text-align:center;'>Heatmap Provinces</h3>\")\n",
    "\n",
    "    year_dropdown = widgets.Dropdown(\n",
    "        description='Year:',\n",
    "        options=get_available_years(df)\n",
    "    )\n",
    "\n",
    "    # Mapping: zichtbare naam -> kolomnaam in de dataset\n",
    "    metric_options = get_metric_mapping()\n",
    "    metric_dropdown = widgets.Dropdown(\n",
    "        description='Metric:',\n",
    "        options=list(metric_options.keys()),\n",
    "        value='Total reported'\n",
    "    )\n",
    "\n",
    "    region_dropdown = widgets.Dropdown(\n",
    "        description='Level:',\n",
    "        options=['Provinces', 'Municipalities'],\n",
    "        value='Provinces'\n",
    "    )\n",
    "\n",
    "    def update_heatmap(year, metric_label, region_type):\n",
    "        title_text = 'Heatmap ' + region_type\n",
    "        title_widget2.value = f\"<h3 style='text-align:center;'>{title_text}</h3>\"\n",
    "        metric = metric_options[metric_label]\n",
    "        if region_type == 'Provinces':\n",
    "            gdf = get_province_heatmap_data(year)\n",
    "            plot_province_heatmap(gdf, column=metric)\n",
    "        else:\n",
    "            gdf = get_municipality_heatmap_data(year)\n",
    "            plot_municipality_heatmap(gdf, column=metric)\n",
    "\n",
    "    ui = VBox([title_widget2, year_dropdown, metric_dropdown, region_dropdown])\n",
    "    out = widgets.interactive_output(update_heatmap, {\n",
    "        'year': year_dropdown,\n",
    "        'metric_label': metric_dropdown,\n",
    "        'region_type': region_dropdown\n",
    "    })\n",
    "    display(ui, out)\n",
    "\n",
    "\n",
    "with out3:          \n",
    "    # Create dashboard widgets for UI controls\n",
    "    # year_dropdown = widgets.Dropdown(description='Year:', options=df_riool['Year'].dropna().sort_values().unique().tolist())\n",
    "    title_widget3 = widgets.HTML(\"<h3 style='text-align:center;'>Heatmap Riool</h3>\")\n",
    "\n",
    "    year_dropdown = widgets.Dropdown(\n",
    "        description='Year:',\n",
    "        options=get_available_years(df)\n",
    "    )\n",
    "\n",
    "    region_dropdown = widgets.Dropdown(\n",
    "        description='Level:',\n",
    "        options=['Provinces', 'Municipalities'],\n",
    "        value='Provinces'\n",
    "    )\n",
    "\n",
    "    def update_heatmap_riool(year, region_type):\n",
    "        title_text = 'Heatmap ' + region_type\n",
    "        title_widget2.value = f\"<h3 style='text-align:center;'>{title_text}</h3>\"\n",
    "        if region_type == 'Provinces':\n",
    "            gdf = get_province_heatmap_riool_data(year)\n",
    "            plot_province_heatmap_riool(gdf)\n",
    "        else:\n",
    "            gdf = get_municipality_heatmap_riool_data(year)\n",
    "            plot_municipality_heatmap_riool(gdf)\n",
    "\n",
    "    ui = VBox([title_widget3, year_dropdown, region_dropdown])\n",
    "    out = widgets.interactive_output(update_heatmap_riool, {\n",
    "        'year': year_dropdown,\n",
    "        'region_type': region_dropdown\n",
    "    })\n",
    "    display(ui, out)\n",
    "\n",
    "\n",
    "display(tab)"
   ]
  },
  {
   "cell_type": "code",
   "execution_count": null,
   "id": "66219fec-d2ff-4b36-a91a-5f4b3067aeea",
   "metadata": {},
   "outputs": [],
   "source": []
  },
  {
   "cell_type": "code",
   "execution_count": null,
   "id": "92e18044-25a9-4178-89ca-d4986d30e3b3",
   "metadata": {},
   "outputs": [],
   "source": []
  },
  {
   "cell_type": "code",
   "execution_count": null,
   "id": "2e7ba361-c67f-4bdb-bd08-cd7a31b29617",
   "metadata": {},
   "outputs": [],
   "source": []
  }
 ],
 "metadata": {
  "kernelspec": {
   "display_name": "Python [conda env:base] *",
   "language": "python",
   "name": "conda-base-py"
  },
  "language_info": {
   "codemirror_mode": {
    "name": "ipython",
    "version": 3
   },
   "file_extension": ".py",
   "mimetype": "text/x-python",
   "name": "python",
   "nbconvert_exporter": "python",
   "pygments_lexer": "ipython3",
   "version": "3.12.3"
  },
  "widgets": {
   "application/vnd.jupyter.widget-state+json": {
    "state": {
     "04db9eb0dd2f4ae7b96ed8d9fbbdb285": {
      "model_module": "@jupyter-widgets/base",
      "model_module_version": "2.0.0",
      "model_name": "LayoutModel",
      "state": {
       "width": "150px"
      }
     },
     "08eeb18a94c54496bd98d5ad16f0749f": {
      "model_module": "@jupyter-widgets/controls",
      "model_module_version": "2.0.0",
      "model_name": "ButtonStyleModel",
      "state": {
       "font_family": null,
       "font_size": null,
       "font_style": null,
       "font_variant": null,
       "font_weight": null,
       "text_color": null,
       "text_decoration": null
      }
     },
     "19836cd9d88f4105a8a29389a1d3e9d0": {
      "model_module": "@jupyter-widgets/controls",
      "model_module_version": "2.0.0",
      "model_name": "DropdownModel",
      "state": {
       "_options_labels": [
        "wijkenbuurten_2024_v1.gpkg"
       ],
       "description": "GPKG:",
       "index": 0,
       "layout": "IPY_MODEL_b772e9ef150047d78b3a33edf920c3d0",
       "style": "IPY_MODEL_fd2b8a2b90da4887a5b10bb851ed3acd"
      }
     },
     "1b32aa867d2d44f9953ee5721405af12": {
      "model_module": "@jupyter-widgets/controls",
      "model_module_version": "2.0.0",
      "model_name": "HTMLModel",
      "state": {
       "layout": "IPY_MODEL_8a72ebfd6a4f4b10aeca1ea53c75e54d",
       "style": "IPY_MODEL_9f3c5fc27b2e46fea96ae86e22e9ba37",
       "value": "<h4 style='text-align:center;'>📦 wijkenbuurten_2024_v1.gpkg | 🧭 Layer: gemeenten | Sample: 25%</h4><br>"
      }
     },
     "4964cfee102147c8b4efee6b80761215": {
      "model_module": "@jupyter-widgets/controls",
      "model_module_version": "2.0.0",
      "model_name": "VBoxModel",
      "state": {
       "children": [
        "IPY_MODEL_580ec0c8e0f0498799bd0eab12c37915",
        "IPY_MODEL_1b32aa867d2d44f9953ee5721405af12",
        "IPY_MODEL_4b0f8b86a08b4e129118a919d13c815f",
        "IPY_MODEL_bb180951b100493eb57fd911f9b868fa",
        "IPY_MODEL_8d9900454972474a96f7b22efe6e602c",
        "IPY_MODEL_800d9646cf294226b4e9ee69a8075d73"
       ],
       "layout": "IPY_MODEL_ff6448283c9d4a49b09c96fc35f119b4"
      }
     },
     "4b0f8b86a08b4e129118a919d13c815f": {
      "model_module": "@jupyter-widgets/output",
      "model_module_version": "1.0.0",
      "model_name": "OutputModel",
      "state": {
       "layout": "IPY_MODEL_c8614b144f0d4a068ddd2aa07d32fe2b",
       "outputs": [
        {
         "data": {
          "image/png": "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",
          "text/plain": "<Figure size 600x600 with 1 Axes>"
         },
         "metadata": {},
         "output_type": "display_data"
        }
       ]
      }
     },
     "580ec0c8e0f0498799bd0eab12c37915": {
      "model_module": "@jupyter-widgets/controls",
      "model_module_version": "2.0.0",
      "model_name": "HBoxModel",
      "state": {
       "children": [
        "IPY_MODEL_19836cd9d88f4105a8a29389a1d3e9d0",
        "IPY_MODEL_7b063554b19346acb8ed5d1678052527",
        "IPY_MODEL_8858da0a880a44cfad6dcbc3fda7e986",
        "IPY_MODEL_90c3f9cbb63f46c8a4aeac67f5ba7e79"
       ],
       "layout": "IPY_MODEL_a56d421607ea4b2398185830dd46fde2"
      }
     },
     "696c975c17a6483286a7436b4e3ec1b2": {
      "model_module": "@jupyter-widgets/base",
      "model_module_version": "2.0.0",
      "model_name": "LayoutModel",
      "state": {}
     },
     "7b063554b19346acb8ed5d1678052527": {
      "model_module": "@jupyter-widgets/controls",
      "model_module_version": "2.0.0",
      "model_name": "DropdownModel",
      "state": {
       "_options_labels": [
        "buurten",
        "gemeenten",
        "wijken"
       ],
       "description": "Layer:",
       "index": 1,
       "layout": "IPY_MODEL_acb550f1588d4a129ee549dc5df52514",
       "style": "IPY_MODEL_ab3937e845474c678469ea476f9c44be"
      }
     },
     "7c4719c95fc840f7941a119a946f20e2": {
      "model_module": "@jupyter-widgets/controls",
      "model_module_version": "2.0.0",
      "model_name": "DescriptionStyleModel",
      "state": {
       "description_width": "initial"
      }
     },
     "800d9646cf294226b4e9ee69a8075d73": {
      "model_module": "@jupyter-widgets/output",
      "model_module_version": "1.0.0",
      "model_name": "OutputModel",
      "state": {
       "layout": "IPY_MODEL_a2817c5b89e542d090b1c41895a0007a",
       "outputs": [
        {
         "name": "stdout",
         "output_type": "stream",
         "text": "✅ Sample exported to: /Users/hvingen/Repositories/Opdracht_2_2025/notebooks/exports/sample_gemeenten_25.geojson\n"
        }
       ]
      }
     },
     "8858da0a880a44cfad6dcbc3fda7e986": {
      "model_module": "@jupyter-widgets/controls",
      "model_module_version": "2.0.0",
      "model_name": "DropdownModel",
      "state": {
       "_options_labels": [
        "10",
        "25",
        "50",
        "100"
       ],
       "description": "Sample",
       "index": 1,
       "layout": "IPY_MODEL_f180e6da29864eb79bb1ee425c5dbe77",
       "style": "IPY_MODEL_7c4719c95fc840f7941a119a946f20e2"
      }
     },
     "8a72ebfd6a4f4b10aeca1ea53c75e54d": {
      "model_module": "@jupyter-widgets/base",
      "model_module_version": "2.0.0",
      "model_name": "LayoutModel",
      "state": {
       "justify_content": "center"
      }
     },
     "8d9900454972474a96f7b22efe6e602c": {
      "model_module": "@jupyter-widgets/output",
      "model_module_version": "1.0.0",
      "model_name": "OutputModel",
      "state": {
       "layout": "IPY_MODEL_696c975c17a6483286a7436b4e3ec1b2",
       "outputs": [
        {
         "name": "stdout",
         "output_type": "stream",
         "text": "🧾 Sample preview:\n"
        },
        {
         "data": {
          "text/html": "<div>\n<style scoped>\n    .dataframe tbody tr th:only-of-type {\n        vertical-align: middle;\n    }\n\n    .dataframe tbody tr th {\n        vertical-align: top;\n    }\n\n    .dataframe thead th {\n        text-align: right;\n    }\n</style>\n<table border=\"1\" class=\"dataframe\">\n  <thead>\n    <tr style=\"text-align: right;\">\n      <th></th>\n      <th>gemeentecode</th>\n      <th>gemeentenaam</th>\n      <th>indelingswijziging_wijken_en_buurten</th>\n      <th>water</th>\n      <th>omgevingsadressendichtheid</th>\n      <th>stedelijkheid_adressen_per_km2</th>\n      <th>bevolkingsdichtheid_inwoners_per_km2</th>\n      <th>aantal_inwoners</th>\n      <th>mannen</th>\n      <th>vrouwen</th>\n      <th>...</th>\n      <th>afstand_tot_open_nat_natuurlijk_terrein</th>\n      <th>afstand_tot_semiopenbaar_groen_totaal</th>\n      <th>afstand_tot_sportterrein</th>\n      <th>afstand_tot_volkstuin</th>\n      <th>afstand_tot_verblijfsrecreatief_terrein</th>\n      <th>afstand_tot_recreatief_binnenwater</th>\n      <th>afstand_tot_begraafplaats</th>\n      <th>jrstatcode</th>\n      <th>jaar</th>\n      <th>geometry</th>\n    </tr>\n  </thead>\n  <tbody>\n    <tr>\n      <th>0</th>\n      <td>GM0327</td>\n      <td>Leusden</td>\n      <td>1</td>\n      <td>NEE</td>\n      <td>1298</td>\n      <td>3</td>\n      <td>541</td>\n      <td>31681</td>\n      <td>15519</td>\n      <td>16162</td>\n      <td>...</td>\n      <td>-99995.0</td>\n      <td>-99995.0</td>\n      <td>-99995.0</td>\n      <td>-99995.0</td>\n      <td>-99995.0</td>\n      <td>-99995.0</td>\n      <td>-99995.0</td>\n      <td>2024GM0327</td>\n      <td>2024</td>\n      <td>MULTIPOLYGON (((1.59e+05 4.64e+05, 1.59e+05 4....</td>\n    </tr>\n    <tr>\n      <th>1</th>\n      <td>GM1969</td>\n      <td>Westerkwartier</td>\n      <td>-99997</td>\n      <td>JA</td>\n      <td>-99997</td>\n      <td>-99997</td>\n      <td>-99997</td>\n      <td>-99997</td>\n      <td>-99997</td>\n      <td>-99997</td>\n      <td>...</td>\n      <td>-99995.0</td>\n      <td>-99995.0</td>\n      <td>-99995.0</td>\n      <td>-99995.0</td>\n      <td>-99995.0</td>\n      <td>-99995.0</td>\n      <td>-99995.0</td>\n      <td>2024GM1969</td>\n      <td>2024</td>\n      <td>MULTIPOLYGON (((2.15e+05 5.95e+05, 2.15e+05 5....</td>\n    </tr>\n    <tr>\n      <th>2</th>\n      <td>GM0189</td>\n      <td>Wierden</td>\n      <td>1</td>\n      <td>NEE</td>\n      <td>711</td>\n      <td>4</td>\n      <td>264</td>\n      <td>24931</td>\n      <td>12485</td>\n      <td>12446</td>\n      <td>...</td>\n      <td>-99995.0</td>\n      <td>-99995.0</td>\n      <td>-99995.0</td>\n      <td>-99995.0</td>\n      <td>-99995.0</td>\n      <td>-99995.0</td>\n      <td>-99995.0</td>\n      <td>2024GM0189</td>\n      <td>2024</td>\n      <td>MULTIPOLYGON (((2.37e+05 4.89e+05, 2.37e+05 4....</td>\n    </tr>\n  </tbody>\n</table>\n<p>3 rows × 219 columns</p>\n</div>",
          "text/plain": "  gemeentecode    gemeentenaam  indelingswijziging_wijken_en_buurten water  \\\n0       GM0327         Leusden                                     1   NEE   \n1       GM1969  Westerkwartier                                -99997    JA   \n2       GM0189         Wierden                                     1   NEE   \n\n   omgevingsadressendichtheid  stedelijkheid_adressen_per_km2  \\\n0                        1298                               3   \n1                      -99997                          -99997   \n2                         711                               4   \n\n   bevolkingsdichtheid_inwoners_per_km2  aantal_inwoners  mannen  vrouwen  \\\n0                                   541            31681   15519    16162   \n1                                -99997           -99997  -99997   -99997   \n2                                   264            24931   12485    12446   \n\n   ...  afstand_tot_open_nat_natuurlijk_terrein  \\\n0  ...                                 -99995.0   \n1  ...                                 -99995.0   \n2  ...                                 -99995.0   \n\n   afstand_tot_semiopenbaar_groen_totaal  afstand_tot_sportterrein  \\\n0                               -99995.0                  -99995.0   \n1                               -99995.0                  -99995.0   \n2                               -99995.0                  -99995.0   \n\n   afstand_tot_volkstuin  afstand_tot_verblijfsrecreatief_terrein  \\\n0               -99995.0                                 -99995.0   \n1               -99995.0                                 -99995.0   \n2               -99995.0                                 -99995.0   \n\n   afstand_tot_recreatief_binnenwater  afstand_tot_begraafplaats  jrstatcode  \\\n0                            -99995.0                   -99995.0  2024GM0327   \n1                            -99995.0                   -99995.0  2024GM1969   \n2                            -99995.0                   -99995.0  2024GM0189   \n\n   jaar                                           geometry  \n0  2024  MULTIPOLYGON (((1.59e+05 4.64e+05, 1.59e+05 4....  \n1  2024  MULTIPOLYGON (((2.15e+05 5.95e+05, 2.15e+05 5....  \n2  2024  MULTIPOLYGON (((2.37e+05 4.89e+05, 2.37e+05 4....  \n\n[3 rows x 219 columns]"
         },
         "metadata": {},
         "output_type": "display_data"
        },
        {
         "name": "stdout",
         "output_type": "stream",
         "text": "Shape: 106 rows × 219 columns\n"
        }
       ]
      }
     },
     "90c3f9cbb63f46c8a4aeac67f5ba7e79": {
      "model_module": "@jupyter-widgets/controls",
      "model_module_version": "2.0.0",
      "model_name": "ButtonModel",
      "state": {
       "description": "Export sample",
       "layout": "IPY_MODEL_04db9eb0dd2f4ae7b96ed8d9fbbdb285",
       "style": "IPY_MODEL_08eeb18a94c54496bd98d5ad16f0749f",
       "tooltip": null
      }
     },
     "9507e55860ff4231a2f8c6edaf4bee79": {
      "model_module": "@jupyter-widgets/controls",
      "model_module_version": "2.0.0",
      "model_name": "HTMLStyleModel",
      "state": {
       "description_width": "",
       "font_size": null,
       "text_color": null
      }
     },
     "9f3c5fc27b2e46fea96ae86e22e9ba37": {
      "model_module": "@jupyter-widgets/controls",
      "model_module_version": "2.0.0",
      "model_name": "HTMLStyleModel",
      "state": {
       "description_width": "",
       "font_size": null,
       "text_color": null
      }
     },
     "a2817c5b89e542d090b1c41895a0007a": {
      "model_module": "@jupyter-widgets/base",
      "model_module_version": "2.0.0",
      "model_name": "LayoutModel",
      "state": {}
     },
     "a56d421607ea4b2398185830dd46fde2": {
      "model_module": "@jupyter-widgets/base",
      "model_module_version": "2.0.0",
      "model_name": "LayoutModel",
      "state": {}
     },
     "ab3937e845474c678469ea476f9c44be": {
      "model_module": "@jupyter-widgets/controls",
      "model_module_version": "2.0.0",
      "model_name": "DescriptionStyleModel",
      "state": {
       "description_width": ""
      }
     },
     "acb550f1588d4a129ee549dc5df52514": {
      "model_module": "@jupyter-widgets/base",
      "model_module_version": "2.0.0",
      "model_name": "LayoutModel",
      "state": {
       "width": "300px"
      }
     },
     "acc0f9e412174813b4f145c9dbb65d03": {
      "model_module": "@jupyter-widgets/controls",
      "model_module_version": "2.0.0",
      "model_name": "DropdownModel",
      "state": {
       "_options_labels": [
        "wijkenbuurten_2024_v1.gpkg"
       ],
       "description": "GPKG:",
       "index": 0,
       "layout": "IPY_MODEL_cca6b31ca8b74fa2b108c5f3276832c2",
       "style": "IPY_MODEL_ad5a52f862024fc98e8501609c62b3a7"
      }
     },
     "ad5a52f862024fc98e8501609c62b3a7": {
      "model_module": "@jupyter-widgets/controls",
      "model_module_version": "2.0.0",
      "model_name": "DescriptionStyleModel",
      "state": {
       "description_width": ""
      }
     },
     "b772e9ef150047d78b3a33edf920c3d0": {
      "model_module": "@jupyter-widgets/base",
      "model_module_version": "2.0.0",
      "model_name": "LayoutModel",
      "state": {
       "width": "390px"
      }
     },
     "bb180951b100493eb57fd911f9b868fa": {
      "model_module": "@jupyter-widgets/controls",
      "model_module_version": "2.0.0",
      "model_name": "HTMLModel",
      "state": {
       "layout": "IPY_MODEL_e89d8347dabb441ab92d66c04fdc01df",
       "style": "IPY_MODEL_9507e55860ff4231a2f8c6edaf4bee79",
       "value": "<br>"
      }
     },
     "c8614b144f0d4a068ddd2aa07d32fe2b": {
      "model_module": "@jupyter-widgets/base",
      "model_module_version": "2.0.0",
      "model_name": "LayoutModel",
      "state": {
       "justify_content": "center"
      }
     },
     "cca6b31ca8b74fa2b108c5f3276832c2": {
      "model_module": "@jupyter-widgets/base",
      "model_module_version": "2.0.0",
      "model_name": "LayoutModel",
      "state": {
       "width": "400px"
      }
     },
     "e89d8347dabb441ab92d66c04fdc01df": {
      "model_module": "@jupyter-widgets/base",
      "model_module_version": "2.0.0",
      "model_name": "LayoutModel",
      "state": {}
     },
     "f180e6da29864eb79bb1ee425c5dbe77": {
      "model_module": "@jupyter-widgets/base",
      "model_module_version": "2.0.0",
      "model_name": "LayoutModel",
      "state": {
       "width": "180px"
      }
     },
     "fd2b8a2b90da4887a5b10bb851ed3acd": {
      "model_module": "@jupyter-widgets/controls",
      "model_module_version": "2.0.0",
      "model_name": "DescriptionStyleModel",
      "state": {
       "description_width": ""
      }
     },
     "ff6448283c9d4a49b09c96fc35f119b4": {
      "model_module": "@jupyter-widgets/base",
      "model_module_version": "2.0.0",
      "model_name": "LayoutModel",
      "state": {}
     }
    },
    "version_major": 2,
    "version_minor": 0
   }
  }
 },
 "nbformat": 4,
 "nbformat_minor": 5
}
