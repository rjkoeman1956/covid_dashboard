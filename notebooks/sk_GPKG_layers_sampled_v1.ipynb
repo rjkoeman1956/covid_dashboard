{
 "cells": [
  {
   "cell_type": "markdown",
   "id": "5e6eb136",
   "metadata": {},
   "source": [
    "# 🧭 GeoDashboard Skeleton v4\n",
    "\n",
    "Interactieve verkenner voor GPKG-bestanden, met kaart, metadata en layerselectie."
   ]
  },
  {
   "cell_type": "code",
   "execution_count": null,
   "id": "44d99bcf",
   "metadata": {
    "jupyter": {
     "source_hidden": true
    }
   },
   "outputs": [],
   "source": [
    "# 📦 Widget imports (gegarandeerd bovenaan)\n",
    "import ipywidgets as widgets"
   ]
  },
  {
   "cell_type": "code",
   "execution_count": null,
   "id": "445f0b91",
   "metadata": {},
   "outputs": [],
   "source": [
    "# 📦 Vereiste packages checken\n",
    "import importlib\n",
    "packages = ['geopandas', 'fiona', 'shapely', 'matplotlib']\n",
    "for pkg in packages:\n",
    "    try:\n",
    "        importlib.import_module(pkg)\n",
    "        print(f'✅ {pkg} geïnstalleerd')\n",
    "    except ImportError:\n",
    "        print(f'⚠️ {pkg} NIET geïnstalleerd')"
   ]
  },
  {
   "cell_type": "code",
   "execution_count": null,
   "id": "24a8fbaf",
   "metadata": {},
   "outputs": [],
   "source": [
    "# 📂 Paden instellen + modules laden\n",
    "import os, sys\n",
    "from pathlib import Path\n",
    "\n",
    "project_root = Path.cwd()\n",
    "while not (project_root / 'config.py').exists() and project_root != project_root.parent:\n",
    "    project_root = project_root.parent\n",
    "sys.path.insert(0, project_root.as_posix())\n",
    "\n",
    "from config import SRC_DIR, SHAPEFILES_DIR\n",
    "if SRC_DIR.as_posix() not in sys.path:\n",
    "    sys.path.insert(0, SRC_DIR.as_posix())\n",
    "\n",
    "import geopandas as gpd\n",
    "import matplotlib.pyplot as plt\n",
    "from gpkg_service import list_gpkg_files, list_gpkg_layers, load_gpkg_layer"
   ]
  },
  {
   "cell_type": "code",
   "execution_count": null,
   "id": "be568633",
   "metadata": {},
   "outputs": [],
   "source": [
    "# 📂 GPKG-bestand selectie met alleen bestandsnamen\n",
    "from gpkg_service import list_gpkg_files\n",
    "from config import SHAPEFILES_DIR\n",
    "gpkg_files = list_gpkg_files(SHAPEFILES_DIR)\n",
    "gpkg_selector = widgets.Dropdown(\n",
    "    options=[(f.name, f) for f in gpkg_files],\n",
    "    description='GPKG:',\n",
    "    layout=widgets.Layout(width='400px')\n",
    ")"
   ]
  },
  {
   "cell_type": "code",
   "execution_count": null,
   "id": "0e4a1526",
   "metadata": {},
   "outputs": [],
   "source": [
    "# 🎨 Layoutfixes en preview verbeteringen (v003h)\n",
    "import ipywidgets as widgets\n",
    "import matplotlib.pyplot as plt\n",
    "from IPython.display import display, clear_output\n",
    "import os\n",
    "from config import SHAPEFILES_DIR, EXPORTS_DIR\n",
    "from gpkg_service import list_gpkg_files, list_gpkg_layers, load_gpkg_layer\n",
    "\n",
    "plot_output = widgets.Output(layout={'justify_content': 'center'})\n",
    "preview_output = widgets.Output()\n",
    "export_output = widgets.Output()\n",
    "\n",
    "gpkg_files = list_gpkg_files(SHAPEFILES_DIR)\n",
    "gpkg_selector = widgets.Dropdown(\n",
    "    options=[(f.name, f) for f in gpkg_files],\n",
    "    description='GPKG:',\n",
    "    layout=widgets.Layout(width='390px')\n",
    ")\n",
    "\n",
    "# Default 'buurten' ingesteld\n",
    "layer_selector = widgets.Dropdown(\n",
    "    options=['buurten'],\n",
    "    description='Layer:',\n",
    "    layout=widgets.Layout(width='300px')\n",
    ")\n",
    "\n",
    "sampling_dropdown = widgets.Dropdown(\n",
    "    options=[('10', 0.10), ('25', 0.25), ('50', 0.50), ('100', 1.0)],\n",
    "    value=1.0,\n",
    "    description='Sample',\n",
    "    style={'description_width': 'initial'},\n",
    "    layout=widgets.Layout(width='180px')\n",
    ")\n",
    "\n",
    "export_button = widgets.Button(description='Export sample', layout=widgets.Layout(width='150px'))\n",
    "title_html = widgets.HTML(value='', layout=widgets.Layout(justify_content='center'))\n",
    "\n",
    "def update_layers(change):\n",
    "    if gpkg_selector.value:\n",
    "        layers = list_gpkg_layers(gpkg_selector.value)\n",
    "        layer_selector.options = layers\n",
    "\n",
    "def update_plot(*args):\n",
    "    plot_output.clear_output()\n",
    "    preview_output.clear_output()\n",
    "    export_output.clear_output()\n",
    "    try:\n",
    "        gpkg_path = gpkg_selector.value\n",
    "        layer = layer_selector.value\n",
    "        gdf = load_gpkg_layer(gpkg_path, layer)\n",
    "        frac = sampling_dropdown.value\n",
    "        global sampled_gdf\n",
    "        sampled_gdf = gdf.sample(frac=frac, random_state=1).reset_index(drop=True)\n",
    "        title_html.value = f\"<h4 style='text-align:center;'>📦 {gpkg_selector.label} | 🧭 Layer: {layer} | Sample: {int(frac*100)}%</h4><br>\"\n",
    "        with plot_output:\n",
    "            fig, ax = plt.subplots(figsize=(6, 6))\n",
    "            sampled_gdf.plot(ax=ax)\n",
    "            plt.tight_layout()\n",
    "            plt.show()\n",
    "        with preview_output:\n",
    "            print('🧾 Sample preview:')\n",
    "            display(sampled_gdf.head(3))\n",
    "            print(f'Shape: {sampled_gdf.shape[0]} rows × {sampled_gdf.shape[1]} columns')\n",
    "    except Exception as e:\n",
    "        with plot_output:\n",
    "            print('⚠️ Plotfout:', e)\n",
    "\n",
    "def export_sample(b):\n",
    "    export_output.clear_output()\n",
    "    try:\n",
    "        fname = f\"sample_{layer_selector.value}_{int(sampling_dropdown.value*100)}.geojson\"\n",
    "        path = os.path.join(EXPORTS_DIR, fname)\n",
    "        sampled_gdf.to_file(path, driver='GeoJSON')\n",
    "        with export_output:\n",
    "            print(f'✅ Sample exported to: {path}')\n",
    "    except Exception as e:\n",
    "        with export_output:\n",
    "            print(f'❌ Export failed: {e}')\n",
    "\n",
    "gpkg_selector.observe(update_layers, names='value')\n",
    "gpkg_selector.observe(update_plot, names='value')\n",
    "layer_selector.observe(update_plot, names='value')\n",
    "sampling_dropdown.observe(update_plot, names='value')\n",
    "export_button.on_click(export_sample)\n",
    "\n",
    "controls = widgets.HBox([\n",
    "    gpkg_selector,\n",
    "    layer_selector,\n",
    "    sampling_dropdown,\n",
    "    export_button\n",
    "])\n",
    "\n",
    "display(widgets.VBox([\n",
    "    controls,\n",
    "    title_html,\n",
    "    plot_output,\n",
    "    widgets.HTML('<br>'),\n",
    "    preview_output,\n",
    "    export_output\n",
    "]))\n",
    "\n",
    "update_layers(None)\n",
    "update_plot()"
   ]
  },
  {
   "cell_type": "code",
   "execution_count": null,
   "id": "6beb3777-1ddc-4bac-9414-aacb42b7d127",
   "metadata": {},
   "outputs": [],
   "source": []
  }
 ],
 "metadata": {
  "kernelspec": {
   "display_name": "Python 3 (ipykernel)",
   "language": "python",
   "name": "python3"
  },
  "language_info": {
   "codemirror_mode": {
    "name": "ipython",
    "version": 3
   },
   "file_extension": ".py",
   "mimetype": "text/x-python",
   "name": "python",
   "nbconvert_exporter": "python",
   "pygments_lexer": "ipython3",
   "version": "3.12.2"
  },
  "widgets": {
   "application/vnd.jupyter.widget-state+json": {
    "state": {},
    "version_major": 2,
    "version_minor": 0
   }
  }
 },
 "nbformat": 4,
 "nbformat_minor": 5
}
