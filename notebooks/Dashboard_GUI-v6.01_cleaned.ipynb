{
 "cells": [
  {
   "cell_type": "code",
   "execution_count": 1,
   "id": "0fc8fcb9",
   "metadata": {},
   "outputs": [
    {
     "name": "stdout",
     "output_type": "stream",
     "text": [
      "ℹ️ SRC al aanwezig of niet gevonden: C:\\Users\\ronal\\Opdracht2_github\\covid_dashboard-main\\src\n"
     ]
    }
   ],
   "source": [
    "import sys\n",
    "from pathlib import Path\n",
    "\n",
    "# Zoek project root waar config.py staat\n",
    "project_root = Path.cwd()\n",
    "while not (project_root / 'config.py').exists() and project_root != project_root.parent:\n",
    "    project_root = project_root.parent\n",
    "sys.path.insert(0, project_root.as_posix())\n",
    "\n",
    "# Voeg ook src/ toe aan sys.path\n",
    "SRC_DIR = project_root / \"src\"\n",
    "if SRC_DIR.exists() and str(SRC_DIR) not in sys.path:\n",
    "    sys.path.insert(0, str(SRC_DIR))\n",
    "\n",
    "# Importeer paden en hulpfuncties\n",
    "from config import SRC_DIR, CSV_DIR, SHAPEFILES_DIR, EXPORTS_DIR, UTILS_DIR\n",
    "from notebook_setup import init_notebook_environment\n",
    "from ui_helpers import setup_tab_controls\n",
    "\n",
    "# Init-actie (optioneel print info)\n",
    "init_notebook_environment()\n"
   ]
  },
  {
   "cell_type": "code",
   "execution_count": 3,
   "id": "be568633",
   "metadata": {},
   "outputs": [
    {
     "name": "stdout",
     "output_type": "stream",
     "text": [
      "Beschikbare kolommen in df: ['Total_reported', 'Deceased', 'Hospital_admission', 'Municipality_name_merged', 'Province_merged', 'Year', 'Month', 'Month_name']\n"
     ]
    }
   ],
   "source": [
    "# 📂 List of columns in the clean COVID dataset\n",
    "import data_service\n",
    "\n",
    "df = data_service.get_prepared_covid_dataset()\n",
    "print(\"Beschikbare kolommen in df:\", df.columns.tolist())"
   ]
  },
  {
   "cell_type": "code",
   "execution_count": 4,
   "id": "e0d4594f-d916-4b55-a677-b8ddaa90aa60",
   "metadata": {},
   "outputs": [],
   "source": [
    "# 📦 Widget imports\n",
    "import ipywidgets as widgets"
   ]
  },
  {
   "cell_type": "code",
   "execution_count": 5,
   "id": "614f0fa8-334f-4508-9fab-bd8ec712555f",
   "metadata": {},
   "outputs": [
    {
     "name": "stdout",
     "output_type": "stream",
     "text": [
      "Werkdirectory ingesteld op: C:\\Users\\ronal\\Opdracht2_github\\covid_dashboard-main\\notebooks\n"
     ]
    }
   ],
   "source": [
    "# 📂 Paden instellen + modules laden\n",
    "import os, sys\n",
    "from pathlib import Path\n",
    "\n",
    "project_root = Path.cwd()\n",
    "while not (project_root / 'config.py').exists() and project_root != project_root.parent:\n",
    "    project_root = project_root.parent\n",
    "sys.path.insert(0, project_root.as_posix())\n",
    "\n",
    "from config import SRC_DIR, CSV_DIR\n",
    "if SRC_DIR.as_posix() not in sys.path:\n",
    "    sys.path.insert(0, SRC_DIR.as_posix())\n",
    "\n",
    "import data_service \n",
    "from data_service import get_metric_mapping, get_available_years\n",
    "import covid_dashboard_presenter\n",
    "from IPython.display import display\n",
    "from ipywidgets import Button, Layout, Textarea, HBox, VBox\n",
    "\n",
    "from data_service import get_province_heatmap_data\n",
    "from data_service import get_municipality_heatmap_data\n",
    "from data_service import get_province_heatmap_riool_data\n",
    "from data_service import get_municipality_heatmap_riool_data\n",
    "\n",
    "from covid_dashboard_presenter import plot_province_heatmap\n",
    "from covid_dashboard_presenter import plot_municipality_heatmap\n",
    "from covid_dashboard_presenter import plot_province_heatmap_riool\n",
    "from covid_dashboard_presenter import plot_municipality_heatmap_riool\n",
    "\n",
    "# Let Municipalities checkbox flip exclusive\n",
    "def on_municipalities_change(change):\n",
    "    if change['new'] == True:\n",
    "        months_checkbox.value = False\n",
    "\n",
    "# Let Months checkbox flip exclusive\n",
    "def on_months_change(change):\n",
    "    if change['new'] == True:\n",
    "        municipalities_checkbox.value = False\n",
    "\n",
    "# Plot Covid GUI\n",
    "def plot_covid(year, total_reported, hospital_admission, deceased, province, municipalities, months):\n",
    "    covid_dashboard_presenter.plot_covid(df,\n",
    "                                        year, \n",
    "                                        total_reported, \n",
    "                                        hospital_admission, \n",
    "                                        deceased, \n",
    "                                        province, \n",
    "                                        municipalities, \n",
    "                                        months)  \n",
    "\n",
    "def update_province_heatmap(year, column):\n",
    "    gdf = get_province_heatmap_data(year)\n",
    "    plot_province_heatmap(gdf, column=column)\n",
    "\n",
    "# Functie om de heatmap bij te werken\n",
    "def update_municipality_heatmap(year, metric):\n",
    "    gdf = get_municipality_heatmap_data(year)\n",
    "    plot_municipality_heatmap(gdf, metric=metric)\n",
    "\n",
    "# Plot Rioolwater GUI\n",
    "def plot_covid_riool(year):\n",
    "    covid_dashboard_presenter.plot_covid_riool(year)  \n",
    "\n",
    "# Create a list of outs for tabs\n",
    "out1 = widgets.Output()\n",
    "out2 = widgets.Output()\n",
    "out3 = widgets.Output()\n",
    "out4 = widgets.Output()\n",
    "\n",
    "# Create a list of tabs for GUI\n",
    "tabs = widgets.Tab(children = [out1, out2, out3, out4])\n",
    "tabs.set_title(0, 'Covid Barcharts')\n",
    "tabs.set_title(1, 'Covid Heatmap')\n",
    "tabs.set_title(2, 'Sewer Heatmap')\n",
    "tabs.set_title(3, 'Download dataset')\n",
    "\n",
    "print('Werkdirectory ingesteld op:', os.getcwd())"
   ]
  },
  {
   "cell_type": "code",
   "execution_count": 6,
   "id": "9dba7a4c",
   "metadata": {},
   "outputs": [],
   "source": [
    "with out1:\n",
    "    title_widget1 = widgets.HTML(\"<h3 style='text-align:left; margin-left:90px;'>COVID-Dataset</h3>\")\n",
    "    year_dropdown = widgets.Dropdown(description='Year:', options=get_available_years(df))\n",
    "    total_reported_checkbox = widgets.Checkbox(value=True, description='Total reported')\n",
    "    hospital_admission_checkbox = widgets.Checkbox(value=True, description='Hospital admission')\n",
    "    deceased_checkbox = widgets.Checkbox(value=True, description='Deceased')\n",
    "    province_dropdown = widgets.Dropdown(description='Level:', options=['Netherlands', 'All provinces'] + df['Province_merged'].dropna().unique().tolist(), value='Netherlands')\n",
    "    municipalities_checkbox = widgets.Checkbox(value=True, description='Municipalities')\n",
    "    months_checkbox = widgets.Checkbox(value=False, description='Months')\n",
    "    months_checkbox.observe(on_months_change, names='value')\n",
    "    municipalities_checkbox.observe(on_municipalities_change, names='value')\n",
    "\n",
    "    row1 = VBox( [year_dropdown, total_reported_checkbox, hospital_admission_checkbox, deceased_checkbox, province_dropdown, municipalities_checkbox, months_checkbox])\n",
    "    ui = VBox( [title_widget1, row1])\n",
    "    out = widgets.interactive_output(plot_covid, {\n",
    "        'year':year_dropdown, \n",
    "        'total_reported':total_reported_checkbox, \n",
    "        'hospital_admission':hospital_admission_checkbox, \n",
    "        'deceased':deceased_checkbox, \n",
    "        'province': province_dropdown, \n",
    "        'municipalities': municipalities_checkbox, \n",
    "        'months': months_checkbox\n",
    "    } )\n",
    "    display(ui, out)"
   ]
  },
  {
   "cell_type": "code",
   "execution_count": 7,
   "id": "b07ffbc8",
   "metadata": {},
   "outputs": [],
   "source": [
    "with out2:              \n",
    "    title_widget2 = widgets.HTML(\"<h3 style='text-align:left; margin-left:90px;'>Heatmap Provinces</h3>\")       \n",
    "    year_dropdown = widgets.Dropdown(description='Year:', options=get_available_years(df))    \n",
    "    region_dropdown = widgets.Dropdown(description='Level:', options=['Provinces', 'Municipalities'], value='Provinces')       \n",
    "    metric_options = get_metric_mapping()\n",
    "    metric_dropdown = widgets.Dropdown(description='Metric:', options=list(metric_options.keys()), value='Total reported')\n",
    "\n",
    "    def update_heatmap(year, metric_label, region_type):\n",
    "        title_text = 'Covid Heatmap ' + region_type\n",
    "        title_widget2.value = f\"<h3 style='text-align:left; margin-left:90px;'>{title_text}</h3>\"\n",
    "        metric = metric_options[metric_label]\n",
    "        if region_type == 'Provinces':\n",
    "            gdf = get_province_heatmap_data(year)\n",
    "            plot_province_heatmap(gdf, column=metric)\n",
    "        else:\n",
    "            gdf = get_municipality_heatmap_data(year)\n",
    "            plot_municipality_heatmap(gdf, column=metric)\n",
    "            \n",
    "    ui = VBox([title_widget2, year_dropdown, region_dropdown, metric_dropdown])\n",
    "    out = widgets.interactive_output(update_heatmap, {\n",
    "        'year': year_dropdown,\n",
    "        'metric_label': metric_dropdown,\n",
    "        'region_type': region_dropdown\n",
    "    })\n",
    "    display(ui, out)"
   ]
  },
  {
   "cell_type": "code",
   "execution_count": 8,
   "id": "65098204",
   "metadata": {},
   "outputs": [],
   "source": [
    "with out3:          \n",
    "    title_widget3 = widgets.HTML(\"<h3 style='text-align:left; margin-left:80px;'>Heatmap Riool</h3>\")\n",
    "    year_dropdown = widgets.Dropdown(\n",
    "        description='Year:',\n",
    "        options=get_available_years(df)\n",
    "    )\n",
    "    region_dropdown = widgets.Dropdown(\n",
    "        description='Level:',\n",
    "        options=['Provinces', 'Municipalities'],\n",
    "        value='Provinces'\n",
    "    )\n",
    "    def update_heatmap_riool(year, region_type):\n",
    "        title_text = 'Sewer Heatmap ' + region_type\n",
    "        title_widget3.value = f\"<h3 style='text-align:left; margin-left:90px;'>{title_text}</h3>\"\n",
    "        if region_type == 'Provinces':\n",
    "            gdf = get_province_heatmap_riool_data(year)\n",
    "            plot_province_heatmap_riool(gdf, column='RNA_flow_per_100000')\n",
    "        else:\n",
    "            gdf = get_municipality_heatmap_riool_data(year)\n",
    "            plot_municipality_heatmap_riool(gdf, column='RNA_flow_per_100000')\n",
    "\n",
    "    ui = VBox([title_widget3, year_dropdown, region_dropdown])\n",
    "    out = widgets.interactive_output(update_heatmap_riool, {\n",
    "        'year': year_dropdown,\n",
    "        'region_type': region_dropdown\n",
    "    })\n",
    "    display(ui, out)"
   ]
  },
  {
   "cell_type": "code",
   "execution_count": 9,
   "id": "3f6e8af2-b48c-4b3f-8401-46da76af7066",
   "metadata": {},
   "outputs": [],
   "source": [
    "with out4:\n",
    "    # Tab 4 - Download RIVM-data\n",
    "    title_widget4 = widgets.HTML(\"<h3 style='text-align:left; margin-left:90px;'>Download data</h3>\")\n",
    "    from IPython.display import display, Markdown\n",
    "    from data_writer import Saveframes\n",
    "    from data_writer import Savepoly\n",
    "    def run_download_poly(*args):\n",
    "        output.clear_output()\n",
    "        \n",
    "        try:\n",
    "            result = Savepoly()\n",
    "            for fname, status in result.items():\n",
    "                print(f\"{fname}: {status}\")\n",
    "        except Exception as e:\n",
    "            print(f\"❌ Fout bij opslaan of ophalen van resultaten: {e}\")\n",
    "        \n",
    "    def run_download(*args):\n",
    "        output.clear_output()\n",
    "        \n",
    "        try:\n",
    "            result = Saveframes()\n",
    "            for fname, status in result.items():\n",
    "                print(f\"{fname}: {status}\")\n",
    "        except Exception as e:\n",
    "            print(f\"❌ Fout bij opslaan of ophalen van resultaten: {e}\")\n",
    "\n",
    "    download_button = widgets.Button(description='Download RIVM', button_style='success')\n",
    "    download_button.on_click(run_download)\n",
    "    download_poly_button = widgets.Button(description='Download CBS', button_style='success')\n",
    "    download_poly_button.on_click(run_download_poly)\n",
    "\n",
    "    output = widgets.Output()\n",
    "    display(widgets.VBox([\n",
    "        title_widget4,\n",
    "        download_button, download_poly_button,\n",
    "        output\n",
    "    ]))"
   ]
  },
  {
   "cell_type": "code",
   "execution_count": 10,
   "id": "28bb66ba",
   "metadata": {},
   "outputs": [],
   "source": [
    "def build_tab1_layout():\n",
    "    # Assumes all widgets already exist: title_widget1, year_dropdown1, etc.\n",
    "    download_dropdown1, download_button1 = create_export_widget(tab=1)\n",
    "    \n",
    "    spacer_column = widgets.Label(\"\")\n",
    "    \n",
    "    row1 = widgets.HBox([spacer_column, year_dropdown1, total_reported_checkbox1, province_dropdown1],\n",
    "                        layout=widgets.Layout(width=\"100%\"))\n",
    "    row2 = widgets.HBox([spacer_column, yearsync_checkbox1, hospital_admission_checkbox1, municipalities_checkbox1],\n",
    "                        layout=widgets.Layout(width=\"100%\"))\n",
    "    row3 = widgets.HBox([spacer_column, widgets.Label(\"\"), deceased_checkbox1, months_checkbox1],\n",
    "                        layout=widgets.Layout(width=\"100%\"))\n",
    "    row4 = widgets.HBox([spacer_column, download_dropdown1, download_button1],\n",
    "                        layout=widgets.Layout(width=\"100%\"))\n",
    "    spacing = widgets.Label(\"\")  # Vertical spacing linefeed\n",
    "    \n",
    "    controls = widgets.VBox([title_widget1, row1, row2, row3, row4, spacing],\n",
    "                            layout=widgets.Layout(width=\"100%\"))\n",
    "    \n",
    "    return controls\n"
   ]
  },
  {
   "cell_type": "code",
   "execution_count": 11,
   "id": "f9fa8457",
   "metadata": {},
   "outputs": [],
   "source": [
    "def build_tab2_layout():\n",
    "    download_dropdown2, download_button2 = create_export_widget(tab=2)\n",
    "    spacer_column = widgets.Label(\"\")\n",
    "\n",
    "    row1 = widgets.HBox([spacer_column, year_dropdown2, total_reported_checkbox2, province_dropdown2],\n",
    "                        layout=widgets.Layout(width=\"100%\"))\n",
    "    row2 = widgets.HBox([spacer_column, yearsync_checkbox2, hospital_admission_checkbox2, municipalities_checkbox2],\n",
    "                        layout=widgets.Layout(width=\"100%\"))\n",
    "    row3 = widgets.HBox([spacer_column, widgets.Label(\"\"), deceased_checkbox2, months_checkbox2],\n",
    "                        layout=widgets.Layout(width=\"100%\"))\n",
    "    row4 = widgets.HBox([spacer_column, download_dropdown2, download_button2],\n",
    "                        layout=widgets.Layout(width=\"100%\"))\n",
    "    spacing = widgets.Label(\"\")\n",
    "\n",
    "    controls = widgets.VBox([title_widget2, row1, row2, row3, row4, spacing],\n",
    "                            layout=widgets.Layout(width=\"100%\"))\n",
    "    return controls\n",
    "\n",
    "\n",
    "def build_tab3_layout():\n",
    "    download_dropdown3, download_button3 = create_export_widget(tab=3)\n",
    "    spacer_column = widgets.Label(\"\")\n",
    "\n",
    "    row1 = widgets.HBox([spacer_column, year_dropdown3, total_reported_checkbox3, province_dropdown3],\n",
    "                        layout=widgets.Layout(width=\"100%\"))\n",
    "    row2 = widgets.HBox([spacer_column, yearsync_checkbox3, hospital_admission_checkbox3, municipalities_checkbox3],\n",
    "                        layout=widgets.Layout(width=\"100%\"))\n",
    "    row3 = widgets.HBox([spacer_column, widgets.Label(\"\"), deceased_checkbox3, months_checkbox3],\n",
    "                        layout=widgets.Layout(width=\"100%\"))\n",
    "    row4 = widgets.HBox([spacer_column, download_dropdown3, download_button3],\n",
    "                        layout=widgets.Layout(width=\"100%\"))\n",
    "    spacing = widgets.Label(\"\")\n",
    "\n",
    "    controls = widgets.VBox([title_widget3, row1, row2, row3, row4, spacing],\n",
    "                            layout=widgets.Layout(width=\"100%\"))\n",
    "    return controls\n"
   ]
  },
  {
   "cell_type": "code",
   "execution_count": 12,
   "id": "1b1f9556",
   "metadata": {},
   "outputs": [],
   "source": [
    "def build_tab4_layout():\n",
    "    spacer_column = widgets.Label(\"\")\n",
    "\n",
    "    # Datasetrij 1: RIVM COVID-19 dataset\n",
    "    label_rivm = widgets.Label(\"RIVM COVID-19, covid dataset\")\n",
    "    status_rivm = widgets.Label(\"✅\")  # Status icoon placeholder\n",
    "    download_rivm = widgets.Button(description=\"Download CSV\", button_style='success')\n",
    "\n",
    "    # Datasetrij 2: CBS Wijken en Buurten 2024\n",
    "    label_cbs = widgets.Label(\"Wijken en buurten 2024 v1, polygonen\")\n",
    "    status_cbs = widgets.Label(\"📦\")  # Status icoon placeholder\n",
    "    download_cbs = widgets.Button(description=\"Download instructie\", button_style='warning')\n",
    "\n",
    "    # Rijen met controls\n",
    "    row1 = widgets.HBox([spacer_column, label_rivm, status_rivm, download_rivm],\n",
    "                        layout=widgets.Layout(width=\"100%\"))\n",
    "    row2 = widgets.HBox([spacer_column, label_cbs, status_cbs, download_cbs],\n",
    "                        layout=widgets.Layout(width=\"100%\"))\n",
    "\n",
    "    spacing = widgets.Label(\"\")\n",
    "\n",
    "    controls = widgets.VBox([title_widget4, row1, row2, spacing],\n",
    "                            layout=widgets.Layout(width=\"100%\"))\n",
    "    return controls\n"
   ]
  },
  {
   "cell_type": "code",
   "execution_count": 13,
   "id": "8529420f",
   "metadata": {},
   "outputs": [],
   "source": [
    "def build_all_tab_layouts():\n",
    "    tab1_controls = build_tab1_layout()\n",
    "    tab2_controls = build_tab2_layout()\n",
    "    tab3_controls = build_tab3_layout()\n",
    "    tab4_controls = build_tab4_layout()\n",
    "    return [tab1_controls, tab2_controls, tab3_controls, tab4_controls]\n"
   ]
  },
  {
   "cell_type": "code",
   "execution_count": 18,
   "id": "39cb9484",
   "metadata": {},
   "outputs": [
    {
     "data": {
      "application/vnd.jupyter.widget-view+json": {
       "model_id": "a7710d607fa54b02bcf7347f095818e6",
       "version_major": 2,
       "version_minor": 0
      },
      "text/plain": [
       "Tab(children=(Output(outputs=({'output_type': 'display_data', 'data': {'text/plain': 'VBox(children=(HTML(valu…"
      ]
     },
     "metadata": {},
     "output_type": "display_data"
    }
   ],
   "source": [
    "display(tabs)"
   ]
  },
  {
   "cell_type": "code",
   "execution_count": null,
   "id": "315d53f2-ca33-48ed-b429-2e11081a3922",
   "metadata": {},
   "outputs": [],
   "source": []
  },
  {
   "cell_type": "code",
   "execution_count": null,
   "id": "7651f2d1-a333-4447-9fd6-731a4899a90c",
   "metadata": {},
   "outputs": [],
   "source": []
  },
  {
   "cell_type": "code",
   "execution_count": null,
   "id": "45e5f16c-6c5a-4041-8306-855f1afe9b4c",
   "metadata": {},
   "outputs": [],
   "source": []
  }
 ],
 "metadata": {
  "kernelspec": {
   "display_name": "Python [conda env:base] *",
   "language": "python",
   "name": "conda-base-py"
  },
  "language_info": {
   "codemirror_mode": {
    "name": "ipython",
    "version": 3
   },
   "file_extension": ".py",
   "mimetype": "text/x-python",
   "name": "python",
   "nbconvert_exporter": "python",
   "pygments_lexer": "ipython3",
   "version": "3.12.3"
  },
  "widgets": {
   "application/vnd.jupyter.widget-state+json": {
    "state": {
     "0983b090ca5748b1a0c945290ce057be": {
      "model_module": "@jupyter-widgets/controls",
      "model_module_version": "2.0.0",
      "model_name": "CheckboxStyleModel",
      "state": {
       "description_width": ""
      }
     },
     "0d7aacc22a634580ab7b476b314083fc": {
      "model_module": "@jupyter-widgets/output",
      "model_module_version": "1.0.0",
      "model_name": "OutputModel",
      "state": {
       "layout": "IPY_MODEL_b531e0be52284355a468844584896166",
       "outputs": [
        {
         "data": {
          "image/png": "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",
          "text/plain": "<Figure size 800x600 with 2 Axes>"
         },
         "metadata": {},
         "output_type": "display_data"
        }
       ]
      }
     },
     "163baab991744ed6a3eb569f98f05c8c": {
      "model_module": "@jupyter-widgets/base",
      "model_module_version": "2.0.0",
      "model_name": "LayoutModel",
      "state": {}
     },
     "16bf2059f656494fb65cd04d2f02c0bf": {
      "model_module": "@jupyter-widgets/controls",
      "model_module_version": "2.0.0",
      "model_name": "DropdownModel",
      "state": {
       "_options_labels": [
        "Provinces",
        "Municipalities"
       ],
       "description": "Level:",
       "index": 0,
       "layout": "IPY_MODEL_795e27d5bb4a4eae838e5a816c12cb3f",
       "style": "IPY_MODEL_af105a9a58d14d9fa111c6642893b011"
      }
     },
     "1ad220c89ff14887a7bd9dc49461ed96": {
      "model_module": "@jupyter-widgets/base",
      "model_module_version": "2.0.0",
      "model_name": "LayoutModel",
      "state": {}
     },
     "2118a63bc68c4c87b9b02c5ff4fe549f": {
      "model_module": "@jupyter-widgets/controls",
      "model_module_version": "2.0.0",
      "model_name": "DropdownModel",
      "state": {
       "_options_labels": [
        "2020",
        "2021",
        "2022",
        "2023",
        "2024"
       ],
       "description": "Year:",
       "index": 0,
       "layout": "IPY_MODEL_ff798435e35f4739a312aa1ffcc7b0df",
       "style": "IPY_MODEL_6f58c223552d403e944494be5cd7e605"
      }
     },
     "23867381330e4aa98454cbb7d0351078": {
      "model_module": "@jupyter-widgets/controls",
      "model_module_version": "2.0.0",
      "model_name": "DropdownModel",
      "state": {
       "_options_labels": [
        "Total reported",
        "Hospital admission",
        "Deceased"
       ],
       "description": "Metric:",
       "index": 0,
       "layout": "IPY_MODEL_a2f652a9f5b243b39dcf70963284ddbf",
       "style": "IPY_MODEL_e2dd0196e8f04c8e874b4f8755b3ccb8"
      }
     },
     "26b8c48d84a249548c82c2d823e02772": {
      "model_module": "@jupyter-widgets/controls",
      "model_module_version": "2.0.0",
      "model_name": "DescriptionStyleModel",
      "state": {
       "description_width": ""
      }
     },
     "2c982b2378a043d0a34f5ae4a9e66e20": {
      "model_module": "@jupyter-widgets/output",
      "model_module_version": "1.0.0",
      "model_name": "OutputModel",
      "state": {
       "layout": "IPY_MODEL_857702ed395944e49eb423b827a96f65",
       "outputs": [
        {
         "data": {
          "application/vnd.jupyter.widget-view+json": {
           "model_id": "3f0405eca5784607b4b64b6bb31dcba1",
           "version_major": 2,
           "version_minor": 0
          },
          "text/plain": "VBox(children=(HTML(value=\"<h3 style='text-align:left; margin-left:90px;'>Sewer Heatmap Provinces</h3>\"), Drop…"
         },
         "metadata": {},
         "output_type": "display_data"
        },
        {
         "data": {
          "application/vnd.jupyter.widget-view+json": {
           "model_id": "0d7aacc22a634580ab7b476b314083fc",
           "version_major": 2,
           "version_minor": 0
          },
          "text/plain": "Output()"
         },
         "metadata": {},
         "output_type": "display_data"
        }
       ]
      }
     },
     "344032520bad45738b96107c897a8b90": {
      "model_module": "@jupyter-widgets/controls",
      "model_module_version": "2.0.0",
      "model_name": "HTMLStyleModel",
      "state": {
       "description_width": "",
       "font_size": null,
       "text_color": null
      }
     },
     "34842350831a4541bf28c0ad151f9892": {
      "model_module": "@jupyter-widgets/base",
      "model_module_version": "2.0.0",
      "model_name": "LayoutModel",
      "state": {}
     },
     "3a230168a67446ddafd4803e4e1c273f": {
      "model_module": "@jupyter-widgets/base",
      "model_module_version": "2.0.0",
      "model_name": "LayoutModel",
      "state": {}
     },
     "3aa33062a3dc47a6a5ac14553cf287da": {
      "model_module": "@jupyter-widgets/base",
      "model_module_version": "2.0.0",
      "model_name": "LayoutModel",
      "state": {}
     },
     "3ad84161614f4d6eb830d2cbb04c6afc": {
      "model_module": "@jupyter-widgets/base",
      "model_module_version": "2.0.0",
      "model_name": "LayoutModel",
      "state": {}
     },
     "3f0405eca5784607b4b64b6bb31dcba1": {
      "model_module": "@jupyter-widgets/controls",
      "model_module_version": "2.0.0",
      "model_name": "VBoxModel",
      "state": {
       "children": [
        "IPY_MODEL_6380473dee654be994fa97df3a9625fa",
        "IPY_MODEL_2118a63bc68c4c87b9b02c5ff4fe549f",
        "IPY_MODEL_16bf2059f656494fb65cd04d2f02c0bf"
       ],
       "layout": "IPY_MODEL_87ef25f019a34bbba990bc7f4df51083"
      }
     },
     "46dd082bba9949b69ab50cca87e1b875": {
      "model_module": "@jupyter-widgets/controls",
      "model_module_version": "2.0.0",
      "model_name": "CheckboxStyleModel",
      "state": {
       "description_width": ""
      }
     },
     "471de469748043298a65def10576c5a0": {
      "model_module": "@jupyter-widgets/controls",
      "model_module_version": "2.0.0",
      "model_name": "HTMLStyleModel",
      "state": {
       "description_width": "",
       "font_size": null,
       "text_color": null
      }
     },
     "474b06633c924892b7803bf6a55e7244": {
      "model_module": "@jupyter-widgets/controls",
      "model_module_version": "2.0.0",
      "model_name": "HTMLModel",
      "state": {
       "layout": "IPY_MODEL_c208da03806e4597b7e4a24f0d5cca32",
       "style": "IPY_MODEL_471de469748043298a65def10576c5a0",
       "value": "<h3 style='text-align:left; margin-left:90px;'>Covid Heatmap Provinces</h3>"
      }
     },
     "4b69ba00872e4d90b88fcf6b9daea783": {
      "model_module": "@jupyter-widgets/base",
      "model_module_version": "2.0.0",
      "model_name": "LayoutModel",
      "state": {}
     },
     "4c5284f4fcfe438f96add3e011b719c8": {
      "model_module": "@jupyter-widgets/output",
      "model_module_version": "1.0.0",
      "model_name": "OutputModel",
      "state": {
       "layout": "IPY_MODEL_8b0d6107efbb485bab2d6c2cfb2e56a4",
       "outputs": [
        {
         "data": {
          "image/png": "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",
          "text/plain": "<Figure size 1500x600 with 1 Axes>"
         },
         "metadata": {},
         "output_type": "display_data"
        }
       ]
      }
     },
     "4e9a99fe53154fcebe9a1fcead947e13": {
      "model_module": "@jupyter-widgets/controls",
      "model_module_version": "2.0.0",
      "model_name": "VBoxModel",
      "state": {
       "children": [
        "IPY_MODEL_943e5f0d894747469a4425d2a2d20582",
        "IPY_MODEL_b249152e3a3f43b19cd15b579526ad91",
        "IPY_MODEL_8ce40167e43c45669085deef072175d3"
       ],
       "layout": "IPY_MODEL_558b4d3533204324b4f0ca6d69538abb"
      }
     },
     "4f6ec8bd6f4743989e121ed92c129e92": {
      "model_module": "@jupyter-widgets/base",
      "model_module_version": "2.0.0",
      "model_name": "LayoutModel",
      "state": {}
     },
     "51c050f05b3b4f49a106d808e3eb202b": {
      "model_module": "@jupyter-widgets/output",
      "model_module_version": "1.0.0",
      "model_name": "OutputModel",
      "state": {
       "layout": "IPY_MODEL_163baab991744ed6a3eb569f98f05c8c",
       "outputs": [
        {
         "data": {
          "image/png": "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",
          "text/plain": "<Figure size 800x600 with 2 Axes>"
         },
         "metadata": {},
         "output_type": "display_data"
        }
       ]
      }
     },
     "558b4d3533204324b4f0ca6d69538abb": {
      "model_module": "@jupyter-widgets/base",
      "model_module_version": "2.0.0",
      "model_name": "LayoutModel",
      "state": {}
     },
     "57fa8199e1a943e99d604928817c8ae1": {
      "model_module": "@jupyter-widgets/controls",
      "model_module_version": "2.0.0",
      "model_name": "VBoxModel",
      "state": {
       "children": [
        "IPY_MODEL_474b06633c924892b7803bf6a55e7244",
        "IPY_MODEL_6126e02990664c50b3b400fffcbb094c",
        "IPY_MODEL_a033a33fed3a4df98517d90ae8fa0829",
        "IPY_MODEL_23867381330e4aa98454cbb7d0351078"
       ],
       "layout": "IPY_MODEL_1ad220c89ff14887a7bd9dc49461ed96"
      }
     },
     "5875e0601a2a411d92ef5ef80c7efb91": {
      "model_module": "@jupyter-widgets/base",
      "model_module_version": "2.0.0",
      "model_name": "LayoutModel",
      "state": {}
     },
     "6126e02990664c50b3b400fffcbb094c": {
      "model_module": "@jupyter-widgets/controls",
      "model_module_version": "2.0.0",
      "model_name": "DropdownModel",
      "state": {
       "_options_labels": [
        "2020",
        "2021",
        "2022",
        "2023",
        "2024"
       ],
       "description": "Year:",
       "index": 0,
       "layout": "IPY_MODEL_d57583ed28004644921460d8d20d67de",
       "style": "IPY_MODEL_f226450d1f954c94b7c43e899f5239e4"
      }
     },
     "6266922814b54dd987e4f313b4b65d0d": {
      "model_module": "@jupyter-widgets/base",
      "model_module_version": "2.0.0",
      "model_name": "LayoutModel",
      "state": {}
     },
     "6380473dee654be994fa97df3a9625fa": {
      "model_module": "@jupyter-widgets/controls",
      "model_module_version": "2.0.0",
      "model_name": "HTMLModel",
      "state": {
       "layout": "IPY_MODEL_b0ce4c157dac42449f72a16074de8089",
       "style": "IPY_MODEL_8234941c267645b897ec5f644dc5fd6d",
       "value": "<h3 style='text-align:left; margin-left:90px;'>Sewer Heatmap Provinces</h3>"
      }
     },
     "64bfd07a56b04a12817ff52390e4372e": {
      "model_module": "@jupyter-widgets/controls",
      "model_module_version": "2.0.0",
      "model_name": "VBoxModel",
      "state": {
       "children": [
        "IPY_MODEL_e5155412f6dd422aa33ac5514778841b",
        "IPY_MODEL_6f0d07ee084140f2b1205723953ebb82"
       ],
       "layout": "IPY_MODEL_8bf10262d3be4f6a8a3c055a9f30632d"
      }
     },
     "65639addc825477b9a3053846b9c91f3": {
      "model_module": "@jupyter-widgets/base",
      "model_module_version": "2.0.0",
      "model_name": "LayoutModel",
      "state": {}
     },
     "68e71b0022d34788b07d78bc8cf009c3": {
      "model_module": "@jupyter-widgets/controls",
      "model_module_version": "2.0.0",
      "model_name": "HTMLStyleModel",
      "state": {
       "description_width": "",
       "font_size": null,
       "text_color": null
      }
     },
     "6c133067ab6d4b6d99aceaf3939d8610": {
      "model_module": "@jupyter-widgets/base",
      "model_module_version": "2.0.0",
      "model_name": "LayoutModel",
      "state": {}
     },
     "6d65e1ec745745e79222162a43137fbc": {
      "model_module": "@jupyter-widgets/controls",
      "model_module_version": "2.0.0",
      "model_name": "CheckboxModel",
      "state": {
       "description": "Municipalities",
       "disabled": false,
       "layout": "IPY_MODEL_a1fb2f325aa44ce6a8ea625d2776bdeb",
       "style": "IPY_MODEL_46dd082bba9949b69ab50cca87e1b875",
       "value": true
      }
     },
     "6f0d07ee084140f2b1205723953ebb82": {
      "model_module": "@jupyter-widgets/controls",
      "model_module_version": "2.0.0",
      "model_name": "VBoxModel",
      "state": {
       "children": [
        "IPY_MODEL_9773e5b1b2644059920c308d88dfd7a8",
        "IPY_MODEL_f8dcb7f611ff4b1e962b4e985a719d01",
        "IPY_MODEL_bb49b7d9acf44c6c8f0775fafb95ae1f",
        "IPY_MODEL_fe845d4bdda341e1b6ac94fd9a491345",
        "IPY_MODEL_8899450195a5435a9c0b0c16e7aff9c2",
        "IPY_MODEL_6d65e1ec745745e79222162a43137fbc",
        "IPY_MODEL_e59ce074c8b94ecd86685dd4d904bc2f"
       ],
       "layout": "IPY_MODEL_3a230168a67446ddafd4803e4e1c273f"
      }
     },
     "6f58c223552d403e944494be5cd7e605": {
      "model_module": "@jupyter-widgets/controls",
      "model_module_version": "2.0.0",
      "model_name": "DescriptionStyleModel",
      "state": {
       "description_width": ""
      }
     },
     "6f84733177594dcfb843a42063089d22": {
      "model_module": "@jupyter-widgets/controls",
      "model_module_version": "2.0.0",
      "model_name": "TabModel",
      "state": {
       "children": [
        "IPY_MODEL_8d221fbd05544a31b2e2aa3100e4eece",
        "IPY_MODEL_d436fd3dc7264780bc01ce0155a3a88a",
        "IPY_MODEL_2c982b2378a043d0a34f5ae4a9e66e20",
        "IPY_MODEL_a4fea04d5cd84ecf914b183a8abb97c9"
       ],
       "layout": "IPY_MODEL_3aa33062a3dc47a6a5ac14553cf287da",
       "selected_index": 0,
       "titles": [
        "Covid Barcharts",
        "Covid Heatmap",
        "Sewer Heatmap",
        "Download dataset"
       ]
      }
     },
     "76aa3cbd935c425baa463166f04b0e3e": {
      "model_module": "@jupyter-widgets/base",
      "model_module_version": "2.0.0",
      "model_name": "LayoutModel",
      "state": {}
     },
     "795e27d5bb4a4eae838e5a816c12cb3f": {
      "model_module": "@jupyter-widgets/base",
      "model_module_version": "2.0.0",
      "model_name": "LayoutModel",
      "state": {}
     },
     "8234941c267645b897ec5f644dc5fd6d": {
      "model_module": "@jupyter-widgets/controls",
      "model_module_version": "2.0.0",
      "model_name": "HTMLStyleModel",
      "state": {
       "description_width": "",
       "font_size": null,
       "text_color": null
      }
     },
     "857702ed395944e49eb423b827a96f65": {
      "model_module": "@jupyter-widgets/base",
      "model_module_version": "2.0.0",
      "model_name": "LayoutModel",
      "state": {}
     },
     "87ef25f019a34bbba990bc7f4df51083": {
      "model_module": "@jupyter-widgets/base",
      "model_module_version": "2.0.0",
      "model_name": "LayoutModel",
      "state": {}
     },
     "8899450195a5435a9c0b0c16e7aff9c2": {
      "model_module": "@jupyter-widgets/controls",
      "model_module_version": "2.0.0",
      "model_name": "DropdownModel",
      "state": {
       "_options_labels": [
        "Netherlands",
        "All provinces",
        "Flevoland",
        "Groningen",
        "Fryslân",
        "Drenthe",
        "Overijssel",
        "Gelderland",
        "Utrecht",
        "Noord-Holland",
        "Zuid-Holland",
        "Zeeland",
        "Noord-Brabant",
        "Limburg"
       ],
       "description": "Level:",
       "index": 0,
       "layout": "IPY_MODEL_6266922814b54dd987e4f313b4b65d0d",
       "style": "IPY_MODEL_26b8c48d84a249548c82c2d823e02772"
      }
     },
     "8b0d6107efbb485bab2d6c2cfb2e56a4": {
      "model_module": "@jupyter-widgets/base",
      "model_module_version": "2.0.0",
      "model_name": "LayoutModel",
      "state": {}
     },
     "8bf10262d3be4f6a8a3c055a9f30632d": {
      "model_module": "@jupyter-widgets/base",
      "model_module_version": "2.0.0",
      "model_name": "LayoutModel",
      "state": {}
     },
     "8ce40167e43c45669085deef072175d3": {
      "model_module": "@jupyter-widgets/output",
      "model_module_version": "1.0.0",
      "model_name": "OutputModel",
      "state": {
       "layout": "IPY_MODEL_5875e0601a2a411d92ef5ef80c7efb91"
      }
     },
     "8d221fbd05544a31b2e2aa3100e4eece": {
      "model_module": "@jupyter-widgets/output",
      "model_module_version": "1.0.0",
      "model_name": "OutputModel",
      "state": {
       "layout": "IPY_MODEL_65639addc825477b9a3053846b9c91f3",
       "outputs": [
        {
         "data": {
          "application/vnd.jupyter.widget-view+json": {
           "model_id": "64bfd07a56b04a12817ff52390e4372e",
           "version_major": 2,
           "version_minor": 0
          },
          "text/plain": "VBox(children=(HTML(value=\"<h3 style='text-align:left; margin-left:90px;'>COVID-Dataset</h3>\"), VBox(children=…"
         },
         "metadata": {},
         "output_type": "display_data"
        },
        {
         "data": {
          "application/vnd.jupyter.widget-view+json": {
           "model_id": "4c5284f4fcfe438f96add3e011b719c8",
           "version_major": 2,
           "version_minor": 0
          },
          "text/plain": "Output()"
         },
         "metadata": {},
         "output_type": "display_data"
        }
       ]
      }
     },
     "943e5f0d894747469a4425d2a2d20582": {
      "model_module": "@jupyter-widgets/controls",
      "model_module_version": "2.0.0",
      "model_name": "HTMLModel",
      "state": {
       "layout": "IPY_MODEL_4f6ec8bd6f4743989e121ed92c129e92",
       "style": "IPY_MODEL_68e71b0022d34788b07d78bc8cf009c3",
       "value": "<h3 style='text-align:left; margin-left:90px;'>Download RIVM-data</h3>"
      }
     },
     "9773e5b1b2644059920c308d88dfd7a8": {
      "model_module": "@jupyter-widgets/controls",
      "model_module_version": "2.0.0",
      "model_name": "DropdownModel",
      "state": {
       "_options_labels": [
        "2020",
        "2021",
        "2022",
        "2023",
        "2024"
       ],
       "description": "Year:",
       "index": 0,
       "layout": "IPY_MODEL_6c133067ab6d4b6d99aceaf3939d8610",
       "style": "IPY_MODEL_e14de54bd9184985978023b33878681f"
      }
     },
     "a033a33fed3a4df98517d90ae8fa0829": {
      "model_module": "@jupyter-widgets/controls",
      "model_module_version": "2.0.0",
      "model_name": "DropdownModel",
      "state": {
       "_options_labels": [
        "Provinces",
        "Municipalities"
       ],
       "description": "Level:",
       "index": 0,
       "layout": "IPY_MODEL_4b69ba00872e4d90b88fcf6b9daea783",
       "style": "IPY_MODEL_f3e4b81e27bc4b00980a2e0413161c5d"
      }
     },
     "a1fb2f325aa44ce6a8ea625d2776bdeb": {
      "model_module": "@jupyter-widgets/base",
      "model_module_version": "2.0.0",
      "model_name": "LayoutModel",
      "state": {}
     },
     "a2f652a9f5b243b39dcf70963284ddbf": {
      "model_module": "@jupyter-widgets/base",
      "model_module_version": "2.0.0",
      "model_name": "LayoutModel",
      "state": {}
     },
     "a4032dd40ef04049b84fce3478e7cc27": {
      "model_module": "@jupyter-widgets/base",
      "model_module_version": "2.0.0",
      "model_name": "LayoutModel",
      "state": {}
     },
     "a4fea04d5cd84ecf914b183a8abb97c9": {
      "model_module": "@jupyter-widgets/output",
      "model_module_version": "1.0.0",
      "model_name": "OutputModel",
      "state": {
       "layout": "IPY_MODEL_bc0c1d2d231644cc826ec37a27475294",
       "outputs": [
        {
         "data": {
          "application/vnd.jupyter.widget-view+json": {
           "model_id": "4e9a99fe53154fcebe9a1fcead947e13",
           "version_major": 2,
           "version_minor": 0
          },
          "text/plain": "VBox(children=(HTML(value=\"<h3 style='text-align:left; margin-left:90px;'>Download RIVM-data</h3>\"), Button(bu…"
         },
         "metadata": {},
         "output_type": "display_data"
        }
       ]
      }
     },
     "ab81cabb3d724961a9bdd7056bb0abea": {
      "model_module": "@jupyter-widgets/base",
      "model_module_version": "2.0.0",
      "model_name": "LayoutModel",
      "state": {}
     },
     "ad6ed44c3eee4e6ba6edd0f5a131420e": {
      "model_module": "@jupyter-widgets/base",
      "model_module_version": "2.0.0",
      "model_name": "LayoutModel",
      "state": {}
     },
     "af105a9a58d14d9fa111c6642893b011": {
      "model_module": "@jupyter-widgets/controls",
      "model_module_version": "2.0.0",
      "model_name": "DescriptionStyleModel",
      "state": {
       "description_width": ""
      }
     },
     "b0ce4c157dac42449f72a16074de8089": {
      "model_module": "@jupyter-widgets/base",
      "model_module_version": "2.0.0",
      "model_name": "LayoutModel",
      "state": {}
     },
     "b249152e3a3f43b19cd15b579526ad91": {
      "model_module": "@jupyter-widgets/controls",
      "model_module_version": "2.0.0",
      "model_name": "ButtonModel",
      "state": {
       "button_style": "success",
       "description": "Download datasets",
       "layout": "IPY_MODEL_76aa3cbd935c425baa463166f04b0e3e",
       "style": "IPY_MODEL_f374de5043694af793af45871be97b35",
       "tooltip": null
      }
     },
     "b531e0be52284355a468844584896166": {
      "model_module": "@jupyter-widgets/base",
      "model_module_version": "2.0.0",
      "model_name": "LayoutModel",
      "state": {}
     },
     "b862593d51264d27b259b453821ac40c": {
      "model_module": "@jupyter-widgets/controls",
      "model_module_version": "2.0.0",
      "model_name": "CheckboxStyleModel",
      "state": {
       "description_width": ""
      }
     },
     "bb49b7d9acf44c6c8f0775fafb95ae1f": {
      "model_module": "@jupyter-widgets/controls",
      "model_module_version": "2.0.0",
      "model_name": "CheckboxModel",
      "state": {
       "description": "Hospital admission",
       "disabled": false,
       "layout": "IPY_MODEL_34842350831a4541bf28c0ad151f9892",
       "style": "IPY_MODEL_d8d8cc4fc5aa40af92773f4e3fcb2672",
       "value": true
      }
     },
     "bc0c1d2d231644cc826ec37a27475294": {
      "model_module": "@jupyter-widgets/base",
      "model_module_version": "2.0.0",
      "model_name": "LayoutModel",
      "state": {}
     },
     "c208da03806e4597b7e4a24f0d5cca32": {
      "model_module": "@jupyter-widgets/base",
      "model_module_version": "2.0.0",
      "model_name": "LayoutModel",
      "state": {}
     },
     "d436fd3dc7264780bc01ce0155a3a88a": {
      "model_module": "@jupyter-widgets/output",
      "model_module_version": "1.0.0",
      "model_name": "OutputModel",
      "state": {
       "layout": "IPY_MODEL_ab81cabb3d724961a9bdd7056bb0abea",
       "outputs": [
        {
         "data": {
          "application/vnd.jupyter.widget-view+json": {
           "model_id": "57fa8199e1a943e99d604928817c8ae1",
           "version_major": 2,
           "version_minor": 0
          },
          "text/plain": "VBox(children=(HTML(value=\"<h3 style='text-align:left; margin-left:90px;'>Covid Heatmap Provinces</h3>\"), Drop…"
         },
         "metadata": {},
         "output_type": "display_data"
        },
        {
         "data": {
          "application/vnd.jupyter.widget-view+json": {
           "model_id": "51c050f05b3b4f49a106d808e3eb202b",
           "version_major": 2,
           "version_minor": 0
          },
          "text/plain": "Output()"
         },
         "metadata": {},
         "output_type": "display_data"
        }
       ]
      }
     },
     "d57583ed28004644921460d8d20d67de": {
      "model_module": "@jupyter-widgets/base",
      "model_module_version": "2.0.0",
      "model_name": "LayoutModel",
      "state": {}
     },
     "d57b5ee091314311a925472f79eb9221": {
      "model_module": "@jupyter-widgets/base",
      "model_module_version": "2.0.0",
      "model_name": "LayoutModel",
      "state": {}
     },
     "d8d8cc4fc5aa40af92773f4e3fcb2672": {
      "model_module": "@jupyter-widgets/controls",
      "model_module_version": "2.0.0",
      "model_name": "CheckboxStyleModel",
      "state": {
       "description_width": ""
      }
     },
     "da6c7ddc558048379ad717d542c3c093": {
      "model_module": "@jupyter-widgets/controls",
      "model_module_version": "2.0.0",
      "model_name": "CheckboxStyleModel",
      "state": {
       "description_width": ""
      }
     },
     "e14de54bd9184985978023b33878681f": {
      "model_module": "@jupyter-widgets/controls",
      "model_module_version": "2.0.0",
      "model_name": "DescriptionStyleModel",
      "state": {
       "description_width": ""
      }
     },
     "e2dd0196e8f04c8e874b4f8755b3ccb8": {
      "model_module": "@jupyter-widgets/controls",
      "model_module_version": "2.0.0",
      "model_name": "DescriptionStyleModel",
      "state": {
       "description_width": ""
      }
     },
     "e5155412f6dd422aa33ac5514778841b": {
      "model_module": "@jupyter-widgets/controls",
      "model_module_version": "2.0.0",
      "model_name": "HTMLModel",
      "state": {
       "layout": "IPY_MODEL_3ad84161614f4d6eb830d2cbb04c6afc",
       "style": "IPY_MODEL_344032520bad45738b96107c897a8b90",
       "value": "<h3 style='text-align:left; margin-left:90px;'>COVID-Dataset</h3>"
      }
     },
     "e59ce074c8b94ecd86685dd4d904bc2f": {
      "model_module": "@jupyter-widgets/controls",
      "model_module_version": "2.0.0",
      "model_name": "CheckboxModel",
      "state": {
       "description": "Months",
       "disabled": false,
       "layout": "IPY_MODEL_ad6ed44c3eee4e6ba6edd0f5a131420e",
       "style": "IPY_MODEL_0983b090ca5748b1a0c945290ce057be",
       "value": false
      }
     },
     "f226450d1f954c94b7c43e899f5239e4": {
      "model_module": "@jupyter-widgets/controls",
      "model_module_version": "2.0.0",
      "model_name": "DescriptionStyleModel",
      "state": {
       "description_width": ""
      }
     },
     "f374de5043694af793af45871be97b35": {
      "model_module": "@jupyter-widgets/controls",
      "model_module_version": "2.0.0",
      "model_name": "ButtonStyleModel",
      "state": {
       "font_family": null,
       "font_size": null,
       "font_style": null,
       "font_variant": null,
       "font_weight": null,
       "text_color": null,
       "text_decoration": null
      }
     },
     "f3e4b81e27bc4b00980a2e0413161c5d": {
      "model_module": "@jupyter-widgets/controls",
      "model_module_version": "2.0.0",
      "model_name": "DescriptionStyleModel",
      "state": {
       "description_width": ""
      }
     },
     "f8dcb7f611ff4b1e962b4e985a719d01": {
      "model_module": "@jupyter-widgets/controls",
      "model_module_version": "2.0.0",
      "model_name": "CheckboxModel",
      "state": {
       "description": "Total reported",
       "disabled": false,
       "layout": "IPY_MODEL_d57b5ee091314311a925472f79eb9221",
       "style": "IPY_MODEL_da6c7ddc558048379ad717d542c3c093",
       "value": true
      }
     },
     "fe845d4bdda341e1b6ac94fd9a491345": {
      "model_module": "@jupyter-widgets/controls",
      "model_module_version": "2.0.0",
      "model_name": "CheckboxModel",
      "state": {
       "description": "Deceased",
       "disabled": false,
       "layout": "IPY_MODEL_a4032dd40ef04049b84fce3478e7cc27",
       "style": "IPY_MODEL_b862593d51264d27b259b453821ac40c",
       "value": true
      }
     },
     "ff798435e35f4739a312aa1ffcc7b0df": {
      "model_module": "@jupyter-widgets/base",
      "model_module_version": "2.0.0",
      "model_name": "LayoutModel",
      "state": {}
     }
    },
    "version_major": 2,
    "version_minor": 0
   }
  }
 },
 "nbformat": 4,
 "nbformat_minor": 5
}
